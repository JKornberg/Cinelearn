{
 "cells": [
  {
   "cell_type": "code",
   "execution_count": 18,
   "metadata": {},
   "outputs": [],
   "source": [
    "import openai\n",
    "import os\n",
    "openai.api_key = os.getenv(\"JEFF_OPENAI_KEY\")\n",
    "import pandas as pd\n",
    "from lxml import etree\n",
    "import numpy as np\n",
    "from utilities import transcript_to_df, df_to_text, split_df_segments\n",
    "%reload_ext autoreload\n",
    "%autoreload 2"
   ]
  },
  {
   "cell_type": "code",
   "execution_count": 19,
   "metadata": {},
   "outputs": [],
   "source": [
    "path = \"transcripts/raw/communitys1e1.txt\"\n",
    "path_english =  \"transcripts/raw/communitys1e1_english.txt\"\n",
    "tree = etree.parse(path)\n",
    "root = tree.getroot()\n",
    "namespaces = root.nsmap\n",
    "# Find all the <p> elements\n",
    "p_elements = root.findall(\".//tt:p\", namespaces)\n"
   ]
  },
  {
   "cell_type": "code",
   "execution_count": 20,
   "metadata": {},
   "outputs": [],
   "source": [
    "df_spanish = transcript_to_df(path, merge_time=True)\n",
    "df_spanish\n",
    "\n",
    "df_english = transcript_to_df(path_english, merge_time=True)"
   ]
  },
  {
   "cell_type": "code",
   "execution_count": 17,
   "metadata": {},
   "outputs": [
    {
     "data": {
      "text/plain": [
       "'1. PELTON: Good morning.\\n2. Many of you are halfway through\\n3. your first week here at Greendale, and as your dean,\\n4. I thought I would share\\n5. a few thoughts of wisdom and inspiration.\\n6. What is community college?\\n7. Well, you\\'ve heard all kinds of things.\\n8. You\\'ve heard it\\'s loser college for remedial teens,\\n9. 20-something dropouts,\\n10. middle-aged divorcees,\\n11. and old people keeping their minds active\\n12. as they circle the drain of eternity.\\n13. That\\'s what you\\'ve heard.\\n14. However, I wish you luck.\\n15. Okay, you know-- Uh-oh.\\n16. There\\'s more to this speech.\\n17. There\\'s a middle card that\\'s missing.\\n18. Can we look around our immediate areas?\\n19. Because I really wanted to--\\n20. I\\'m only half Arabic. My dad is Palestinian.\\n21. He\\'s a U.S. citizen, he\\'s not a threat to national security.\\n22. A lot of people wanna know that because he has an angry energy.\\n23. But not angry at America, angry at my mom for leaving.\\n24. She did leave because he was angry\\n25. and he was angry because she\\'s American.\\n26. My name\\'s Abed. Abed, nice to know you\\n27. and then meet you, in that order.\\n28. Now about that question that I had? Oh, uh--\\n29. Five after 11 when you asked.\\n30. Abed. Yeah.\\n31. What\\'s the deal with the hot girl\\n32. from Spanish class? I can\\'t find a road in there.\\n33. I talked to her once while she was borrowing a pencil.\\n34. But her name is Britta, 28, birthday in October.\\n35. Has two older brothers. One works with children\\n36. who have a disorder I might look up.\\n37. She thinks she\\'s gonna flunk tomorrow\\'s test.\\n38. She needs to focus. She\\'s sorry if that makes her seem cold.\\n39. Holy crap. Abed, I see your value now.\\n40. That\\'s the nicest thing anyone\\'s ever said to me.\\n41. DUNCAN: Jeff Winger,\\n42. genius at law.\\n43. You gotta stop saying that.\\n44. I will never do that. Sit down. Sit down.\\n45. So, what is my lawyer doing here?\\n46. I\\'m a student.\\n47. Well, that cannot be an inspiring journey.\\n48. Uh, I am in a bit of a jam.\\n49. The state bar has suspended my license.\\n50. They found out my college degree was less than legitimate.\\n51. You had a bachelor\\'s from Columbia?\\n52. Now I have to get one from America.\\n53. It can\\'t be an e-mail attachment.\\n54. Well, you\\'ve picked a fine school.\\n55. Yes. And I\\'m hoping\\n56. that our friendship will yield certain advantages.\\n57. You know, academic guidance. Yes.\\n58. Moral support.\\n59. Every answer to every test\\n60. for every one of the classes that I\\'m taking.\\n61. Here\\'s my schedule. Now, Jeff, just by asking that\\n62. you have insulted the integrity of this entire institution. Oi.\\n63. Waster. Not a bathroom. Not a bathroom.\\n64. Okay. Duncan, you did seem less into integrity\\n65. the day that I convinced 12 of your peers\\n66. that when you made that U-turn on the freeway\\n67. and tried to order chalupas from the emergency call box\\n68. that your only real crime was loving America.\\n69. I\\'ll look into it. Thank you.\\n70. Duncan, you are a good man.\\n71. Jeff, are you familiar with the adage\\n72. \"Cheaters never prosper\"?\\n73. No. And if I wanted to learn something,\\n74. I wouldn\\'t have come to community college.\\n75. [♪♪♪]\\n76. Oh, hey, Spanish. Yeah, don\\'t hit on me, okay?\\n77. Whoa. Uh, I wouldn\\'t dream of it.\\n78. I just wanted to let you know about my Spanish study group.\\n79. Oh, whoa, whoa. The guy playing \"Bejeweled\"\\n80. on his iPhone all class has a study group?\\n81. Can I sign up twice?\\n82. I\\'m taking the class as an easy credit.\\n83. I\\'m actually a Spanish tutor. Board certified.\\n84. Can you say that in Spanish now?\\n85. [IN SPANISH]\\n86. I really need help with Spanish.\\n87. I was willing to bet. I\\'m Jeff.\\n88. Or\\n89. We meet at the library at 4.\\n90. Yeah. Britta. Thanks.\\n91. [♪♪♪]\\n92. [SPEAKING IN SPANISH]\\n93. [SPEAKS IN SPANISH]\\n94. Hey, all right, come on in.\\n95. I rented the table.\\n96. Yeah, here\\'s the, uh, contact sheet.\\n97. Just put your stuff there. That\\'s--\\n98. Man, the rest of the group is running late.\\n99. But you and I can get acquainted.\\n100. You may have noticed this morning,\\n101. not so good at small talk. Yeah. I like big talk.\\n102. What\\'s your deal? That\\'s not small talk?\\n103. What\\'s your deal, and is God dead?\\n104. All right, you wanna know my deal?\\n105. Mm. My deal is,\\n106. above all else, honesty.\\n107. Honesty. Yeah.\\n108. You tell the truth, I\\'ll like you.\\n109. You lie to me, I will never talk to you again.\\n110. That\\'s a good deal. So, what\\'s your deal?\\n111. Uh-- I would have to go--\\n112. I would have to say, um, honesty.\\n113. Because I would say anything to get what I want,\\n114. and I want you to like me. So, uh...\\n115. Well, that\\'s a very honest answer.\\n116. For now, I like you fine.\\n117. Really? Wow. You\\'re easy. Hell, yeah.\\n118. Abed. In the house.\\n119. Whoo! Whoo! Whoo! Whoo!\\n120. Whoo. Why?\\n121. Britta invited me. Is that cool?\\n122. Oh, I can\\'t think of a single logical reason why not.\\n123. ABED: Cool. JEFF: There you go.\\n124. Put your info down right there.\\n125. Cool, cool, cool. Cool, cool, cool.\\n126. Hey, this is kind of like Breakfast Club,\\n127. We are in a library.\\n128. I\\'m sure we\\'ve each got an issue balled up inside\\n129. that would make us cry if we talked about it.\\n130. Do you have something balled up inside you?\\n131. I got doozy in the chamber if things get emotional.\\n132. [CELL PHONE CHIMES]\\n133. Hey, text message.\\n134. Let\\'s give this bad boy a read.\\n135. Uh, er, it\\'s probably-- It\\'s just for your eyes.\\n136. \"Say you have to pee. I need to talk to you.\"\\n137. \"Say you have to pee.\" That is weird.\\n138. Do you have to pee?\\n139. No. That\\'s so weird. Hmm.\\n140. Well, I\\'m stumped. That\\'s very creepy.\\n141. [CELL PHONE CHIMES] That makes two of us.\\n142. BRITTA: What\\'s that?\\n143. ABED: Does it say you have to pee?\\n144. It\\'s just someone with misguided grasp of abbreviation.\\n145. I just need five minutes.\\n146. So go ahead and study all the verbs in Spanish.\\n147. [WHISPERS] Spanish.\\n148. [♪♪♪]\\n149. Suppose I was to say to you\\n150. it was possible to get those test answers.\\n151. I would say go for that.\\n152. And could have said so in a text.\\n153. I\\'m asking if you know the difference\\n154. between right and wrong.\\n155. I discovered at a very early age that if I talked long enough,\\n156. I could make anything right or wrong.\\n157. So either I\\'m God or truth is relative,\\n158. and in either case, booyah. Oh. Interesting.\\n159. It\\'s just, the average person has harder time saying booyah\\n160. to moral relativism.\\n161. You don\\'t have to play shrink to protect your pride.\\n162. I accept you\\'re chicken.\\n163. I\\'m a professor. You can\\'t talk to me that way.\\n164. A 6-year-old girl could talk to you that way.\\n165. Yes, because that would be adorable.\\n166. No, because you\\'re a 5-year-old girl,\\n167. and there\\'s a pecking order.\\n168. Fine, I\\'ll do it. Thank you.\\n169. Yeah, with pleasure. Bye.\\n170. Yes, good.\\n171. Why am I still shouting? I\\'m drawing attention to myself.\\n172. You guys aren\\'t gonna believe this,\\n173. but the rest of the group--\\n174. Is here.\\n175. Are you the board-certified tutor?\\n176. That means you do my homework, right, Seacrest?\\n177. I need to call my babysitter if we gonna be late.\\n178. What board certifies a tutor? Where\\'s Britta?\\n179. Not sure. I invited people from Spanish class.\\n180. Is that cool? It\\'s the coolest.\\n181. I\\'m gonna go to the bathroom.\\n182. And bring my jacket, wallet and keys with me\\n183. in case there\\'s a fire.\\n184. Should we go with him?\\n185. Gonna leave my homework with Slumdog Millionaire.\\n186. SHIRLEY: That\\'s borderline racist.\\n187. [♪♪♪]\\n188. And busted.\\n189. Listen.\\n190. Now you know. I\\'m a smoker.\\n191. Yeah, but they\\'re filtered, so that makes them safe.\\n192. You ready to get started? Looks like your group showed up.\\n193. Not mine. I think Abed took out a page on Craigslist.\\n194. And I was trained never to say this,\\n195. but I think that group may be untutorable.\\n196. Oh, really?\\n197. Why don\\'t you and I go study over--\\n198. Dinner? Or drinks.\\n199. I think, actually, we should prioritize here\\n200. and study first and then go to dinner.\\n201. And if they really prove to be untutorable,\\n202. we\\'ll slip out early.\\n203. Oh, they will be untutorable.\\n204. [♪♪♪]\\n205. [♪♪♪]\\n206. JEFF: All right. Look at this crew.\\n207. All ready to study all night.\\n208. I can stay till 10.\\n209. But who studies with strangers, right?\\n210. My name is Jeff.\\n211. Jeff, it\\'s a pleasure. My name is Pierce Hawthorne.\\n212. And, yes, that is Hawthorne as in Hawthorne Wipes,\\n213. the award-winning moist towelette.\\n214. I was just gonna ask.\\n215. I\\'m a Toastmaster. I should do the introductions.\\n216. JEFF: Definitely. You know Brittles.\\n217. Britta. Abed. Abed the Arab.\\n218. Is that inappropriate? Sure.\\n219. Roy, Roy, the wonder boy-- Troy.\\n220. Little princess Elizabeth-- Annie.\\n221. And this beautiful creature is named Shirley.\\n222. Is that even close?\\n223. ANNIE: I\\'d like to know why I had to find out\\n224. about this group on accident.\\n225. Way more like\\n226. There\\'s breakfast? We should get started--\\n227. I\\'ve been a part of a lot of study groups that fell apart\\n228. because of unresolved tension.\\n229. Shouldn\\'t we address Annie\\'s concern? Did we not invite her?\\n230. Well, Annie, sweetie, it\\'s not behind your back.\\n231. Can we stop with the \"pumpkins\" and the \"sweeties\"?\\n232. Being younger does not make me inferior.\\n233. if anything, your age indicates\\n234. that you\\'ve made bad life decisions.\\n235. Shirley has a response. No, no, no. Don\\'t.\\n236. It looks like you do. Shirley, go ahead.\\n237. Okay, okay.\\n238. I\\'m sure I\\'ve made some bad life decisions.\\n239. And maybe Annie\\'s decisions will be better.\\n240. I think she needs to decide\\n241. whether she wants to be considered a child or an adult,\\n242. because children get pity,\\n243. but not respect, and adults, they get respect.\\n244. They also get their head grabbed and pushed through jukeboxes.\\n245. Okay. Why don\\'t we try learning \"jukebox\" in Spanish?\\n246. What are you doing? JEFF: Pierce.\\n247. Let\\'s discuss this creepiness. Pardon you?\\n248. What are you doing? I\\'m certified.\\n249. Are you unaware\\n250. that Shirley finds your advances inappropriate?\\n251. What advances?\\n252. You have been sexually harassing me\\n253. since the very first day of class.\\n254. Sexually harassing?\\n255. What--? That makes no sense to me.\\n256. Why would I harass somebody who turns me on?\\n257. Saying she turns you on is the harassment, dude.\\n258. Hey.\\n259. I am a prominent business leader\\n260. and a highly sought-after dinner guest.\\n261. And I will not take courting advice\\n262. from some teenage boy.\\n263. This teenage boy is a quarterback and prom king.\\n264. You\\'re not prom king anymore, Troy.\\n265. This isn\\'t Riverside High. How\\'d you know I went there?\\n266. Because you\\'re still wearing your stupid letter jacket,\\n267. Were you that girl that got hooked on pills and dropped out?\\n268. You\\'re little Annie Adderall.\\n269. And you\\'re a stupid jock who lost his scholarship\\n270. by dislocating both shoulders in a keg stand.\\n271. Keg flip. Very hard to pull off.\\n272. ANNIE: Don\\'t talk to me. You don\\'t know-- I\\'m a legend.\\n273. [GROUP ARGUING]\\n274. You know what I got for Christmas?\\n275. It was a banner year at the Bender family.\\n276. I got a carton of cigarettes.\\n277. The old man grabbed me. He said,\\n278. \"Hey, smoke up, Johnny.\"\\n279. No, Dad, what about you?\\n280. Well, that actually was from The Breakfast Club.\\n281. Nobody puts Baby in the corner.\\n282. [CELL PHONE RINGING]\\n283. Dirty Dancing.\\n284. DUNCAN [IN DEEP VOICE]: It\\'s Professor Duncan.\\n285. Come to the parking lot now.\\n286. What\\'s wrong with your voice?\\n287. I\\'m disguising it. [PHONE BEEPS]\\n288. I\\'ll be right back. But while I\\'m gone,\\n289. you guys need to hash this stuff out.\\n290. No stone unturned. Go.\\n291. [GROUP CHATTERING]\\n292. [♪♪♪]\\n293. Every answer to every test\\n294. in your curriculum this semester.\\n295. I knew you could do it, buddy. Thank you.\\n296. Whoa, there, grabby grabby.\\n297. What do I get?\\n298. The satisfaction of being even.\\n299. Even, fairness, right, wrong. There is no God.\\n300. Booyah, booyah. What do you want from me?\\n301. Your Lexus.\\n302. My car for a semester\\'s worth of answers?\\n303. Will it be just a semester, though, Jeff?\\n304. Won\\'t you be taking the easy way out\\n305. for the next four years?\\n306. I want payment in advance.\\n307. I want leather seats with built-in ball warmers.\\n308. You know, bluffs this weak\\n309. are how your people lost the colonies.\\n310. Have a nice disbarment hearing.\\n311. What am I supposed to drive?\\n312. Take this car. It\\'s good for the Earth.\\n313. So is wiping your butt with a leaf,\\n314. but it\\'s not how a man gets around.\\n315. JEFF: Golf cart.\\n316. [GROUP ARGUING]\\n317. It is a disaster in there.\\n318. Yeah. Untutorable.\\n319. You like Thai food? I love Thai food.\\n320. Wait. So this is a game to you?\\n321. You put human beings into a state of emotional shambles\\n322. for a shot at getting in my pants?\\n323. Why can\\'t you see that for the compliment that it is?\\n324. You\\'re unbelievable. What do you want me to do?\\n325. Maybe one decent thing could be to go in there\\n326. and clean up your mess.\\n327. TROY: I\\'m the Barack Obama of this room.\\n328. Okay, if I do that, then dinner, right?\\n329. [SCOFFS]\\n330. Yeah, fine, whatever. As if there\\'s a dinner on earth\\n331. that could make me forget you are a shallow douche bag.\\n332. Oh, you\\'re gonna eat those words when you see my new car.\\n333. [♪♪♪]\\n334. [GROUP ARGUING] All right, everybody!\\n335. I wanna say something. Sit down.\\n336. Well, you don\\'t have to yell.\\n337. What makes humans different from other animals?\\n338. Feet.\\n339. No, no. Come on, bears have feet.\\n340. We\\'re the only species on earth\\n341. that observes \"Shark Week.\"\\n342. Sharks don\\'t even observe \"Shark Week,\" but we do.\\n343. For the same reason I can pick up this pencil,\\n344. tell you it\\'s name is Steve\\n345. and go like this. Oh.\\n346. JEFF: And part of you dies\\n347. just a little bit on the inside.\\n348. Because people can connect with anything.\\n349. We can sympathize with a pencil,\\n350. we can forgive a shark,\\n351. and we can give Ben Affleck\\n352. an Academy Award for screenwriting.\\n353. PIERCE: Big mistake.\\n354. People can find the good\\n355. in just about anything but themselves.\\n356. Look at me. It\\'s clear to all of you that I am awesome.\\n357. But I could never admit that. That would make me an ass.\\n358. But what I can do is see what makes Annie awesome.\\n359. She\\'s driven.\\n360. We need driven people,\\n361. or the lights go out and the ice cream melts.\\n362. And Pierce, we need guys like Pierce.\\n363. This guy has wisdom to offer. The Dalai Lama and I--\\n364. JEFF: We should listen to him. We wouldn\\'t regret it.\\n365. And Shirley, Shirley has earned our respect.\\n366. Not as a wife, not as a mother, but as a woman.\\n367. Don\\'t test her on that,\\n368. because that thing about the jukebox\\n369. was too specific to be improvised.\\n370. And Troy.\\n371. Who cares if Troy thinks he\\'s all that?\\n372. Maybe he is.\\n373. And Abed. Abed\\'s a shaman.\\n374. You ask him to pass the salt, he gives you a bowl of soup.\\n375. Because you know what, soup is better.\\n376. Abed is better.\\n377. You are all better than you think you are.\\n378. You are just designed not to believe it\\n379. when you hear it from yourself.\\n380. Soup?\\n381. Look to the person to your left.\\n382. Sorry. Look at the person sitting next to you.\\n383. SHIRLEY: Look at her. Okay.\\n384. This--? JEFF: Yeah.\\n385. I want you to extend to that person\\n386. the same compassion you extend\\n387. to sharks, pencils and Ben Affleck.\\n388. I want you to say to that person,\\n389. \"I forgive you.\"\\n390. BOTH: I forgive you.\\n391. I forgive you. I forgive you.\\n392. You little twerp.\\n393. JEFF: Pierce, I\\'d like you to say, \"I forgive you.\"\\n394. He didn\\'t say it? I forgive you.\\n395. You\\'ve just stopped being a study group.\\n396. You have become something unstoppable.\\n397. I hereby pronounce you a community.\\n398. Oh, that\\'s nice. I like that.\\n399. [♪♪♪]\\n400. This isn\\'t like anymore.\\n401. It\\'s Anything with Bill Murray.\\n402. I agree with Abed that tonight has been very special.\\n403. And now, if you\\'ll excuse me,\\n404. I have a dinner engagement with Britta.\\n405. Britta? I lied.\\n406. Thanks for calming everyone down.\\n407. But since you\\'re not a Spanish tutor,\\n408. just a lying creep who purposely upset everyone\\n409. in an attempt to get with me, I\\'d appreciate it if you left\\n410. and stopped wasting all of our time.\\n411. Everybody ready? Fine.\\n412. And I\\'m happy to report\\n413. that one of the benefits of being a lying creep\\n414. is having all the answers to tomorrow\\'s test.\\n415. And I\\'m happy to share them with anyone whose time I wasted\\n416. more than they wasted mine.\\n417. Jeff, if you have all the answers,\\n418. why the hell did you start this study group?\\n419. I don\\'t have a study group. I made it up.\\n420. What about the speech? JEFF: That\\'s what I do.\\n421. I make things up.\\n422. And I got paid a lot of money to do it.\\n423. Before I came to this school-shaped toilet,\\n424. I was a lawyer. [ALL GROAN]\\n425. SHIRLEY: Oh, man, this ruins everything.\\n426. I thought you\\'re like Bill Murray.\\n427. But you\\'re more like Michael Douglas.\\n428. Yeah? Well, you have Asperger\\'s.\\n429. [ANNIE GASPS]\\n430. What does that mean?\\n431. Ha, ha. Ass burger.\\n432. It\\'s a serious disorder. It really is.\\n433. If it\\'s so serious, why don\\'t they call it meningitis?\\n434. Heh, heh. Yeah. Heh, heh.\\n435. Ass burger. Burger for your ass.\\n436. [♪♪♪]\\n437. [CHUCKLES]\\n438. Before you say anything,\\n439. you might wanna think about the gift you\\'ve given.\\n440. An excuse to punch a hippy? No. No, not that.\\n441. An important lesson.\\n442. You see, the tools you acquired to survive out there\\n443. will not help you here at Greendale.\\n444. What you have, my friend,\\n445. is a second chance at an honest life.\\n446. Give me my keys.\\n447. No, I have to keep your car for the lesson.\\n448. Please don\\'t hit me.\\n449. Jeffrey? Jeffrey?\\n450. Are we cool? Are we cool?\\n451. PIERCE: I like you, Jeffrey.\\n452. You remind me of myself at your age.\\n453. I deserve that.\\n454. You know I\\'ve been divorced seven times?\\n455. Sometimes I think I\\'m doing something wrong.\\n456. You keep getting married.\\n457. I never looked at it that way.\\n458. Shouldn\\'t you guys be studying?\\n459. Yeah, things got kind of boring after you left.\\n460. Shouldn\\'t you be rolling around\\n461. on a bed covered in test answers?\\n462. I don\\'t have any of the answers. I\\'m gonna flunk the test.\\n463. If you just, like, study for an hour, it\\'s not that hard.\\n464. You seem pretty smart. You got a sports coat.\\n465. Well, the funny thing about being smart\\n466. is you can get through most of life\\n467. without having to do work.\\n468. So I\\'m not really sure how to do that.\\n469. [MOUTHING WORDS]\\n470. [MOUTHING] Please? So sad?\\n471. [MOUTHING] He makes me wanna:\\n472. What\\'s going on?\\n473. Can you guys hear me? Am I deaf?\\n474. Can you hear me talking right now? Yes.\\n475. That\\'s good.\\n476. You know what? Jeff, actually,\\n477. we didn\\'t get that far without you.\\n478. So if you wanna come back upstairs--\\n479. Really?\\n480. Well, it is your study group, so--\\n481. Come on, let\\'s study. Sounds good.\\n482. SHIRLEY: Come on. Pressure.\\n483. [THE 88\\'S \"DON\\'T YOU FORGET ABOUT ME\" PLAYING]\\n484. ♪ Will you walk on by? ♪\\n485. I\\'m sorry I called you Michael Douglas.\\n486. And I see your value now.\\n487. ♪ Come on, call my name ♪\\n488. That\\'s the nicest thing anyone\\'s ever said to me.\\n489. ♪ I say, la La la la ♪\\n490. ♪ La, la, la, la ♪\\n491. ♪ La, la, la, la, la La, la, la ♪\\n492. ♪ La, la, la, la, la ♪\\n493. ♪ La, la, la, la ♪\\n494. [♪♪♪]'"
      ]
     },
     "execution_count": 17,
     "metadata": {},
     "output_type": "execute_result"
    }
   ],
   "source": [
    "df_to_text(df_english, index=True)"
   ]
  },
  {
   "cell_type": "code",
   "execution_count": 5,
   "metadata": {},
   "outputs": [
    {
     "name": "stdout",
     "output_type": "stream",
     "text": [
      "Below is the transcript for a netflix show. You are a Spanish teacher for english-speaking students. Identify useful expressions for beginner spanish speakers to learn from the transcript. List the best 10 examples along with their english translation separated by a \"|\" character. Each example should be an independent phrase and you can break sentences up to make the vocabulary more useful. List 10 examples in the format:\n",
      " 1. <Spanish> | <English>\n",
      "[TRANSCRIPT]\n",
      "UNIVERSIDAD COMUNITARIA DE GREENDALE Buenos días. Muchos están a mitad de su primera semana y como su decano, quiero compartirles ¿Qué es la universidad comunitaria? Que es una universidad los de veintitantos que abandonaron, divorciados de edad media, y viejitos manteniendo activas sus mentes al circular por la alcantarilla de la eternidad. Es lo que han oído. Aun así, les deseo suerte. Bueno, ya saben... Había más discurso. Se me perdió una tarjeta. ¿Podemos buscarla? Porque de veras quería... Sólo soy mitad árabe. Mi papá es palestino. Ciudadano americano, no amenaza a la seguridad. Me preguntan porque tiene una energía de ira. No es con el país, es con mi mamá por irse. Se fue porque estaba furioso. Me llamo Abed, por cierto. Abed, me da gusto conocerte ¿Y sobre la pregunta que tenía? Las 11:05 cuando preguntaste. -Abed. ¿Qué onda con la sexy de la clase de español? No encuentro un camino ahí. Sólo le hablé una vez cuando me pidió un lápiz. Su nombre es Britta, tiene 28, cumple en octubre. Un hermano trabaja con niños Reprobará el examen mañana. No se concentra. Y lamenta si eso la hace parecer fría. Santo dios. Abed, ahora veo tu valor. Es lo más amable que jamás me han dicho. CIENCIAS HUMANAS Jeff Winger, genio en derecho. -Deja de decir eso. -¿Qué hace mi abogado aquí? Pues no puede ser un viaje inspirador. Tengo un pequeño problema. La barra estatal suspendió mi licencia para ejercer. Descubrieron que mi título universitario ¿No era un título de Columbia? Pues ahora necesito uno de Estados Unidos. -Y no puede ser un adjunto de e-mail. Sí. Y espero que nuestra amistad -Orientación académica. Apoyo moral. Las respuestas de cada examen de cada una de las clases que tomaré. -Toma mi horario. has insultado la integridad de la institución entera. Bandido. No es un baño. No es un baño. Bien. Duncan, el día que convencí a 12 jurados que, cuando diste vuelta en U en la calle y ordenaste chalupas tu único delito real fue amar a este país. -Veré qué puedo hacer. Duncan, eres un buen hombre. Jeff, ¿conoces el dicho No. Y si quisiera aprender algo, no hubiera venido a la universidad comunitaria. -Oye, Español. Ni siquiera lo soñaría. Sólo quería contarte de mi grupo ¿El que juega \"Gato\" en su iPhone -¿Me registro dos veces? De hecho soy tutor de español. ¿Ahora puedes decirlo en español? -Necesito mucha ayuda en español. -Nos vemos en la biblioteca a las 4:00. SALÓN DE ESTUDIO EN GRUPO Oye, muy bien, pásale. -Sí. Aquí está la hoja de contacto. Pon ahí tus datos. Es... Hombre, el resto del grupo está muy retrasado. Pero mientras tanto podemos conocernos. Seguro notaste esta mañana, -Ni yo. ¿Háblame de ti? Háblame de ti y de si Dios está muerto. Bueno, ¿quieres saber de mí? Me gusta la sinceridad sobre todo. -La sinceridad. Me mientes, nunca te volveré a hablar. -Bonita forma de ser. Tendría que ir... Tendría que decir, la sinceridad. Porque digo lo que sea y quiero caerte bien. Así que... Pues fue una respuesta sincera. -¿En serio? Eres fácil. Abed. En el lugar. -¿Por? No puedo pensar en una sola razón lógica -Genial. Toma. Escribe tus datos ahí. -Muy bien. Es como Es una biblioteca. Seguro tenemos un problema ¿Tienes algo reprimido dentro? Me pongo un poco loco Oye, mensaje de texto. -Leámoslo. -Es sólo para tus ojos. -\"Di que vas al baño\". -¿Necesitas ir? Pues no entiendo. Eso da miedo. Yo también tengo miedo. -¿Qué es? ¡Pl-t-ca en cancha de futbol ya! No, sólo alguien Necesito cinco minutos. Empiecen y estudien todos los verbos en español. En español. Supón que es posible Diría adelante. Pregunto si sabes la diferencia entre bien y mal. Descubrí a una edad temprana, convierto lo que quiera en bien o mal. O soy Dios o la verdad es relativa, Interesante. La persona promedio del relativismo moral. No le hagas al loquero para proteger tu orgullo. Acepto que eres gallina. Soy profesor. No puedes hablarme así. -Una niña de seis años puede.\n",
      "\n",
      "Below is the transcript for a netflix show. You are a Spanish teacher for english-speaking students. Identify useful expressions for beginner spanish speakers to learn from the transcript. List the best 10 examples along with their english translation separated by a \"|\" character. Each example should be an independent phrase and you can break sentences up to make the vocabulary more useful. List 10 examples in the format:\n",
      " 1. <Spanish> | <English>\n",
      "[TRANSCRIPT]\n",
      "No, porque eres una niña de cinco, -Perfecto, lo haré. Sí, un placer. Adiós. Sí, bueno. ¿Por qué sigo gritando? No creerán esto, pero el resto del grupo... ...está aquí. ¿Eres el tutor certificado? Significa que harás mi tarea, ¿no? Debo hablarle a mi niñera si tardamos. -¿Quién certifica a un tutor? No sé. Invité gente Lo más genial. Voy al baño. Y me llevo mi saco, billetera y llaves, por si hay un incendio. ¿Vamos con él? Dejo mi trabajo con el étnico. Raya en lo racista. Y me pescaron. -Mira... Sí, pero con filtro, así son inofensivos. ¿Estás listo? Parece que ya llegó tu grupo. No es el mío. Y me entrenaron para no decir esto, pero creo que ese grupo no es enseñable. -¿En serio? -¿Durante la cena? Creo que debemos priorizar y estudiar primero y luego ir a cenar. Y si de verdad no son enseñables, De verdad no serán enseñables. Muy bien. Mira este equipo. Listos para estudiar toda la noche. -Puedo quedarme hasta las 10. Me llamo Jeff. Jeff, mucho gusto. Me llamo Pierce Hawthorne. Y, sí, Hawthorne como Toallitas Hawthorne, -las galardonadas toallitas. Soy maestro de ceremonia. Presentaré a todos. -Seguro. -Britta. -¿Eso es inapropiado? -Roy, Roy, el maravilla... -La princesita Elizabeth. Y por último, esta hermosa creatura ¿Siquiera cerca? ¿Por qué encontré este grupo por accidente? Más como -¿Hay un club? He sido parte de grupos que terminaron por tensión no resuelta. ¿Y la preocupación de Annie? ¿No la invitamos? Cielo, no es tras tus espaldas... ¿Podemos dejar los \"cariño\" y los \"cielo\"? Ser joven no me hace inferior. Si acaso, tu edad indica que no has tomado -Shirley tiene una respuesta. -Parece que sí. Bueno, bueno. Seguro he tomado malas decisiones. Y tal vez las decisiones de Annie sean mejores. Creo que debe decidir si quiere ser niña o adulta, porque los niños reciben lástima, no respeto, y los adultos reciben respeto. También les insertan la cabeza en muebles. Bueno. ¿Por qué no aprendemos -¿Qué haces? -Discutamos esta fea situación. -¿Qué haces? ¿Te das cuenta de que Shirley ¿Qué coqueteos? Me acosas sexualmente desde el primer día. ¿Acoso sexual? ¿Qué...? No tiene ningún sentido. ¿Por qué acosaría a alguien que me excita? Decir que te excita es el acoso, amigo. Oye. Soy un prominente comerciante No tomaré consejos de cortejo Pues este adolescente es mariscal de campo Ya no eres rey de nada, Troy. ¿Cómo sabes que fui ahí? Porque sigues usando tu estúpida chamarra... ¿Eres la drogadicta que dejó la escuela? Eres Annie Adderall. Y tú eres un estúpido deportista que perdió su beca por dislocarse -Haciendo una acrobacia muy difícil. No saben... Soy una leyenda. ¿Saben qué me dieron de navidad? Fue un año fabuloso para la familia Bender. Un cartón de cigarrillos. El viejo me agarró. Dijo, \"Fúmale, Johnny\". No, papá, ¿y tú? Bueno, eso salió de Nadie pone a Baby en la esquina. Baile Caliente. -¿Hola? Ven al estacionamiento ahorita. -¿Qué le pasa a tu voz? Ya vuelvo. Pero mientras, No dejen piedra sin voltear. Vamos. La respuesta a cada examen Sabía que podrías, amigo. Gracias. Alto ahí, agarriche, agarriche. -¿Y yo qué obtengo? A mano, justicia, bien, mal. No hay un Dios. ¿Qué quieres de mí? Tu Lexus. ¿Mi auto por un semestre de respuestas? ¿Será sólo un semestre, Jeff? ¿No tomarás el camino fácil Quiero mi pago por adelantado. Asientos de piel con calentadores de entrepierna. Fanfarronadas así hicieron Feliz audiencia de inhabilitación. -¿Y yo qué conduzco? También limpiarse el trasero Carrito de golf. Es un desastre allá adentro. Sí. No son enseñables. Espera. ¿Esto es un juego para ti? ¿Pones humanos para meterte en mi cama? ¿Por qué no ves que es un gran cumplido? -No lo creo. Algo decente sería entrar ahí a limpiar tu tiradero. Bueno, si lo hago, entonces cenamos, ¿verdad? Sí, bueno, da igual. Como si hubiera una cena que me haga olvidar Vas a comerte tus palabras Bueno, todos. Quiero decir algo. Siéntense. No tienes que gritar. No me gusta tu tono. ¿Qué nos distingue de otros animales? -Los pies. Somos la única especie de la Tierra Ni los tiburones la ven, pero nosotros sí.\n",
      "\n",
      "Below is the transcript for a netflix show. You are a Spanish teacher for english-speaking students. Identify useful expressions for beginner spanish speakers to learn from the transcript. List the best 10 examples along with their english translation separated by a \"|\" character. Each example should be an independent phrase and you can break sentences up to make the vocabulary more useful. List 10 examples in the format:\n",
      " 1. <Spanish> | <English>\n",
      "[TRANSCRIPT]\n",
      "Por la misma razón que si agarro este lápiz, y hago esto... Y una parte de ustedes se muere Porque la gente puede conectar con lo que sea. Simpatizar con un lápiz, perdonar a un tiburón y darle a Ben Affleck un Óscar Gran error. La gente encuentra algo bueno en todo Mírenme. Es evidente para todos ustedes Pero yo no puedo admitirlo. Sería insoportable. Pero lo que puedo es ver Necesitamos gente motivada Y Pierce, necesitamos tipos como Pierce. -Tiene sabiduría. Un día lo escucharemos. No nos arrepentiremos. Y Shirley, Shirley se ha ganado nuestro respeto. No como esposa, no como madre, No la prueben, eso del mueble no fue una improvisación. Y Troy. ¿A quién le importa Quizás es genial. Y Abed. Abed es un chamán. Le pides que te pase la sal, Porque ¿saben qué? La sopa es mejor. Abed es mejor. Todos ustedes son mejores de lo que creen. Están diseñados ¿Sopa? Quiero que vean a la persona a su izquierda. Perdón. A la persona de junto. Mírala. Muy bien. -¿Esto...? Quiero que le extiendan a esa persona la misma compasión que a los tiburones, Quiero que le digan a esa persona, \"Te perdono\". -Te perdono. -Te perdono. Pierce, quiero que digas, \"Te perdono\". -¿No lo dijo? Han dejado de ser un grupo de estudio. Se han convertido en algo imparable. Por el presente acto los declaro una comunidad. Qué agradable. Eso me gusta. No es como Es cualquier película con Bill Murray. Abed tiene razón, esta noche ha sido especial. Y ahora si me disculpan, tengo -¿Britta? Gracias por calmar a todos. Pero no eres un tutor, sólo un mentiroso que alteró a todos a propósito Vete y deja de hacernos perder el tiempo. -¿Están todos listos? Me da gusto informarles que una de las ventajas de ser un mentiroso es que tengo todas las respuestas del examen. Y las compartiré con cualquiera más de lo que ellos el mío. Jeff, si tienes las respuestas, No tengo un grupo. Lo inventé. -¿Y el discurso? Invento cosas. Y me pagaban Antes de venir a este escusado Hombre, esto lo arruina todo. Creí que eras como Bill Murray en sus películas. Eres más como Michael Douglas. ¿Sí? Pues tú tienes Asperger. ¿Eso qué significa? As-te-tonto. -Es un trastorno grave. ¿Si es tan grave, Sí. -As-te-tonto. Jeffrey, antes de hablar, -¿Una excusa para golpear hippies? Una lección importante. Las herramientas que adquiriste no te ayudarán en Greendale. Lo que tienes es una segunda oportunidad Dame mis llaves. No, guardaré tu auto por la lección. No me pegues. Por favor no. ¿Jeffrey? ¿Jeffrey? ¿Estamos bien? Estamos bien. Me caes bien, Jeffrey. Me recuerdas a mí a tu edad. Me lo merezco. ¿Sabes que me he divorciado A veces creo que hago algo mal. Te sigues casando. Nunca lo vi así. ¿No deberían estar estudiando? Sí, todo se puso aburrido cuando te fuiste. ¿No deberías revolcarte en la cama No tengo las respuestas. Reprobaré el examen. Si sólo estudiaras una hora, no es tan difícil. Pareces listo. Usas saco. Pues, lo curioso de ser listo es que pasas por la vida sin hacer el trabajo. Así que no estoy muy seguro de cómo hacerlo. ¿Por favor? ¿Tan triste? Me hace querer... ¿Qué pasa? ¿Pueden oírme? ¿Estoy sordo? -¿Me oyen hablar? Qué bueno. Sabes qué, Jeff, Si quieres volver arriba... ¿En serio? Pues es tu grupo de estudio, así que... -Vamos, estudiemos. -Vamos. Siento haberte dicho Michael Douglas. Es lo más amable que jamás me han dicho. Traducción de subtítulos por:\n",
      "\n"
     ]
    }
   ],
   "source": [
    "segments = split_df_segments(df_spanish, 3)\n",
    "for segment in segments:\n",
    "    vocab_prompt = \"\"\"Below is the transcript for a netflix show. You are a Spanish teacher for english-speaking students. Identify useful expressions for beginner spanish speakers to learn from the transcript. List the best 10 examples along with their english translation separated by a \"|\" character. Each example should be an independent phrase and you can break sentences up to make the vocabulary more useful. List 10 examples in the format:\n",
    " 1. <Spanish> | <English>\n",
    "[TRANSCRIPT]\n",
    "\"\"\"\n",
    "    transcript_prompt = df_to_text(segment, separate=\" \", index=False)\n",
    "    prompt = vocab_prompt + transcript_prompt\n",
    "    print(prompt)\n",
    "    print()\n",
    "\n"
   ]
  },
  {
   "cell_type": "code",
   "execution_count": 59,
   "metadata": {},
   "outputs": [
    {
     "data": {
      "text/plain": [
       "'1. (HOMBRE) ¡Quieto o disparo!\\n2. (Disparo)\\n3. (MUJER) ¡No!\\n4. \"Me llamo Tokio.\\n5. Pero cuando comenzó esta historia,\\n6. Esta era yo.\\n7. Y este, el amor de mi vida.\\n8. La última vez que lo vi\\n9. con los ojos abiertos.\\n10. Hicimos 15 atracos limpios,\\n11. pero mezclar amor y trabajo\\n12. Así que, cuando el segurata disparó,\\n13. De ladrona a asesina.\\n14. Y así fue como empecé a huir.\\n15. De alguna manera,\\n16. O casi muerta.\\n17. Llevaba 11 días escondida\\n18. y mi foto empapelaba\\n19. Me caerían 30 años.\\n20. Y, la verdad,\\n21. en la celda de un penal.\\n22. Soy más bien de huir.\\n23. En cuerpo y alma.\\n24. Y si no puedo llevar mi cuerpo,\\n25. al menos que escape mi alma\".\\n26. (Tono de llamada)\\n27. \"No me quedaba tiempo y había\\n28. En realidad, solo una\".\\n29. (Teléfono)\\n30. Sí.\\n31. \"¿Mamá?\".\\n32. Ay, mi niña.\\n33. \"¿Cómo estás, cariño?\".\\n34. ¿Qué está pasando?\\n35. \"¿No viste las noticias?\".\\n36. Todas esas cosas que dicen de mí.\\n37. Sí, claro que las he visto.\\n38. ¿Sabes qué?\\n39. Estoy pensando en irme de viaje.\\n40. \"A lo mejor me enrolo\\n41. De cocinera.\\n42. ¿No decías\\n43. Así aprendo. ¿Qué te parece?\".\\n44. No sé, cariño.\\n45. ¿Y si comen todo chino, qué?\\n46. ¿Ese viaje qué significa,\\n47. \"que no voy a volver a verte más?\".\\n48. Qué tonterías dices.\\n49. Pues claro que me verás.\\n50. \"Te compraré un billete\\n51. ¿Visitarte dónde?\\n52. ¿Al cementerio?\\n53. ¿Estás sola?\\n54. \"Mamá, ¿estás sola?\".\\n55. Sí.\\n56. \"Pues baja a la calle,\\n57. Yo te encontraré\".\\n58. \"Y ese día,\\n59. apareció mi ángel de la guarda.\\n60. Pero una nunca sabe a ciencia cierta\\n61. y lo que menos te puedes imaginar\\n62. del 92\".\\n63. Perdona, ¿tienes un minuto?\\n64. No.\\n65. Lo de cocinar en un barco chino\\n66. que no tienes que fregar los platos.\\n67. \"Por un momento\\n68. y en que odio a la gente\\n69. ¿Quién eres, policía?\\n70. Vas de camino al matadero,\\n71. y tienen un coche\\n72. ¿Por qué te voy a creer?\\n73. \"Y así conocí al Profesor,\\n74. apuntándole con una pistola\\n75. ¿Puedo?\\n76. \"Lo bueno de las relaciones\\n77. es que uno termina olvidándose\\n78. ¿Puedo?\\n79. Están ya en casa de tu madre.\\n80. Por eso he venido a ayudarte.\\n81. Quiero proponerte un negocio,\\n82. un atraco, un atraco...\\n83. singular.\\n84. Estoy buscando a gente que...\\n85. Bueno,\\n86. ¿Cómo te suenan...\\n87. \"Nadie había dado un palo así,\\n88. ni en Nueva York,\\n89. así que si mi foto\\n90. al menos que fuera por el atraco\\n91. Os doy la bienvenida...\\n92. y... las gracias\\n93. Esta oferta de trabajo.\\n94. (Risas)\\n95. Viviremos aquí,\\n96. Cinco meses, los cinco meses\\n97. cómo dar el golpe.\\n98. ¿Estamos locos o qué?\\n99. Mira, la gente pasa años estudiando\\n100. para tener un sueldo, un sueldo\\n101. no deja de ser un sueldo,\\n102. ¿Qué son cinco meses?\\n103. Yo llevo pensando en esto...\\n104. Para no volver a trabajar\\n105. Ni vosotros...\\n106. ni vuestros hijos.\\n107. Bien.\\n108. De momento no os conocéis\\n109. No quiero nada de nombres,\\n110. ni, por supuesto,\\n111. Quiero que cada uno elija\\n112. Puede ser números,\\n113. -Rollo \"Señor 17, la señorita 23\".\\n114. recordar mi número de teléfono.\\n115. -¿Y planetas?\\n116. -Yo Urano no seré,\\n117. -¿Qué le pasa a Urano?\\n118. Van a ser ciudades, ciudades.\\n119. Bien.\\n120. \"Y así terminé llamándome Tokio.\\n121. Ese que me mira el culo\\n122. En busca y captura.\\n123. 27 atracos. Joyerías,\\n124. Su mayor golpe,\\n125. 434 diamantes.\\n126. Es como un tiburón en una piscina.\\n127. Puedes bañarte con él,\\n128. Y era el jefe al mando del asalto\".\\n129. (Tosidos)\\n130. \"El que tose es el señor Moscú.\\n131. Lo primero que cavó fue una mina,\\n132. Después comprendió que cavando\\n133. Seis peleterías, tres relojerías\\n134. Maneja lanza térmica\\n135. El que está sentado\\n136. Drogas, dientes, costillas rotas.\\n137. Es el rey de las peleas\\n138. Pura sangre caliente.\\n139. En un plan perfecto,\\n140. Río. Es mi debilidad.\\n141. Es como un Mozart,\\n142. Programa desde los 6 años y lo sabe\\n143. Para el resto de cosas de la vida\\n144. Y ahí están los siameses,\\n145. Hasta en el plan más sofisticado\\n146. y qué mejor que dos serbios.\\n147. Puede que piensen, pero,\\n148. Nairobi,\\n149. optimista empedernida.\\n150. Ha falsificado billetes\\n151. Y ahora es\\n152. Es posible que esté loca,\\n153. Pensad que cada día los telediarios\\n154. que cada familia de este país\\n155. qué estamos haciendo.\\n156. ¿Y sabéis lo que van a pensar?\\n157. Van a pensar: \"Qué cabrones,\\n158. \"El Profesor,\\n159. La última vez\\n160. A todos los efectos, un fantasma,\\n161. No vamos a robar...\\n162. porque les vamos a caer\\n163. Y eso es fundamental, es fundamental\\n164. de nuestra parte.\\n165. Vamos a ser los puñeteros héroes\\n166. Pero mucho cuidado,\\n167. una sola gota de sangre,\\n168. como haya una sola víctima,\\n169. dejaremos de ser unos Robin Hood\\n170. para convertirnos simplemente\\n171. Profesor.\\n172. Señorita Tokio.\\n173. ¿Qué vamos a robar?\\n174. La Fábrica Nacional\\n175. ¿Quién eligió la careta?\\n176. (BERLÍN) ¿Qué le pasa a la careta?\\n177. Tú ves las pelis de atracadores\\n178. Son zombis, esqueletos,\\n179. (BERLÍN) Con un arma en la mano\\n180. te aseguro que da más miedo\\n181. -Venga ya.\\n182. -Dalí, hijo, un pintor español.\\n183. -Un pintor.\\n184. -Un pintor de pintar.\\n185. -(RESOPLA)\\n186. ¿Tú sabes lo que da miedo de\\n187. Eso sí que da miedo.\\n188. -¿Qué muñecos?\\n189. -El Goofy, el Pluto,\\n190. -¿Un ratón con orejas da más miedo,\\n191. -Pues sí, gilipollas.\\n192. -¡Eh!\\n193. Si un payo a punta de pistola\\n194. a cualquier lado,\\n195. que liará una carnicería.\\n196. Porque las armas y los niños\\n197. son una cosa\\n198. ¿Sí o no?\\n199. más retorcido.\\n200. -Entonces una careta de Jesucristo\\n201. -Por eso dice que pega menos\\n202. -Como a un santo dos pistolas.\\n203. \"Era evidente\\n204. (Frenazo)\\n205. \"Una mujer puede tirarse dos días\\n206. pero jamás emplearía un minuto\\n207. Todo lo que habíamos planeado\\n208. y en esas décimas de segundo\\n209. a la que detendríamos en seco\\n210. El Profesor sabía\\n211. en la Fábrica de Moneda y Timbre\\n212. de artefactos de arsenal.\\n213. que entraba cada semana\\n214. con las nuevas bobinas de papel\\n215. Y eso era lo que íbamos a hacer,\\n216. entrar hasta la cocina y escoltados\\n217. En España, cualquier cosa\\n218. es algo fuertemente protegido\".\\n219. (Sirenas)\\n220. \"Pero si inhibes\\n221. de que se comuniquen\\n222. y si apuntas\\n223. con cinco fusiles de asalto\\n224. por más armados que vayan,\\n225. les ocurre lo mismo que nos pasaría\\n226. ¡He dicho que bajes, coño,\\n227. \"Que se cagan de miedo\".\\n228. \"El valor y el heroísmo\\n229. y es mayor\\n230. que cobra un chaval con uniforme...\"\\n231. \"...o un camionero\".\\n232. ¡Venga, coño, abre!\\n233. \"Si esos hombres\\n234. en la trasera del camión,\\n235. pero ¿a quién le importan\\n236. unas bobinas de papel moneda\\n237. ¡Deprisa, deprisa!\\n238. ¡Joder, macho! ¡Venga!\\n239. (NAIROBI) ¡Tira, tira, tira!\\n240. Ahí sentado.\\n241. si no, culatazo en la cabeza.\\n242. (BERLÍN) Conduciréis\\n243. Cuando llamen por radio\\n244. contestareis con tranquilidad,\\n245. ¿Está claro?\\n246. \"Y en mitad\\n247. recordé que la noche anterior\\n248. y que hubiera preferido\\n249. Pero si lo piensas,\\n250. nunca encuentras un buen día\\n251. Ahora ya sabes\\n252. No le quites ojo a la niña.\\n253. No puede haber errores, ¿estamos?\\n254. Tiene 17 años.\\n255. Creo que podré con ella.\\n256. (Voces a lo lejos)\\n257. (Risas)\\n258. (Mensaje de móvil)\\n259. Hola.\\n260. -Hola.\\n261. -¿Quieres salir conmigo?\\n262. Vale. Te dejo.\\n263. -No, no, no.\\n264. Que no me lo tengo que pensar.\\n265. (MUJER) Bueno, chicos,\\n266. Vamos a ir directamente\\n267. Pedro, haz el favor,\\n268. Vamos a salir ordenadamente\\n269. Y esta es la fachada\\n270. El corderito está entrando.\\n271. Perfecto.\\n272. Berlín, tu turno.\\n273. (Sirena)\\n274. (BERLÍN) Y ahora,\\n275. -¿Qué tal, Javi?\\n276. -Cambio de turno.\\n277. (ESTORNUDA)\\n278. -Eso está muy bien. Tranquilo.\\n279. (PROFESORA)\\n280. Despacito.\\n281. (HABLA SIN QUE APENAS SE OIGA)\\n282. Esto es importante. En cuanto\\n283. Las acreditaciones\\n284. Tienen que estar visibles\\n285. No te vuelvas.\\n286. Cuando estás cerca,\\n287. Pues respira,\\n288. porque dentro de nueve meses sí que\\n289. Adelante.\\n290. (PROFESORA) Bien visible\\n291. Acreditación colgada al cuello.\\n292. Berlín,\\n293. ¿No me vas a decir nada? ¿Te digo\\n294. que estoy embarazada\\n295. ¿Qué hago, llamo a mi mujer,\\n296. y nos vamos todos a celebrarlo?\\n297. (POLICÍA) Tira, tira. Dale, dale.\\n298. (RÍO) Entrando.\\n299. Atenta, Tokio.\\n300. ¡Bien!\\n301. \"Alarmas desconectadas\".\\n302. Sigue, dale, dale.\\n303. Eras tú ayer\\n304. que no la aguantas,\\n305. Problemas como cualquier pareja,\\n306. como cualquier matrimonio\\n307. no que me fuera a separar.\\n308. Mónica, he tenido tres hijos,\\n309. llevo más de 20 años manteniendo\\n310. y ahora vienes a contarme esto.\\n311. Tú debes de ser Shiva,\\n312. \"¿Qué estás insinuando?\".\\n313. Yo no he venido aquí\\n314. Ni a por un divorcio,\\n315. y mucho menos\\n316. Creía que tú me querías.\\n317. Y...\\n318. Y me parece una idea bonita.\\n319. Difícil de encajar\\n320. Pero una idea maravillosa.\\n321. ¡Escucha!\\n322. ¿Qué, quieres saber\\n323. Eso es lo que quieres, ¿no?\\n324. (GRITA)\\n325. ¡Quietos!\\n326. (BERLÍN) Quieto.\\n327. ¡Quieto!\\n328. ¿Qué pasa? ¡Haz algo!\\n329. -¡Salgan!\\n330. (GRITAN)\\n331. (Gritos)\\n332. \"¡Vamos, vamos!\".\\n333. ¡Rápido! ¡Quietos!\\n334. ¡Vamos, vamos!\\n335. ¡Vamos!\\n336. ¡Sí, sí!\\n337. Mierda.\\n338. Vamos, vamos.\\n339. Por aquí. Vamos.\\n340. Y esta escalera maravillosa,\\n341. -¡Quietos!\\n342. (GRITAN)\\n343. ¡Quietos!\\n344. (GRITAN)\\n345. ¡Quietos, quietos! ¡Vamos!\\n346. ¡Atrás!\\n347. -¡Por favor, no!\\n348. ¡Ah!\\n349. ¡No lo veo, coño!\\n350. Señorita Parker,\\n351. (Gritos)\\n352. Espera.\\n353. ¡Por favor!\\n354. Para, para. Para.\\n355. -Vale.\\n356. Vale, vale.\\n357. Estoy yendo muy deprisa. Lo sé.\\n358. (Voces y sollozos)\\n359. Vamos a inmortalizar esto, ¿no?\\n360. Vamos a hacer\\n361. Joder...\\n362. ¿Aquí? Es un poco cutre, ¿no?\\n363. -Es nuestro primer día.\\n364. Estás muy guapa.\\n365. No veo a la niña. No la veo, joder.\\n366. Ábrete.\\n367. Que es tu móvil.\\n368. Que esto es para nosotros,\\n369. Va, va, va.\\n370. Con esta foto\\n371. -¡Dame el móvil!\\n372. ¡Dame el móvil!\\n373. ¡Dámelo!\\n374. ¡Que me des el móvil, joder!\\n375. ¡Dame el móvil!\\n376. ¡Que me des el móvil!\\n377. ¡Ah!\\n378. (Llantos)\\n379. Lo primero...\\n380. Buenos días.\\n381. Soy la persona que está al mando.\\n382. Y, antes de nada, quiero...\\n383. presentarles mis disculpas.\\n384. Realmente,\\n385. (DENVER) Móvil.\\n386. -Pero ustedes están aquí\\n387. (DENVER) Móvil.\\n388. -Si obedecen,\\n389. (DENVER) Nombre.\\n390. (DENVER) PIN.\\n391. -Móvil.\\n392. -Tranquila, tranquila.\\n393. Tranquila.\\n394. -PIN.\\n395. ¿Para qué necesita el PIN?\\n396. O me das el puñetero PIN\\n397. -¿De cuánto estás?\\n398. -(ATERRADA) De ocho meses.\\n399. -De ocho meses.\\n400. -PIN.\\n401. Con toda\\n402. y pones esa mierda de PIN.\\n403. Arturo.\\n404. Arturo Román.\\n405. (BERLÍN) Ustedes son\\n406. así que yo les voy a proteger.\\n407. -Eh...\\n408. Dame las manos. Suelta.\\n409. Suelta. Suelta.\\n410. ¿Cómo te llamas?\\n411. -Ariadna.\\n412. -Ariadna.\\n413. Ven conmigo. Ven.\\n414. Tranquila.\\n415. Siente mis manos.\\n416. ¿Son las manos de un monstruo?\\n417. -Porque no soy un monstruo.\\n418. Sé perfectamente cómo te sientes.\\n419. La boca seca, sensación de ahogo...\\n420. Tienes que intentar tranquilizarte.\\n421. Inspira.\\n422. Inspira.\\n423. Eso es.\\n424. Inspiren.\\n425. Suave, suave.\\n426. Hazte responsable\\n427. Eso es. Eso es.\\n428. (Teléfono)\\n429. ¿La señorita Mónica Gaztambide,\\n430. (SUSURRA) No te muevas.\\n431. Calla.\\n432. Calla.\\n433. La señorita Mónica Gaztambide,\\n434. ¿sería tan amable\\n435. Soy yo.\\n436. (Pieza de metal cayendo)\\n437. (DENVER) Eres un crack, papa.\\n438. Eres \"mu\" grande.\\n439. (GRITA ENLOQUECIDO)\\n440. Aquí se tiene que dormir muy bien,\\n441. Aquí se tiene que dormir de lujo.\\n442. ¡Oh! ¡Papa, papa, papa, papa!\\n443. Follar. Aquí, pum.\\n444. Pum, pum...\\n445. -Venga, déjate de hacer el tonto\\n446. -Esto huele de puta madre.\\n447. Huele mejor que el cordero asado,\\n448. Túmbate aquí, cojones.\\n449. -¿Cuándo has tenido tú\\n450. En el talego no la tenías.\\n451. ¿Has visto dónde estamos, papa?\\n452. Que somos muy grandes.\\n453. -Chaval, no te equivoques.\\n454. Somos pequeños.\\n455. ¿Tú sabes hacer algo?\\n456. ¿Has trabajado alguna vez?\\n457. ¿Has presentado\\n458. Ah. Venga, coño.\\n459. -El currículum.\\n460. ¿El currículum para qué?\\n461. ¿Para sacarte a ti de Alcalá Meco?\\n462. -¿Crees que me siento\\n463. 12 años de mi vida\\n464. ¿Y sabes por qué?\\n465. -¿Por qué?\\n466. -Porque no soy muy listo, hijo.\\n467. Y tú tampoco.\\n468. Pero en este golpe\\n469. Y si tenemos suerte\\n470. saldrás de aquí\\n471. -No voy a hacer el gilipollas.\\n472. Llena esto.\\n473. (Teléfono)\\n474. Quiero que conteste al teléfono\\n475. y convenza a quien sea\\n476. por un problema técnico. ¿Entendido?\\n477. Sí.\\n478. No me va a quedar más remedio\\n479. ¿La siente?\\n480. Bien.\\n481. (Teléfono)\\n482. Ahora.\\n483. Fábrica Nacional\\n484. No, lo siento, no le puedo pasar\\n485. Se ha caído el sistema.\\n486. No, no puedo hacerle que suba.\\n487. No, no puede subir\\n488. No, no va a poder ser.\\n489. No, por...\\n490. ¡Pues porque no,\\n491. porque no sé si está en la fábrica,\\n492. o donde esté! ¡Y, además,\\n493. Esa ha sido\\n494. señorita Gaztambide.\\n495. (RESPIRA ENTRECORTADAMENTE)\\n496. \"A los 20 minutos de entrar,\\n497. de comunicación analógica\\n498. (CANTA EN SU IDIOMA)\\n499. \"Sin móviles, sin radiofrecuencia,\\n500. Habíamos sellado las puertas\\n501. Estábamos como en un limbo\\n502. que habíamos tomado\\n503. Y en esa dulce paz,\\n504. parecía, sencillamente,\\n505. Estás guapo tú, ¿eh?\\n506. (Puerta)\\n507. ¿Quién es?\\n508. (RÍO) Soy yo, déjame pasar.\\n509. Río, tío, nos pilla el Profesor\\n510. Lo sé, lo sé, lo sé.\\n511. ¿Qué pasa?\\n512. (RESOPLA)\\n513. ¿Qué pasa?\\n514. Mañana es el atraco.\\n515. Y no tenemos ni puta idea\\n516. Por eso quiero que sepas\\n517. y entiendo perfectamente\\n518. que tú ya tienes una edad y...\\n519. y que puede que busques un...\\n520. Por eso quiero darte algo.\\n521. No te he comprado un anillo\\n522. pero, en cuanto salga,\\n523. que vas a tener que llevar la mano\\n524. ¿Qué es esto?\\n525. ¿Una chapa de pedida?\\n526. Ahora por lo menos\\n527. Ya, pero es que está prohibido\\n528. Bueno, pues no lo mires.\\n529. Pero es tuyo.\\n530. A ver cómo te cuento esto.\\n531. Lo nuestro ha estado muy bien,\\n532. Nos hemos enrollado\\n533. ¿Cómo que algunas? Joder, todas,\\n534. Sinceramente,\\n535. ¿No follamos bien?\\n536. Por algo se empieza, ¿no?\\n537. Pero hace falta\\n538. para ser una pareja, ¿no?\\n539. ¿Lo dices porque soy\\n540. Voy a tener\\n541. No soy ningún chaval,\\n542. De verdad, Río, ojalá hubiéramos...\\n543. Amor había.\\n544. Hay otro, ¿no?\\n545. Ya no.\\n546. Mira, Río,\\n547. cuando todo esto termine,\\n548. y vemos si funciona, pero mañana\\n549. que no me maten.\\n550. Río.\\n551. Río, no.\\n552. No, no.\\n553. Te has dejado un móvil encendido.\\n554. Pues apágalo.\\n555. -Cámara acorazada abierta.\\n556. -Poneos los chalecos\\n557. En cuanto estéis,\\n558. Berlín,\\n559. ¡Rehenes, por su seguridad,\\n560. Un poquito más por aquí. Eso es.\\n561. Ahí estamos. Todo va a salir bien.\\n562. Un poquito más juntos.\\n563. Chist. Tranquilos.\\n564. Tranquilos. Estoy viendo las bolsas.\\n565. Las tienen llenas de dinero.\\n566. Ahora se largarán\\n567. (Radio)\\n568. (Alarma)\\n569. (EMISORA) \"Tenemos un 10-33\\n570. en la Fábrica Nacional\\n571. -Z24 en camino.\\n572. Dos minutos.\\n573. -Dos minutos.\\n574. (Alarma)\\n575. ¿Por qué ha saltado la alarma?\\n576. Están parados sin hacer nada,\\n577. ¿Por qué no cogen el dinero\\n578. ¡No lo sé!\\n579. Un minuto, 40 segundos.\\n580. -Un minuto...\\n581. ¿Cómo te llamas?\\n582. Arturo.\\n583. Arturo, ¿verdad?\\n584. Sí. ¡No, no he visto nada!\\n585. ¡No he visto nada, lo juro,\\n586. Mírame.\\n587. Venga, Arturo, mírame.\\n588. Mírame, mírame.\\n589. Eh, eh, venga, va.\\n590. (LLORA)\\n591. Eh.\\n592. ¿Te gusta el cine?\\n593. ¿Te gusta?\\n594. (SOLLOZANDO) Soy...\\n595. ¿Y tú te has dado cuenta\\n596. siempre sale uno al principio,\\n597. que tú dices: \"Este huele a muerto\",\\n598. y luego no falla?\\n599. Siempre cae.\\n600. Arturo, créeme, hueles a muerto.\\n601. (LLORA)\\n602. (EMISORA) \"Z24 a central,\\n603. 30 segundos.\\n604. 30 segundos.\\n605. \"Es fundamental que la policía\"\\n606. no tenga ni la más mínima idea\\n607. Vamos a hacerles creer\\n608. que nos sorprendieron huyendo\\n609. que sacamos las armas,\\n610. y no tuvimos más remedio...\\n611. \"Y entonces, sin haber herido\"\\n612. a nadie,\\n613. nos metemos dentro.\\n614. \"Que piensen\\n615. (Sirena)\\n616. \"Que piensen\\n617. ¡Ahora!\\n618. -¡Tokio!\\n619. ¡Tokio!\\n620. (Sirena)\\n621. \"Salir, tirar el dinero,\\n622. (GRITAN)\\n623. \"Lo había escuchado\\n624. (Disparos)\\n625. \"Pero lo que no nos dijo\\n626. es que ellos\\n627. ¡Río, Río!\\n628. (Disparos)\\n629. ¡Cago en la puta, tío!\\n630. (Disparos)\\n631. (Disparos)\\n632. (HABLA ENTRE SOLLOZOS)\\n633. ¡Me cago en la puta!\\n634. ¡La primera en la frente, tío,\\n635. ¡Joder!\\n636. (RADIO) \"Apoyo urgente.\\n637. En la Fábrica de Moneda y Timbre.\\n638. Hemos recibido fuego hostil.\\n639. Repito, agente herido\".\\n640. \"La bala de un M16\\n641. Vuela más rápido\\n642. Así que si te disparan al corazón\\n643. ni siquiera oirás\\n644. De esa manera supe\\n645. en una milésima de segundo\\n646. y de la misma forma que siempre\".\\n647. (Trueno)'"
      ]
     },
     "execution_count": 59,
     "metadata": {},
     "output_type": "execute_result"
    }
   ],
   "source": [
    "df_to_text(df_spanish, index=True)"
   ]
  },
  {
   "cell_type": "code",
   "execution_count": 61,
   "metadata": {},
   "outputs": [
    {
     "data": {
      "text/plain": [
       "'1. [man]\\n2. -[gunshot]\\n3. -[gun cocks]\\n4. My name is Tokyo.\\n5. But when this story began,\\n6. SUSPECT ON THE RUN\\n7. That was me.\\n8. And that was the love of my life.\\n9. ONE ASSAILANT KILLED\\n10. The last time I saw him, I left him\\n11. [sobbing]\\n12. -\\n13. But mixing love and business never works.\\n14. So, when the security guard fired,\\n15. I had to change my profession\\n16. from thief to murderer.\\n17. And that\\'s when I started to run.\\n18. In a way, I was dead too.\\n19. [suspenseful music plays]\\n20. [Tokyo]\\n21. FOR SALE\\n22. I\\'d been hiding for 11 days.\\n23. And my picture was\\n24. I\\'d get thirty years, and to be honest,\\n25. growing old in a prison cell isn\\'t for me.\\n26. I\\'d rather be on the run.\\n27. Body and soul.\\n28. And if I can\\'t run with my body,\\n29. at least let my soul escape.\\n30. [phone line rings]\\n31. [Tokyo]\\n32. Actually, just one thing.\\n33. [phone ringing]\\n34. Yes?\\n35. [Tokyo]\\n36. Oh, my girl.\\n37. How are you, honey?\\n38. What\\'s going on?\\n39. [Tokyo]\\n40. Have you heard what they said about me?\\n41. Of course I\\'ve been watching.\\n42. Guess what?\\n43. I\\'m thinking of going on a trip.\\n44. As a cook.\\n45. You say I can\\'t even fry an egg.\\n46. -\\n47. Well, I don\\'t know.\\n48. They might only eat Chinese food.\\n49. This trip, what does it mean?\\n50. That I won\\'t see you again?\\n51. [laughs] Of course not.\\n52. Maybe I can get you a ticket\\n53. Visit you where?\\n54. The cemetery?\\n55. Are you alone?\\n56. -Mom, are you alone?\\n57. [Tokyo]\\n58. I\\'ll find you.\\n59. And that day,\\n60. my guardian angel appeared.\\n61. You can never be sure\\n62. But what you never imagine,\\n63. is for him to drive up\\n64. Excuse me, do you have a minute?\\n65. No.\\n66. There\\'s an upside\\n67. You don\\'t have to do the dishes.\\n68. [Tokyo]\\n69. \"I guess he\\'s got a point.\"\\n70. -Who are you? A cop?\\n71. The police are waiting for you.\\n72. [Tokyo] Why should I believe you?\\n73. [Tokyo]\\n74. By pointing a gun at his balls.\\n75. May I?\\n76. [Tokyo]\\n77. is that we end up forgetting\\n78. May I?\\n79. They\\'re at your mother\\'s house.\\n80. That\\'s why I want to help you.\\n81. I have a business proposal.\\n82. A heist. A heist that\\'s…\\n83. unique.\\n84. I\\'m looking for people\\n85. who don\\'t have much to lose.\\n86. How does stealing\\n87. 2.4 billion euros sound to you?\\n88. [Tokyo]\\n89. Not even in New York,\\n90. So if my picture was gonna be\\n91. at least it\\'d be\\n92. ♪ Now hear our rules ♪\\n93. ♪ We\\'re not alone in this crazy thing ♪\\n94. ♪ And here we are ♪\\n95. ♪ Losing our head, we pulled it off ♪\\n96. ♪ Use your head ♪\\n97. ♪ Be a fool, you want it all ♪\\n98. ♪ Want it all ♪\\n99. -♪ Ah ♪\\n100. ♪ Be a fool, you want it ♪\\n101. WELCOME\\n102. [Professor] Welcome everyone.\\n103. And,\\n104. I want to thank all of you for\\n105. -accepting this job offer.\\n106. We\\'ll live here.\\n107. Away from the worldly noise.\\n108. [stammers] Five months we\\'ll spend\\n109. What do you mean \"five months\"?\\n110. Are you crazy or what?\\n111. Look, people spend years just studying\\n112. to earn a salary,\\n113. is just a salary, a shitty salary.\\n114. What\\'s five months?\\n115. I\\'ve been thinking about this…\\n116. for much longer.\\n117. So I don\\'t need to work ever again.\\n118. And neither will you.\\n119. And neither will your children.\\n120. Great. Currently,\\n121. And I want to keep it like that.\\n122. or ask personal questions.\\n123. And, obviously,\\n124. I\\'d like each of you to pick a name.\\n125. It could be numbers, planets, cities--\\n126. So, Lord 17 and Lady 23?\\n127. We already got a problem,\\n128. You can\\'t even use one.\\n129. [laughs]\\n130. [man 2] So, planets?\\n131. I\\'ll be Mars, he\\'s Uranus.\\n132. I\\'m not Uranus, so forget it.\\n133. -[man 2] What\\'s wrong with Uranus?\\n134. We\\'ll use cities. Use cities.\\n135. It\\'s cities. Agreed then?\\n136. Great.\\n137. [Tokyo]\\n138. The one looking at my ass is Berlin.\\n139. A wanted man all over the world.\\n140. Twenty-seven heists. Jewelry stores,\\n141. His biggest score:\\n142. He\\'s like a shark in a swimming pool.\\n143. You can swim with him,\\n144. He was in charge of the heist.\\n145. [man 1 coughing]\\n146. -The one coughing is Moscow.\\n147. [Tokyo]\\n148. Later, he figured out that he\\'d make\\n149. Six fur shops, three watch shops,\\n150. He is an expert\\n151. The one behind Moscow is Denver. His son.\\n152. Drugs, busted teeth, broken ribs.\\n153. He\\'s the king of bar fights.\\n154. Pure, hot-blooded.\\n155. A ticking time bomb perfect for a heist.\\n156. Rio, he\\'s my weakness.\\n157. He\\'s the Mozart of computers.\\n158. He\\'s been coding since he was six\\n159. and knows everything\\n160. As for everything else,\\n161. And there you have the twins,\\n162. Even the most sophisticated plan\\n163. and what\\'s better than two Serbs?\\n164. Maybe they can think.\\n165. [woman laughs]\\n166. [Tokyo]\\n167. A hardened optimist.\\n168. She\\'s been counterfeiting bank notes\\n169. Now she\\'s our quality control manager.\\n170. She may be crazy,\\n171. Realize that the news\\n172. And every family in this country\\n173. \"What are they doing?\"\\n174. What else will they be thinking?\\n175. \"Those motherfuckers.\\n176. [Tokyo]\\n177. No criminal record, no registration.\\n178. Hasn\\'t renewed his ID since he was 19.\\n179. F\\n180. But a very intelligent ghost.\\n181. We\\'re not stealing their money.\\n182. It is not theirs.\\n183. And for that reason alone,\\n184. And that\\'s vital.\\n185. It is vital that we have\\n186. We\\'ll be seen as fucking heroes\\n187. But be very careful,\\n188. because the second any blood is shed,\\n189. if there is a single victim,\\n190. we\\'ll stop being Robin Hoods\\n191. and we\\'re simply going to become\\n192. Professor.\\n193. Yes, Miss Tokyo.\\n194. What are we robbing?\\n195. [suspenseful music builds]\\n196. [Professor] The Royal Mint of Spain.\\n197. [suspenseful music builds]\\n198. [\"My Life Is Going On\"\\n199. ♪ If I stay with you ♪\\n200. ♪ If I\\'m choosing wrong\\n201. ♪ If I\\'m losing now\\n202. ♪ That\\'s all I want ♪\\n203. ♪ I don\\'t care at all ♪\\n204. ♪ I am lost ♪\\n205. ♪ I don\\'t care at all ♪\\n206. ♪ Lost my time ♪\\n207. ♪ My life is going on ♪\\n208. DAY OF THE HEIST\\n209. Who decided on these?\\n210. -[Moscow] What\\'s wrong with the masks?\\n211. In every movie,\\n212. Zombies, skeletons,\\n213. [Berlin] I assure you a\\xa0psychopath\\n214. -That\\'s enough.\\n215. Dalí. He was a Spanish painter.\\n216. -A painter.\\n217. -A painter who, like, paints.\\n218. [scoffs] You know\\n219. Some cartoons for kids.\\n220. What cartoons?\\n221. Goofy, Pluto, Mickey Mouse,\\n222. [Rio] A mouse with big ears is scarier.\\n223. -That\\'s what you\\'re saying?\\n224. -[Moscow] Hey.\\n225. If some bastard with a gun\\n226. comes in some place\\n227. people will think he\\'s a\\xa0psycho.\\n228. He wants to massacre everyone. Know why?\\n229. Because weapons and children are\\n230. Yes or no?\\n231. [Berlin] If you look it that way,\\n232. It\\'s more twisted.\\n233. [Berlin] Then a Jesus mask\\n234. Like that saying,\\n235. -\"Like a Saint with two guns.\"\\n236. [Tokyo]\\n237. A woman can spend two days\\n238. but she wouldn\\'t spend a minute\\n239. Everything we had planned\\n240. And in that moment,\\n241. whose lives would suddenly stop\\n242. STATE HIGHWAY E-80\\n243. The Professor knew there was only one way\\n244. to enter the Royal Mint\\n245. It had to be in the truck\\n246. with the new rolls of currency paper\\n247. So that\\'s what we were doing to do.\\n248. We\\'d get all the way in,\\n249. DETOUR TO RASCAFRÍA\\n250. In Spain,\\n251. means it\\'s heavily guarded.\\n252. [siren wailing]\\n253. But if you inhibit any radio\\n254. and you get some 20-year-old kids\\n255. it doesn\\'t matter how well-armed they are,\\n256. [Berlin] Get out, damn it!\\n257. [Denver] Out of the fucking car!\\n258. [Tokyo]\\n259. [Denver] Do what I say!\\n260. [Tokyo]\\n261. and it\\'s higher than the 1,600 euros\\n262. [Berlin] Open the door! Hear me?\\n263. [Tokyo]\\n264. [Moscow] Open it! Right now!\\n265. [Tokyo]\\n266. they never would have opened it.\\n267. But who cares about some\\n268. [Nairobi] Hurry up! Hurry up!\\n269. Ah, fuck, man. Come on!\\n270. Keep walking!\\n271. Go! Go! Go! Go! Sit your ass down.\\n272. Now, you three need to clam down,\\n273. You\\'ll be driving\\n274. When you get that call on the radio\\n275. you\\'ll answer\\n276. -[Denver] Come with me.\\n277. [Tokyo]\\n278. I remembered that the night before\\n279. but I had other plans.\\n280. Of course if you think about it,\\n281. So now you know what you have to do.\\n282. Don\\'t take your eyes off the girl.\\n283. There will be no mistakes.\\n284. -Are we clear?\\n285. I think I can handle her.\\n286. [soft piano music plays]\\n287. [laughing]\\n288. [phone beeps]\\n289. CAN I SIT NEXT TO YOU?\\n290. YES\\n291. Hello.\\n292. Hello.\\n293. Do you want to hang out?\\n294. All right, I\\'ll go.\\n295. No, no, wait.\\n296. I don\\'t even have to think about it.\\n297. I do.\\n298. [teacher]\\n299. Everyone go directly\\n300. where we\\'ll wait\\n301. Everyone be careful getting off the bus\\n302. [tour guide] You\\'re looking at\\n303. Everyone head inside.\\n304. Our little lamb just entered.\\n305. Perfect.\\n306. Berlin, your turn.\\n307. ROYAL MINT\\n308. [Berlin] Now, be careful with what you do.\\n309. What\\'s up, Javi? Where\\'s Rafita?\\n310. He changed his shift.\\n311. [coughing]\\n312. [sneezes]\\n313. [Berlin] That\\'s very good. Easy.\\n314. [tour guide] All right everyone,\\n315. Keep coming in.\\n316. [grand entrance music]\\n317. This helps security to know that\\n318. so put them around your necks.\\n319. Save your questions until we\\'re inside.\\n320. [man] Don\\'t turn around.\\n321. When you\\'re this close to me,\\n322. Please, breathe,\\n323. because nine months from now,\\n324. Go ahead.\\n325. [tour guide] Make sure\\n326. Passes around the neck.\\n327. POLICE\\n328. Berlin, look out,\\n329. NATIONAL POLICE\\n330. I tell you that I\\'m pregnant\\n331. What should I do?\\n332. so we can celebrate together?\\n333. [guard] Go. Go.\\n334. Okay, okay.\\n335. Keep going, keep going.\\n336. [truck beeping]\\n337. ACCESSING SECURITY NETWORK\\n338. [Rio] One…\\n339. Ready, Tokyo.\\n340. [guard] Go. Go.\\n341. ACCESSING CENTRAL ALARM STATION\\n342. Yes!\\n343. -Alarms are disconnected.\\n344. [guard] Straight back.\\xa0Straight back.\\n345. Just yesterday you were saying\\n346. and you were having problems.\\n347. Just like any other couple would, Mónica.\\n348. Problems like any married couple\\n349. I never said I was leaving.\\n350. [suspenseful music plays]\\n351. Mónica, I have three sons.\\n352. And we got pregnant through in vitro.\\n353. For more than 20 years\\n354. Now you\\'re telling me this? [laughs]\\n355. You must be Shiva, goddess of\\xa0fertility.\\n356. [tense music plays]\\n357. [beeping]\\n358. What are you implying?\\n359. or for a divorce.\\n360. I\\'m not asking for a paternity test.\\n361. I thought we were in love.\\n362. And…\\n363. I was happy with that.\\n364. [truck beeping]\\n365. I know this is going to be difficult,\\n366. but I want this for us.\\n367. -Hold on.\\n368. What am I gonna do with the child?\\n369. Is that what you wanna ask?\\n370. Listen to me, I just--\\n371. [screaming]\\n372. [Oslo] Don\\'t move!\\n373. No.\\n374. [alarm blaring]\\n375. -Stay there!\\n376. Or I\\'ll fucking kill you!\\n377. [guard] What\\'s wrong? Do something!\\n378. [shouting]\\n379. [man] Go, go, go!\\n380. Move! Come on!\\n381. -\\n382. [Helsinki] Move fast! Moving!\\n383. [Oslo] Let\\'s go! Come on!\\n384. [Helsinki] Come on!\\n385. [Oslo] Move, move!\\n386. Stay here.\\n387. [man] Let\\'s go, let\\'s go.\\n388. And here,\\n389. -with marble and--\\n390. [screaming]\\n391. Nobody move! Come on! Move back!\\n392. [woman] Please! No!\\n393. Professor, we have a problem!\\n394. [screams]\\n395. I can\\'t find the lamb.\\n396. Okay then, Miss Parker,\\n397. where are you hiding?\\n398. [screaming]\\n399. Stop.\\n400. [Nairobi] Come on!\\n401. Stop, stop.\\n402. Okay.\\n403. You\\'re right.\\n404. I\\'m going too fast. I know.\\n405. -[screaming]\\n406. We should remember this moment, right?\\n407. -Come on, let\\'s take a picture of us.\\n408. In here? It\\'s kind of gross, no?\\n409. This is our first day.\\n410. Yeah.\\n411. You are really beautiful.\\n412. I can\\'t find the girl.\\n413. Unbutton this, you\\'ll look sexier.\\n414. It\\'s on your phone.\\n415. You can delete it if you want.\\n416. Okay, okay, okay.\\n417. -[camera shutters]\\n418. This is totally gonna blow up\\n419. -Give it to me! Give me my phone!\\n420. [girl]\\n421. Give it to me, give me my phone!\\n422. Give me my fucking phone now!\\n423. [girl screams]\\n424. [increasingly tense music plays]\\n425. [whimpering, sobbing]\\n426. [Berlin] First of all…\\n427. Good morning.\\n428. I\\'m the one in charge now.\\n429. I\\'ll begin by\\n430. offering my apologies.\\n431. [Denver] PIN? Name?\\n432. I\\'m aware this isn\\'t the good way\\n433. But now all of you\\n434. [whimpers]\\n435. [Denver] Cell phone.\\n436. Follow our instructions\\n437. -[Denver] Name?\\n438. -[Denver] PIN?\\n439. [Denver] Cell phone.\\n440. [Berlin] It\\'s okay, it\\'s okay.\\n441. PIN?\\n442. Why? Why do you need my PIN?\\n443. Give me the fucking PIN\\n444. How many months?\\n445. [whimpers]\\n446. -Eight months.\\n447. PIN.\\n448. One-two-three-four.\\n449. [laughing]\\n450. You think you are real smart\\n451. What\\'s your name you moron?\\n452. -Arturo. Arturo Román.\\n453. Arturo Román. Good. Arturito.\\n454. You\\'re our safe way out of here,\\n455. Hey.\\n456. Give me your hands. Relax, relax.\\n457. -[cries]\\n458. [whimpers]\\n459. Tell me your name.\\n460. Ariadna.\\n461. Ariadna…\\n462. You come with me, come. It\\'s okay.\\n463. Feel my hands.\\n464. Are these the hands of a monster?\\n465. -No.\\n466. I know exactly\\n467. Your mouth is drying, heart is racing.\\n468. Just breathe, just breathe.\\n469. Just breathe.\\n470. There you go.\\n471. -Breathe.\\n472. Slowly, slowly.\\n473. Control your breathing\\n474. Just like that, just like that.\\n475. [phone ringing]\\n476. Will Mónica Gaztambide\\n477. Don\\'t move, don\\'t do it.\\n478. -It\\'s okay.\\n479. Where are you Mónica Gaztambide?\\n480. That\\'s me.\\n481. [metal clangs]\\n482. [clicks, then beeps]\\n483. [clicks]\\n484. [beeping rapidly]\\n485. [Denver] You did it, Dad.\\n486. Holy shit.\\n487. [laughs]\\n488. [rapid clicking]\\n489. [increasingly tense music plays]\\n490. [Denver screams, laughs]\\n491. I could spend the night here, Papa.\\n492. Damn, I feel like a king.\\n493. Papa, Papa, Papa!\\n494. Fucking here.\\n495. Boom, boom, boom…\\n496. Stop fooling around like that\\n497. This smells so fucking amazing.\\n498. It smells better than roast lamb, Dad,\\n499. -Get on here, damn it.\\n500. When did you ever have a bed like this?\\n501. Do you see where we are now, Papa?\\n502. -We\\'re so great!\\n503. We\\'re nothing.\\n504. What else can you do?\\n505. Ever had a real job? Have you ever made\\n506. Yeah, exactly. Let\\'s go.\\n507. Made a résumé?\\n508. Made a résumé, what for?\\n509. To get you out of Alcalá Meco?\\n510. Do you think I\\'m proud of all of that?\\n511. I\\'ve been in and out\\n512. Wanna know why?\\n513. Yeah, why?\\n514. Because I\\'m not smart, son.\\n515. And neither are you.\\n516. But, in this job,\\n517. So if we\\'re lucky\\n518. we\\'ll get out of here\\n519. -I\\'m not an asshole.\\n520. [Denver laughs]\\n521. Fill \\'em up.\\n522. [phone ringing]\\n523. Answer the phone.\\n524. that we shut down because of\\n525. Yes.\\n526. I don\\'t have any choice\\n527. -Can you feel it?\\n528. Good.\\n529. Answer.\\n530. -Royal Mint Spain, may I help you?\\n531. I\\'m sorry,\\n532. [woman]\\n533. Our system is down.\\n534. -[woman]\\n535. -[woman stammers]\\n536. -[woman]\\n537. -[woman]\\n538. I really don\\'t see a reason\\n539. Because I don\\'t know.\\n540. I don\\'t know if he\\'s at the museum\\n541. He could be anywhere around here ma\\'am!\\n542. That performance deserves an Oscar\\n543. Miss Gaztambide.\\n544. [clanking]\\n545. [Tokyo]\\n546. we started wiring\\n547. in order to talk to the Professor.\\n548. [singing in Serbian]\\n549. [Tokyo]\\n550. so no one could hear us.\\n551. We sealed the doors,\\n552. It was like we were in limbo.\\n553. Because no one knew\\n554. And during that sweet calm\\n555. it seemed just like\\n556. an ordinary day.\\n557. You\\'re very handsome.\\n558. [giggles]\\n559. [knock on door]\\n560. -Who is it?\\n561. [door closes]\\n562. What are you doing?\\n563. I know. I need to talk to you. Come on.\\n564. Sit down. Sit down, damn it.\\n565. [pants]\\n566. What\\'s up?\\n567. The heist is tomorrow.\\n568. We have no fucking idea\\n569. [sighs]\\n570. You should know that\\n571. And I totally understand that\\n572. you\\'re a little older and…\\n573. you probably want something more serious.\\n574. So I\\'d like to give you this.\\n575. I couldn\\'t buy you a ring\\n576. But when we get out of here,\\n577. you\\'ll have to carry on your hand\\n578. Is that right?\\n579. What\\'s this, an engagement dog tag?\\n580. At least you know my real name now.\\n581. We\\'re not allowed\\n582. Well, don\\'t look at it.\\n583. But it\\'s yours.\\n584. How do I say this to you? [clears throat]\\n585. What we have is really good.\\n586. Okay? Great.\\n587. We\\'ve slept together a few nights…\\n588. Not just a few nights.\\n589. Honestly I…\\n590. don\\'t think we\\'re meant for each other.\\n591. -[stammers] Isn\\'t the sex good?\\n592. That\\'s a good thing, right?\\n593. But you need more than good sex\\n594. Is this because\\n595. I\\'ll get 300 million euros.\\n596. I\\'m not a kid. I\\'m set for life.\\n597. -Really, Rio, I wish there was love.\\n598. We have love. We have love, I feel it.\\n599. There\\'s someone else?\\n600. No.\\n601. Listen, Rio…\\n602. When this is all over,\\n603. Why don\\'t we go to Tahiti\\n604. Because tomorrow\\n605. Not getting killed.\\n606. Rio.\\n607. Stop.\\n608. [intense music plays]\\n609. [panting]\\n610. Rio, no.\\n611. No, no.\\n612. You left a phone on.\\n613. Then turn it off.\\n614. [phone buzzing]\\n615. Got the vault open.\\n616. Put on your vests and be ready to go.\\n617. Then we can activate the alarm.\\n618. Berlin, prepare to open the doors.\\n619. Hostages!\\n620. For your own safety,\\n621. A little bit more this way. Right here.\\n622. There you go.\\n623. Go closer.\\n624. Everything\\'s going to be okay.\\n625. -[Alison whimpers]\\n626. Try to relax.\\n627. Relax. They have the bags with them.\\n628. They\\'re going to leave.\\n629. [radio static, beeping]\\n630. [alarm blaring]\\n631. [woman]\\n632. [man]\\n633. -We\\'ll be there in two minutes.\\n634. Two minutes.\\n635. Why did the alarm go off?\\n636. I don\\'t know.\\n637. They\\'re just standing there.\\n638. -Why don\\'t they just leave?\\n639. One minute and 40 seconds.\\n640. One minute and--\\n641. What\\'s your name?\\n642. Arturo.\\n643. -Arturo, is it?\\n644. I didn\\'t see anything!\\n645. -I didn\\'t see anything, I swear!\\n646. -I didn\\'t see anything.\\n647. -No I can\\'t.\\n648. -[sobbing]\\n649. Come on now, look.\\n650. Hey.\\n651. Do you like movies?\\n652. Do you?\\n653. Yes.\\n654. I\\'m a big fan.\\n655. Okay then. Have you noticed\\n656. in the beginning\\n657. and you say to yourself,\\n658. \"He\\'s gonna get himself killed.\"\\n659. Yes.\\n660. And then it happens.\\n661. He gets killed.\\n662. [sobbing]\\n663. Arturo, trust me,\\n664. you\\'re gonna be that guy.\\n665. [sobs uncontrollably]\\n666. [man]\\n667. Thirty seconds.\\n668. We\\'ve got 30 seconds.\\n669. Listen, it\\'s imperative that the police\\n670. We want them to think\\n671. That they caught us\\n672. that we took out our guns\\n673. and that we had no other choice\\n674. but to retreat.\\n675. And then,\\n676. without hurting anyone…\\n677. we go back inside.\\n678. Let them think\\n679. that we\\'re cornered.\\n680. Let them think that we\\'re improvising.\\n681. [Tokyo] Now!\\n682. Tokyo! Tokyo, wait! Don\\'t shoot!\\n683. Tokyo!\\n684. [sirens wail]\\n685. [Tokyo]\\n686. -[gunshots]\\n687. I\\'d heard that more than 30 times.\\n688. But what the Professor didn\\'t tell us\\n689. is that they\\'d also fire back.\\n690. Rio!\\n691. [\"My Life Is Going On\"\\n692. God damn it! What the fuck?\\n693. ♪ Oh ♪\\n694. ♪ Oh ♪\\n695. ♪ Oh ♪\\n696. [screams]\\n697. ♪ Oh ♪\\n698. ♪\\n699. ♪\\n700. Rio, talk to me.\\n701. Oh my God!\\n702. What did you do?\\n703. That was the first rule!\\n704. Fuck!\\n705. ♪ I don\\'t care at all ♪\\n706. Rio.\\n707. ♪\\n708. Fuckers!\\n709. [man]\\n710. We\\'ve taken hostile fire.\\n711. Man down. I repeat, man down.\\n712. [Tokyo]\\n713. It travels faster than the speed of sound.\\n714. If you get shoot in the heart,\\n715. you won\\'t hear\\n716. That\\'s how I knew\\n717. All in one millisecond,\\n718. in the same way as always.'"
      ]
     },
     "execution_count": 61,
     "metadata": {},
     "output_type": "execute_result"
    }
   ],
   "source": [
    "df_english = transcript_to_df(\"transcripts/raw/moneyheist_s1e1_english.vtt\", merge_time=True)\n",
    "df_to_text(df_english, index=True)"
   ]
  },
  {
   "cell_type": "code",
   "execution_count": 100,
   "metadata": {},
   "outputs": [
    {
     "data": {
      "text/plain": [
       "'PELTON: Good morning.\\nMany of you are halfway through\\nyour first week here at Greendale, and as your dean,\\nI thought I would share\\na few thoughts of wisdom and inspiration.\\nWhat is community college?\\nWell, you\\'ve heard all kinds of things.\\nYou\\'ve heard it\\'s loser college for remedial teens,\\n20-something dropouts,\\nmiddle-aged divorcees,\\nand old people keeping their minds active\\nas they circle the drain of eternity.\\nThat\\'s what you\\'ve heard.\\nHowever, I wish you luck.\\nOkay, you know-- Uh-oh.\\nThere\\'s more to this speech.\\nThere\\'s a middle card that\\'s missing.\\nCan we look around our immediate areas?\\nBecause I really wanted to--\\nI\\'m only half Arabic. My dad is Palestinian.\\nHe\\'s a U.S. citizen, he\\'s not a threat to national security.\\nA lot of people wanna know that because he has an angry energy.\\nBut not angry at America, angry at my mom for leaving.\\nShe did leave because he was angry\\nand he was angry because she\\'s American.\\nMy name\\'s Abed. Abed, nice to know you\\nand then meet you, in that order.\\nNow about that question that I had? Oh, uh--\\nFive after 11 when you asked.\\nAbed. Yeah.\\nWhat\\'s the deal with the hot girl\\nfrom Spanish class? I can\\'t find a road in there.\\nI talked to her once while she was borrowing a pencil.\\nBut her name is Britta, 28, birthday in October.\\nHas two older brothers. One works with children\\nwho have a disorder I might look up.\\nShe thinks she\\'s gonna flunk tomorrow\\'s test.\\nShe needs to focus. She\\'s sorry if that makes her seem cold.\\nHoly crap. Abed, I see your value now.\\nThat\\'s the nicest thing anyone\\'s ever said to me.\\nDUNCAN: Jeff Winger,\\ngenius at law.\\nYou gotta stop saying that.\\nI will never do that. Sit down. Sit down.\\nSo, what is my lawyer doing here?\\nI\\'m a student.\\nWell, that cannot be an inspiring journey.\\nUh, I am in a bit of a jam.\\nThe state bar has suspended my license.\\nThey found out my college degree was less than legitimate.\\nYou had a bachelor\\'s from Columbia?\\nNow I have to get one from America.\\nIt can\\'t be an e-mail attachment.\\nWell, you\\'ve picked a fine school.\\nYes. And I\\'m hoping\\nthat our friendship will yield certain advantages.\\nYou know, academic guidance. Yes.\\nMoral support.\\nEvery answer to every test\\nfor every one of the classes that I\\'m taking.\\nHere\\'s my schedule. Now, Jeff, just by asking that\\nyou have insulted the integrity of this entire institution. Oi.\\nWaster. Not a bathroom. Not a bathroom.\\nOkay. Duncan, you did seem less into integrity\\nthe day that I convinced 12 of your peers\\nthat when you made that U-turn on the freeway\\nand tried to order chalupas from the emergency call box\\nthat your only real crime was loving America.\\nI\\'ll look into it. Thank you.\\nDuncan, you are a good man.\\nJeff, are you familiar with the adage\\n\"Cheaters never prosper\"?\\nNo. And if I wanted to learn something,\\nI wouldn\\'t have come to community college.\\n[♪♪♪]\\nOh, hey, Spanish. Yeah, don\\'t hit on me, okay?\\nWhoa. Uh, I wouldn\\'t dream of it.\\nI just wanted to let you know about my Spanish study group.\\nOh, whoa, whoa. The guy playing \"Bejeweled\"\\non his iPhone all class has a study group?\\nCan I sign up twice?\\nI\\'m taking the class as an easy credit.\\nI\\'m actually a Spanish tutor. Board certified.\\nCan you say that in Spanish now?\\n[IN SPANISH]\\nI really need help with Spanish.\\nI was willing to bet. I\\'m Jeff.\\nOr\\nWe meet at the library at 4.\\nYeah. Britta. Thanks.\\n[♪♪♪]\\n[SPEAKING IN SPANISH]\\n[SPEAKS IN SPANISH]\\nHey, all right, come on in.\\nI rented the table.\\nYeah, here\\'s the, uh, contact sheet.\\nJust put your stuff there. That\\'s--\\nMan, the rest of the group is running late.\\nBut you and I can get acquainted.\\nYou may have noticed this morning,\\nnot so good at small talk. Yeah. I like big talk.\\nWhat\\'s your deal? That\\'s not small talk?\\nWhat\\'s your deal, and is God dead?\\nAll right, you wanna know my deal?\\nMm. My deal is,\\nabove all else, honesty.\\nHonesty. Yeah.\\nYou tell the truth, I\\'ll like you.\\nYou lie to me, I will never talk to you again.\\nThat\\'s a good deal. So, what\\'s your deal?\\nUh-- I would have to go--\\nI would have to say, um, honesty.\\nBecause I would say anything to get what I want,\\nand I want you to like me. So, uh...\\nWell, that\\'s a very honest answer.\\nFor now, I like you fine.\\nReally? Wow. You\\'re easy. Hell, yeah.\\nAbed. In the house.\\nWhoo! Whoo! Whoo! Whoo!\\nWhoo. Why?\\nBritta invited me. Is that cool?\\nOh, I can\\'t think of a single logical reason why not.\\nABED: Cool. JEFF: There you go.\\nPut your info down right there.\\nCool, cool, cool. Cool, cool, cool.\\nHey, this is kind of like\\nWe are in a library.\\nI\\'m sure we\\'ve each got an issue balled up inside\\nthat would make us cry if we talked about it.\\nDo you have something balled up inside you?\\nI got doozy in the chamber if things get emotional.\\n[CELL PHONE CHIMES]\\nHey, text message.\\nLet\\'s give this bad boy a read.\\nUh, er, it\\'s probably-- It\\'s just for your eyes.\\n\"Say you have to pee. I need to talk to you.\"\\n\"Say you have to pee.\" That is weird.\\nDo you have to pee?\\nNo. That\\'s so weird. Hmm.\\nWell, I\\'m stumped. That\\'s very creepy.\\n[CELL PHONE CHIMES] That makes two of us.\\nBRITTA: What\\'s that?\\nABED: Does it say you have to pee?\\nIt\\'s just someone with misguided grasp of abbreviation.\\nI just need five minutes.\\nSo go ahead and study all the verbs in Spanish.\\n[WHISPERS] Spanish.\\n[♪♪♪]\\nSuppose I was to say to you\\nit was possible to get those test answers.\\nI would say go for that.\\nAnd could have said so in a text.\\nI\\'m asking if you know the difference\\nbetween right and wrong.\\nI discovered at a very early age that if I talked long enough,\\nI could make anything right or wrong.\\nSo either I\\'m God or truth is relative,\\nand in either case, booyah. Oh. Interesting.\\nIt\\'s just, the average person has harder time saying booyah\\nto moral relativism.\\nYou don\\'t have to play shrink to protect your pride.\\nI accept you\\'re chicken.\\nI\\'m a professor. You can\\'t talk to me that way.\\nA 6-year-old girl could talk to you that way.\\nYes, because that would be adorable.\\nNo, because you\\'re a 5-year-old girl,\\nand there\\'s a pecking order.\\nFine, I\\'ll do it. Thank you.\\nYeah, with pleasure. Bye.\\nYes, good.\\nWhy am I still shouting? I\\'m drawing attention to myself.\\nYou guys aren\\'t gonna believe this,\\nbut the rest of the group--\\nIs here.\\nAre you the board-certified tutor?\\nThat means you do my homework, right, Seacrest?\\nI need to call my babysitter if we gonna be late.\\nWhat board certifies a tutor? Where\\'s Britta?\\nNot sure. I invited people from Spanish class.\\nIs that cool? It\\'s the coolest.\\nI\\'m gonna go to the bathroom.\\nAnd bring my jacket, wallet and keys with me\\nin case there\\'s a fire.\\nShould we go with him?\\nGonna leave my homework with Slumdog Millionaire.\\nSHIRLEY: That\\'s borderline racist.\\n[♪♪♪]\\nAnd busted.\\nListen.\\nNow you know. I\\'m a smoker.\\nYeah, but they\\'re filtered, so that makes them safe.\\nYou ready to get started? Looks like your group showed up.\\nNot mine. I think Abed took out a page on Craigslist.\\nAnd I was trained never to say this,\\nbut I think that group may be untutorable.\\nOh, really?\\nWhy don\\'t you and I go study over--\\nDinner? Or drinks.\\nI think, actually, we should prioritize here\\nand study first and then go to dinner.\\nAnd if they really prove to be untutorable,\\nwe\\'ll slip out early.\\nOh, they will be untutorable.\\n[♪♪♪]\\n[♪♪♪]\\nJEFF: All right. Look at this crew.\\nAll ready to study all night.\\nI can stay till 10.\\nBut who studies with strangers, right?\\nMy name is Jeff.\\nJeff, it\\'s a pleasure. My name is Pierce Hawthorne.\\nAnd, yes, that is Hawthorne as in Hawthorne Wipes,\\nthe award-winning moist towelette.\\nI was just gonna ask.\\nI\\'m a Toastmaster. I should do the introductions.\\nJEFF: Definitely. You know Brittles.\\nBritta. Abed. Abed the Arab.\\nIs that inappropriate? Sure.\\nRoy, Roy, the wonder boy-- Troy.\\nLittle princess Elizabeth-- Annie.\\nAnd this beautiful creature is named Shirley.\\nIs that even close?\\nANNIE: I\\'d like to know why I had to find out\\nabout this group on accident.\\nWay more like\\nThere\\'s breakfast? We should get started--\\nI\\'ve been a part of a lot of study groups that fell apart\\nbecause of unresolved tension.\\nShouldn\\'t we address Annie\\'s concern? Did we not invite her?\\nWell, Annie, sweetie, it\\'s not behind your back.\\nCan we stop with the \"pumpkins\" and the \"sweeties\"?\\nBeing younger does not make me inferior.\\nif anything, your age indicates\\nthat you\\'ve made bad life decisions.\\nShirley has a response. No, no, no. Don\\'t.\\nIt looks like you do. Shirley, go ahead.\\nOkay, okay.\\nI\\'m sure I\\'ve made some bad life decisions.\\nAnd maybe Annie\\'s decisions will be better.\\nI think she needs to decide\\nwhether she wants to be considered a child or an adult,\\nbecause children get pity,\\nbut not respect, and adults, they get respect.\\nThey also get their head grabbed and pushed through jukeboxes.\\nOkay. Why don\\'t we try learning \"jukebox\" in Spanish?\\nWhat are you doing? JEFF: Pierce.\\nLet\\'s discuss this creepiness. Pardon you?\\nWhat are you doing? I\\'m certified.\\nAre you unaware\\nthat Shirley finds your advances inappropriate?\\nWhat advances?\\nYou have been sexually harassing me\\nsince the very first day of class.\\nSexually harassing?\\nWhat--? That makes no sense to me.\\nWhy would I harass somebody who turns me on?\\nSaying she turns you on is the harassment, dude.\\nHey.\\nI am a prominent business leader\\nand a highly sought-after dinner guest.\\nAnd I will not take courting advice\\nfrom some teenage boy.\\nThis teenage boy is a quarterback and prom king.\\nYou\\'re not prom king anymore, Troy.\\nThis isn\\'t Riverside High. How\\'d you know I went there?\\nBecause you\\'re still wearing your stupid letter jacket,\\nWere you that girl that got hooked on pills and dropped out?\\nYou\\'re little Annie Adderall.\\nAnd you\\'re a stupid jock who lost his scholarship\\nby dislocating both shoulders in a keg stand.\\nKeg flip. Very hard to pull off.\\nANNIE: Don\\'t talk to me. You don\\'t know-- I\\'m a legend.\\n[GROUP ARGUING]\\nYou know what I got for Christmas?\\nIt was a banner year at the Bender family.\\nI got a carton of cigarettes.\\nThe old man grabbed me. He said,\\n\"Hey, smoke up, Johnny.\"\\nNo, Dad, what about you?\\nWell, that actually was from\\nNobody puts Baby in the corner.\\n[CELL PHONE RINGING]\\nDUNCAN [IN DEEP VOICE]:\\nWhat\\'s wrong with your voice?\\n[PHONE BEEPS]\\nI\\'ll be right back. But while I\\'m gone,\\nyou guys need to hash this stuff out.\\nNo stone unturned. Go.\\n[GROUP CHATTERING]\\n[♪♪♪]\\nEvery answer to every test\\nin your curriculum this semester.\\nI knew you could do it, buddy. Thank you.\\nWhoa, there, grabby grabby.\\nWhat do I get?\\nThe satisfaction of being even.\\nEven, fairness, right, wrong. There is no God.\\nBooyah, booyah. What do you want from me?\\nYour Lexus.\\nMy car for a semester\\'s worth of answers?\\nWill it be just a semester, though, Jeff?\\nWon\\'t you be taking the easy way out\\nfor the next four years?\\nI want payment in advance.\\nI want leather seats with built-in ball warmers.\\nYou know, bluffs this weak\\nare how your people lost the colonies.\\nHave a nice disbarment hearing.\\nWhat am I supposed to drive?\\nTake this car. It\\'s good for the Earth.\\nSo is wiping your butt with a leaf,\\nbut it\\'s not how a man gets around.\\nJEFF: Golf cart.\\n[GROUP ARGUING]\\nIt is a disaster in there.\\nYeah. Untutorable.\\nYou like Thai food? I love Thai food.\\nWait. So this is a game to you?\\nYou put human beings into a state of emotional shambles\\nfor a shot at getting in my pants?\\nWhy can\\'t you see that for the compliment that it is?\\nYou\\'re unbelievable. What do you want me to do?\\nMaybe one decent thing could be to go in there\\nand clean up your mess.\\nTROY: I\\'m the Barack Obama of this room.\\nOkay, if I do that, then dinner, right?\\n[SCOFFS]\\nYeah, fine, whatever. As if there\\'s a dinner on earth\\nthat could make me forget you are a shallow douche bag.\\nOh, you\\'re gonna eat those words when you see my new car.\\n[♪♪♪]\\n[GROUP ARGUING] All right, everybody!\\nI wanna say something. Sit down.\\nWell, you don\\'t have to yell.\\nWhat makes humans different from other animals?\\nFeet.\\nNo, no. Come on, bears have feet.\\nWe\\'re the only species on earth\\nthat observes \"Shark Week.\"\\nSharks don\\'t even observe \"Shark Week,\" but we do.\\nFor the same reason I can pick up this pencil,\\ntell you it\\'s name is Steve\\nand go like this. Oh.\\nJEFF: And part of you dies\\njust a little bit on the inside.\\nBecause people can connect with anything.\\nWe can sympathize with a pencil,\\nwe can forgive a shark,\\nand we can give Ben Affleck\\nan Academy Award for screenwriting.\\nPIERCE: Big mistake.\\nPeople can find the good\\nin just about anything but themselves.\\nLook at me. It\\'s clear to all of you that I am awesome.\\nBut I could never admit that. That would make me an ass.\\nBut what I can do is see what makes Annie awesome.\\nShe\\'s driven.\\nWe need driven people,\\nor the lights go out and the ice cream melts.\\nAnd Pierce, we need guys like Pierce.\\nThis guy has wisdom to offer. The Dalai Lama and I--\\nJEFF: We should listen to him. We wouldn\\'t regret it.\\nAnd Shirley, Shirley has earned our respect.\\nNot as a wife, not as a mother, but as a woman.\\nDon\\'t test her on that,\\nbecause that thing about the jukebox\\nwas too specific to be improvised.\\nAnd Troy.\\nWho cares if Troy thinks he\\'s all that?\\nMaybe he is.\\nAnd Abed. Abed\\'s a shaman.\\nYou ask him to pass the salt, he gives you a bowl of soup.\\nBecause you know what, soup is better.\\nAbed is better.\\nYou are all better than you think you are.\\nYou are just designed not to believe it\\nwhen you hear it from yourself.\\nSoup?\\nLook to the person to your left.\\nSorry. Look at the person sitting next to you.\\nSHIRLEY: Look at her. Okay.\\nThis--? JEFF: Yeah.\\nI want you to extend to that person\\nthe same compassion you extend\\nto sharks, pencils and Ben Affleck.\\nI want you to say to that person,\\n\"I forgive you.\"\\nBOTH: I forgive you.\\nI forgive you. I forgive you.\\nYou little twerp.\\nJEFF: Pierce, I\\'d like you to say, \"I forgive you.\"\\nHe didn\\'t say it? I forgive you.\\nYou\\'ve just stopped being a study group.\\nYou have become something unstoppable.\\nI hereby pronounce you a community.\\nOh, that\\'s nice. I like that.\\n[♪♪♪]\\nThis isn\\'t like anymore.\\nIt\\'s Anything with Bill Murray.\\nI agree with Abed that tonight has been very special.\\nAnd now, if you\\'ll excuse me,\\nI have a dinner engagement with Britta.\\nBritta? I lied.\\nThanks for calming everyone down.\\nBut since you\\'re not a Spanish tutor,\\njust a lying creep who purposely upset everyone\\nin an attempt to get with me, I\\'d appreciate it if you left\\nand stopped wasting all of our time.\\nEverybody ready? Fine.\\nAnd I\\'m happy to report\\nthat one of the benefits of being a lying creep\\nis having all the answers to tomorrow\\'s test.\\nAnd I\\'m happy to share them with anyone whose time I wasted\\nmore than they wasted mine.\\nJeff, if you have all the answers,\\nwhy the hell did you start this study group?\\nI don\\'t have a study group. I made it up.\\nWhat about the speech? JEFF: That\\'s what I do.\\nI make things up.\\nAnd I got paid a lot of money to do it.\\nBefore I came to this school-shaped toilet,\\nI was a lawyer. [ALL GROAN]\\nSHIRLEY: Oh, man, this ruins everything.\\nI thought you\\'re like Bill Murray.\\nBut you\\'re more like Michael Douglas.\\nYeah? Well, you have Asperger\\'s.\\n[ANNIE GASPS]\\nWhat does that mean?\\nHa, ha. Ass burger.\\nIt\\'s a serious disorder. It really is.\\nIf it\\'s so serious, why don\\'t they call it meningitis?\\nHeh, heh. Yeah. Heh, heh.\\nAss burger. Burger for your ass.\\n[♪♪♪]\\n[CHUCKLES]\\nBefore you say anything,\\nyou might wanna think about the gift you\\'ve given.\\nAn excuse to punch a hippy? No. No, not that.\\nAn important lesson.\\nYou see, the tools you acquired to survive out there\\nwill not help you here at Greendale.\\nWhat you have, my friend,\\nis a second chance at an honest life.\\nGive me my keys.\\nNo, I have to keep your car for the lesson.\\nPlease don\\'t hit me.\\nJeffrey? Jeffrey?\\nAre we cool? Are we cool?\\nPIERCE: I like you, Jeffrey.\\nYou remind me of myself at your age.\\nI deserve that.\\nYou know I\\'ve been divorced seven times?\\nSometimes I think I\\'m doing something wrong.\\nYou keep getting married.\\nI never looked at it that way.\\nShouldn\\'t you guys be studying?\\nYeah, things got kind of boring after you left.\\nShouldn\\'t you be rolling around\\non a bed covered in test answers?\\nI don\\'t have any of the answers. I\\'m gonna flunk the test.\\nIf you just, like, study for an hour, it\\'s not that hard.\\nYou seem pretty smart. You got a sports coat.\\nWell, the funny thing about being smart\\nis you can get through most of life\\nwithout having to do work.\\nSo I\\'m not really sure how to do that.\\n[MOUTHING WORDS]\\n[MOUTHING] Please? So sad?\\n[MOUTHING] He makes me wanna:\\nWhat\\'s going on?\\nCan you guys hear me? Am I deaf?\\nCan you hear me talking right now? Yes.\\nThat\\'s good.\\nYou know what? Jeff, actually,\\nwe didn\\'t get that far without you.\\nSo if you wanna come back upstairs--\\nReally?\\nWell, it is your study group, so--\\nCome on, let\\'s study. Sounds good.\\nSHIRLEY: Come on. Pressure.\\n[THE 88\\'S \"DON\\'T YOU FORGET ABOUT ME\" PLAYING]\\nI\\'m sorry I called you Michael Douglas.\\nAnd I see your value now.\\nThat\\'s the nicest thing anyone\\'s ever said to me.\\n[♪♪♪]'"
      ]
     },
     "execution_count": 100,
     "metadata": {},
     "output_type": "execute_result"
    }
   ],
   "source": [
    "VOCAB_PROMPT = \"\"\"Below are the subtitles for a Spanish netflix show. You are a spanish teacher and want to generate a vocabulary lesson from this episode. List 30 useful phrases from the episode.\n",
    "[TRANSCRIPT]:\"\"\"\n",
    "VOCAB_PROMPT = \"\"\"Below are the subtitles for a Spanish netflix show. You are a spanish teacher for and want to generate reading comprehension questions from this episode. List 30 reading comprehension questsions and the earliest quote that answers the question.\n",
    "[TRANSCRIPT]:\"\"\""
   ]
  },
  {
   "cell_type": "code",
   "execution_count": 11,
   "metadata": {},
   "outputs": [
    {
     "data": {
      "text/plain": [
       "'PELTON:\\nGood morning.\\nMany of you\\nare halfway through\\nyour first week here\\nat Greendale, and as your dean,\\nI thought I would share\\na few thoughts of wisdom\\nand inspiration.\\nWhat is community college?\\nWell, you\\'ve heard\\nall kinds of things.\\nYou\\'ve heard it\\'s loser college\\nfor remedial teens,\\n20-something dropouts,\\nmiddle-aged divorcees,\\nand old people keeping\\ntheir minds active\\nas they circle\\nthe drain of eternity.\\nThat\\'s what you\\'ve heard.\\nHowever, I wish you luck.\\nOkay, you know-- Uh-oh.\\nThere\\'s more\\nto this speech.\\nThere\\'s a middle card\\nthat\\'s missing.\\nCan we look around\\nour immediate areas?\\nBecause I really wanted to--\\nI\\'m only half Arabic.\\nMy dad is Palestinian.\\nHe\\'s a U.S. citizen, he\\'s not\\na threat to national security.\\nA lot of people wanna know that\\nbecause he has an angry energy.\\nBut not angry at America,\\nangry at my mom for leaving.\\nShe did leave\\nbecause he was angry\\nand he was angry\\nbecause she\\'s American.\\nMy name\\'s Abed.\\nAbed, nice to know you\\nand then meet you,\\nin that order.\\nNow about that question\\nthat I had?\\nOh, uh--\\nFive after 11\\nwhen you asked.\\nAbed.\\nYeah.\\nWhat\\'s the deal\\nwith the hot girl\\nfrom Spanish class?\\nI can\\'t find a road in there.\\nI talked to her once while\\nshe was borrowing a pencil.\\nBut her name is Britta,\\n28, birthday in October.\\nHas two older brothers.\\nOne works with children\\nwho have a disorder\\nI might look up.\\nShe thinks she\\'s gonna\\nflunk tomorrow\\'s test.\\nShe needs to focus. She\\'s sorry\\nif that makes her seem cold.\\nHoly crap. Abed,\\nI see your value now.\\nThat\\'s the nicest thing\\nanyone\\'s ever said to me.\\nDUNCAN:\\nJeff Winger,\\ngenius at law.\\nYou gotta stop saying that.\\nI will never do that.\\nSit down. Sit down.\\nSo, what is my lawyer\\ndoing here?\\nI\\'m a student.\\nWell, that cannot be\\nan inspiring journey.\\nUh, I am in a bit of a jam.\\nThe state bar has suspended\\nmy license.\\nThey found out my college degree\\nwas less than legitimate.\\nYou had a bachelor\\'s\\nfrom Columbia?\\nNow I have to get one\\nfrom America.\\nIt can\\'t be\\nan e-mail attachment.\\nWell, you\\'ve picked\\na fine school.\\nYes. And I\\'m hoping\\nthat our friendship\\nwill yield certain advantages.\\nYou know, academic guidance.\\nYes.\\nMoral support.\\nEvery answer to every test\\nfor every one of the classes\\nthat I\\'m taking.\\nHere\\'s my schedule.\\nNow, Jeff, just by asking that\\nyou have insulted the integrity\\nof this entire institution. Oi.\\nWaster. Not a bathroom.\\nNot a bathroom.\\nOkay. Duncan, you did seem\\nless into integrity\\nthe day that I convinced\\n12 of your peers\\nthat when you made that U-turn\\non the freeway\\nand tried to order chalupas\\nfrom the emergency call box\\nthat your only real crime\\nwas loving America.\\nI\\'ll look into it.\\nThank you.\\nDuncan, you are a good man.\\nJeff, are you familiar\\nwith the adage\\n\"Cheaters never prosper\"?\\nNo. And if I wanted to\\nlearn something,\\nI wouldn\\'t have come\\nto community college.\\n[♪♪♪]\\nOh, hey, Spanish.\\nYeah, don\\'t hit on me, okay?\\nWhoa.\\nUh, I wouldn\\'t dream of it.\\nI just wanted to let you know\\nabout my Spanish study group.\\nOh, whoa, whoa.\\nThe guy playing \"Bejeweled\"\\non his iPhone\\nall class has a study group?\\nCan I sign up twice?\\nI\\'m taking the class\\nas an easy credit.\\nI\\'m actually a Spanish tutor.\\nBoard certified.\\nCan you say that in Spanish now?\\n[IN SPANISH]\\nI really need help\\nwith Spanish.\\nI was willing to bet.\\nI\\'m Jeff.\\nOr\\nWe meet\\nat the library at 4.\\nYeah.\\nBritta. Thanks.\\n[♪♪♪]\\n[SPEAKING IN SPANISH]\\n[SPEAKS IN SPANISH]\\nHey, all right, come on in.\\nI rented the table.\\nYeah, here\\'s the, uh,\\ncontact sheet.\\nJust put your stuff there.\\nThat\\'s--\\nMan, the rest of the group\\nis running late.\\nBut you and I\\ncan get acquainted.\\nYou may have noticed\\nthis morning,\\nnot so good at small talk.\\nYeah. I like big talk.\\nWhat\\'s your deal?\\nThat\\'s not small talk?\\nWhat\\'s your deal,\\nand is God dead?\\nAll right,\\nyou wanna know my deal?\\nMm.\\nMy deal is,\\nabove all else, honesty.\\nHonesty.\\nYeah.\\nYou tell the truth,\\nI\\'ll like you.\\nYou lie to me,\\nI will never talk to you again.\\nThat\\'s a good deal.\\nSo, what\\'s your deal?\\nUh-- I would have to go--\\nI would have to say,\\num, honesty.\\nBecause I would say anything\\nto get what I want,\\nand I want you to like me.\\nSo, uh...\\nWell,\\nthat\\'s a very honest answer.\\nFor now,\\nI like you fine.\\nReally? Wow. You\\'re easy.\\nHell, yeah.\\nAbed. In the house.\\nWhoo! Whoo!\\nWhoo! Whoo!\\nWhoo. Why?\\nBritta invited me.\\nIs that cool?\\nOh, I can\\'t think of a single\\nlogical reason why not.\\nABED: Cool.\\nJEFF: There you go.\\nPut your info down\\nright there.\\nCool, cool, cool.\\nCool, cool, cool.\\nHey, this is kind of like\\nWe are in a library.\\nI\\'m sure we\\'ve each\\ngot an issue balled up inside\\nthat would make us cry\\nif we talked about it.\\nDo you have something\\nballed up inside you?\\nI got doozy in the chamber\\nif things get emotional.\\n[CELL PHONE CHIMES]\\nHey, text message.\\nLet\\'s give this bad boy a read.\\nUh, er, it\\'s probably--\\nIt\\'s just for your eyes.\\n\"Say you have to pee.\\nI need to talk to you.\"\\n\"Say you have to pee.\"\\nThat is weird.\\nDo you have to pee?\\nNo. That\\'s so weird.\\nHmm.\\nWell, I\\'m stumped.\\nThat\\'s very creepy.\\n[CELL PHONE CHIMES]\\nThat makes two of us.\\nBRITTA:\\nWhat\\'s that?\\nABED:\\nDoes it say you have to pee?\\nIt\\'s just someone with\\nmisguided grasp of abbreviation.\\nI just need five minutes.\\nSo go ahead and study\\nall the verbs in Spanish.\\n[WHISPERS]\\nSpanish.\\n[♪♪♪]\\nSuppose\\nI was to say to you\\nit was possible\\nto get those test answers.\\nI would say go for that.\\nAnd could have said so\\nin a text.\\nI\\'m asking\\nif you know the difference\\nbetween right and wrong.\\nI discovered at a very early age\\nthat if I talked long enough,\\nI could make anything\\nright or wrong.\\nSo either I\\'m God\\nor truth is relative,\\nand in either case, booyah.\\nOh. Interesting.\\nIt\\'s just, the average person\\nhas harder time saying booyah\\nto moral relativism.\\nYou don\\'t have to play shrink\\nto protect your pride.\\nI accept you\\'re chicken.\\nI\\'m a professor.\\nYou can\\'t talk to me that way.\\nA 6-year-old girl could\\ntalk to you that way.\\nYes, because\\nthat would be adorable.\\nNo, because\\nyou\\'re a 5-year-old girl,\\nand there\\'s a pecking order.\\nFine, I\\'ll do it.\\nThank you.\\nYeah, with pleasure. Bye.\\nYes, good.\\nWhy am I still shouting?\\nI\\'m drawing attention to myself.\\nYou guys\\naren\\'t gonna believe this,\\nbut the rest of the group--\\nIs here.\\nAre you\\nthe board-certified tutor?\\nThat means you do my homework,\\nright, Seacrest?\\nI need to call my babysitter\\nif we gonna be late.\\nWhat board certifies a tutor?\\nWhere\\'s Britta?\\nNot sure. I invited people\\nfrom Spanish class.\\nIs that cool?\\nIt\\'s the coolest.\\nI\\'m gonna go to the bathroom.\\nAnd bring my jacket,\\nwallet and keys with me\\nin case there\\'s a fire.\\nShould we go with him?\\nGonna leave my homework\\nwith Slumdog Millionaire.\\nSHIRLEY:\\nThat\\'s borderline racist.\\n[♪♪♪]\\nAnd busted.\\nListen.\\nNow you know. I\\'m a smoker.\\nYeah, but they\\'re filtered,\\nso that makes them safe.\\nYou ready to get started?\\nLooks like your group showed up.\\nNot mine. I think Abed took out\\na page on Craigslist.\\nAnd I was trained\\nnever to say this,\\nbut I think that group\\nmay be untutorable.\\nOh, really?\\nWhy don\\'t you and I\\ngo study over--\\nDinner?\\nOr drinks.\\nI think, actually,\\nwe should prioritize here\\nand study first\\nand then go to dinner.\\nAnd if they really prove\\nto be untutorable,\\nwe\\'ll slip out early.\\nOh, they will be untutorable.\\n[♪♪♪]\\n[♪♪♪]\\nJEFF:\\nAll right. Look at this crew.\\nAll ready to study all night.\\nI can stay till 10.\\nBut who studies\\nwith strangers, right?\\nMy name is Jeff.\\nJeff, it\\'s a pleasure.\\nMy name is Pierce Hawthorne.\\nAnd, yes, that is Hawthorne\\nas in Hawthorne Wipes,\\nthe award-winning\\nmoist towelette.\\nI was just gonna ask.\\nI\\'m a Toastmaster.\\nI should do the introductions.\\nJEFF: Definitely.\\nYou know Brittles.\\nBritta.\\nAbed. Abed the Arab.\\nIs that inappropriate?\\nSure.\\nRoy, Roy, the wonder boy--\\nTroy.\\nLittle princess Elizabeth--\\nAnnie.\\nAnd this beautiful creature\\nis named Shirley.\\nIs that even close?\\nANNIE:\\nI\\'d like to know\\nwhy I had to find out\\nabout this group on accident.\\nWay more\\nlike\\nThere\\'s breakfast?\\nWe should get started--\\nI\\'ve been a part of a lot\\nof study groups that fell apart\\nbecause of unresolved tension.\\nShouldn\\'t we address Annie\\'s\\nconcern? Did we not invite her?\\nWell, Annie, sweetie,\\nit\\'s not behind your back.\\nCan we stop with the \"pumpkins\"\\nand the \"sweeties\"?\\nBeing younger does not\\nmake me inferior.\\nif anything,\\nyour age indicates\\nthat you\\'ve made\\nbad life decisions.\\nShirley has a response.\\nNo, no, no. Don\\'t.\\nIt looks like you do.\\nShirley, go ahead.\\nOkay, okay.\\nI\\'m sure I\\'ve made\\nsome bad life decisions.\\nAnd maybe Annie\\'s\\ndecisions will be better.\\nI think she needs to decide\\nwhether she wants to be\\nconsidered a child or an adult,\\nbecause children get pity,\\nbut not respect,\\nand adults, they get respect.\\nThey also get their head grabbed\\nand pushed through jukeboxes.\\nOkay. Why don\\'t we try learning\\n\"jukebox\" in Spanish?\\nWhat are you doing?\\nJEFF: Pierce.\\nLet\\'s discuss this creepiness.\\nPardon you?\\nWhat are you doing?\\nI\\'m certified.\\nAre you unaware\\nthat Shirley finds\\nyour advances inappropriate?\\nWhat advances?\\nYou have been\\nsexually harassing me\\nsince the very first day\\nof class.\\nSexually harassing?\\nWhat--?\\nThat makes no sense to me.\\nWhy would I harass somebody\\nwho turns me on?\\nSaying she turns you on\\nis the harassment, dude.\\nHey.\\nI am a prominent business leader\\nand a highly sought-after\\ndinner guest.\\nAnd I will not take\\ncourting advice\\nfrom some teenage boy.\\nThis teenage boy\\nis a quarterback and prom king.\\nYou\\'re not prom king anymore,\\nTroy.\\nThis isn\\'t Riverside High.\\nHow\\'d you know I went there?\\nBecause you\\'re still wearing\\nyour stupid letter jacket,\\nWere you that girl that got\\nhooked on pills and dropped out?\\nYou\\'re little Annie Adderall.\\nAnd you\\'re a stupid jock\\nwho lost his scholarship\\nby dislocating both shoulders\\nin a keg stand.\\nKeg flip.\\nVery hard to pull off.\\nANNIE: Don\\'t talk to me.\\nYou don\\'t know-- I\\'m a legend.\\n[GROUP ARGUING]\\nYou know what I got\\nfor Christmas?\\nIt was a banner year\\nat the Bender family.\\nI got a carton of cigarettes.\\nThe old man grabbed me.\\nHe said,\\n\"Hey, smoke up, Johnny.\"\\nNo, Dad, what about you?\\nWell, that actually was from\\nNobody puts Baby\\nin the corner.\\n[CELL PHONE RINGING]\\nDUNCAN [IN DEEP VOICE]:\\nWhat\\'s wrong with your voice?\\n[PHONE BEEPS]\\nI\\'ll be right back.\\nBut while I\\'m gone,\\nyou guys need to\\nhash this stuff out.\\nNo stone unturned. Go.\\n[GROUP CHATTERING]\\n[♪♪♪]\\nEvery answer\\nto every test\\nin your curriculum\\nthis semester.\\nI knew you could do it, buddy.\\nThank you.\\nWhoa, there, grabby grabby.\\nWhat do I get?\\nThe satisfaction of being even.\\nEven, fairness, right, wrong.\\nThere is no God.\\nBooyah, booyah.\\nWhat do you want from me?\\nYour Lexus.\\nMy car for a semester\\'s\\nworth of answers?\\nWill it be just a semester,\\nthough, Jeff?\\nWon\\'t you be taking\\nthe easy way out\\nfor the next four years?\\nI want payment in advance.\\nI want leather seats\\nwith built-in ball warmers.\\nYou know, bluffs this weak\\nare how your people\\nlost the colonies.\\nHave a nice disbarment hearing.\\nWhat am I supposed to drive?\\nTake this car.\\nIt\\'s good for the Earth.\\nSo is wiping your butt\\nwith a leaf,\\nbut it\\'s not\\nhow a man gets around.\\nJEFF:\\nGolf cart.\\n[GROUP ARGUING]\\nIt is a disaster in there.\\nYeah. Untutorable.\\nYou like Thai food?\\nI love Thai food.\\nWait. So this is a game to you?\\nYou put human beings into\\na state of emotional shambles\\nfor a shot\\nat getting in my pants?\\nWhy can\\'t you see that\\nfor the compliment that it is?\\nYou\\'re unbelievable.\\nWhat do you want me to do?\\nMaybe one decent thing\\ncould be to go in there\\nand clean up your mess.\\nTROY:\\nI\\'m the Barack Obama\\nof this room.\\nOkay, if I do that,\\nthen dinner, right?\\n[SCOFFS]\\nYeah, fine, whatever.\\nAs if there\\'s a dinner on earth\\nthat could make me forget\\nyou are a shallow douche bag.\\nOh, you\\'re gonna eat those words\\nwhen you see my new car.\\n[♪♪♪]\\n[GROUP ARGUING]\\nAll right, everybody!\\nI wanna say something.\\nSit down.\\nWell, you don\\'t have to yell.\\nWhat makes humans different\\nfrom other animals?\\nFeet.\\nNo, no. Come on,\\nbears have feet.\\nWe\\'re the only species\\non earth\\nthat observes\\n\"Shark Week.\"\\nSharks don\\'t even observe\\n\"Shark Week,\" but we do.\\nFor the same reason\\nI can pick up this pencil,\\ntell you it\\'s name is Steve\\nand go like this.\\nOh.\\nJEFF:\\nAnd part of you dies\\njust a little bit\\non the inside.\\nBecause people can connect\\nwith anything.\\nWe can sympathize with\\na pencil,\\nwe can forgive a shark,\\nand we can give Ben Affleck\\nan Academy Award\\nfor screenwriting.\\nPIERCE:\\nBig mistake.\\nPeople can find the good\\nin just about anything\\nbut themselves.\\nLook at me. It\\'s clear to\\nall of you that I am awesome.\\nBut I could never admit that.\\nThat would make me an ass.\\nBut what I can do is see\\nwhat makes Annie awesome.\\nShe\\'s driven.\\nWe need driven people,\\nor the lights go out\\nand the ice cream melts.\\nAnd Pierce,\\nwe need guys like Pierce.\\nThis guy has wisdom to offer.\\nThe Dalai Lama and I--\\nJEFF:\\nWe should listen to him.\\nWe wouldn\\'t regret it.\\nAnd Shirley,\\nShirley has earned our respect.\\nNot as a wife, not as a mother,\\nbut as a woman.\\nDon\\'t test her on that,\\nbecause that thing\\nabout the jukebox\\nwas too specific\\nto be improvised.\\nAnd Troy.\\nWho cares if Troy thinks\\nhe\\'s all that?\\nMaybe he is.\\nAnd Abed. Abed\\'s a shaman.\\nYou ask him to pass the salt,\\nhe gives you a bowl of soup.\\nBecause you know what,\\nsoup is better.\\nAbed is better.\\nYou are all better\\nthan you think you are.\\nYou are just designed\\nnot to believe it\\nwhen you hear it from yourself.\\nSoup?\\nLook to the person\\nto your left.\\nSorry. Look at the person\\nsitting next to you.\\nSHIRLEY:\\nLook at her. Okay.\\nThis--?\\nJEFF: Yeah.\\nI want you to extend\\nto that person\\nthe same compassion you extend\\nto sharks, pencils\\nand Ben Affleck.\\nI want you to say\\nto that person,\\n\"I forgive you.\"\\nBOTH:\\nI forgive you.\\nI forgive you.\\nI forgive you.\\nYou little twerp.\\nJEFF:\\nPierce, I\\'d like you to say,\\n\"I forgive you.\"\\nHe didn\\'t say it?\\nI forgive you.\\nYou\\'ve just stopped\\nbeing a study group.\\nYou have become something\\nunstoppable.\\nI hereby pronounce you\\na community.\\nOh, that\\'s nice.\\nI like that.\\n[♪♪♪]\\nThis isn\\'t like\\nanymore.\\nIt\\'s\\nAnything with Bill Murray.\\nI agree with Abed that\\ntonight has been very special.\\nAnd now,\\nif you\\'ll excuse me,\\nI have a dinner engagement\\nwith Britta.\\nBritta?\\nI lied.\\nThanks for calming\\neveryone down.\\nBut since you\\'re not\\na Spanish tutor,\\njust a lying creep\\nwho purposely upset everyone\\nin an attempt to get with me,\\nI\\'d appreciate it if you left\\nand stopped wasting\\nall of our time.\\nEverybody ready?\\nFine.\\nAnd I\\'m happy to report\\nthat one of the benefits\\nof being a lying creep\\nis having all the answers\\nto tomorrow\\'s test.\\nAnd I\\'m happy to share them\\nwith anyone whose time I wasted\\nmore than they wasted mine.\\nJeff, if you have\\nall the answers,\\nwhy the hell did you start\\nthis study group?\\nI don\\'t have a study group.\\nI made it up.\\nWhat about the speech?\\nJEFF: That\\'s what I do.\\nI make things up.\\nAnd I got paid\\na lot of money to do it.\\nBefore I came\\nto this school-shaped toilet,\\nI was a lawyer.\\n[ALL GROAN]\\nSHIRLEY:\\nOh, man, this ruins everything.\\nI thought you\\'re like\\nBill Murray.\\nBut you\\'re more like\\nMichael Douglas.\\nYeah?\\nWell, you have Asperger\\'s.\\n[ANNIE GASPS]\\nWhat does that mean?\\nHa, ha. Ass burger.\\nIt\\'s a serious disorder.\\nIt really is.\\nIf it\\'s so serious, why don\\'t\\nthey call it meningitis?\\nHeh, heh. Yeah.\\nHeh, heh.\\nAss burger.\\nBurger for your ass.\\n[♪♪♪]\\n[CHUCKLES]\\nBefore you say anything,\\nyou might wanna think\\nabout the gift you\\'ve given.\\nAn excuse to punch a hippy?\\nNo. No, not that.\\nAn important lesson.\\nYou see, the tools you acquired\\nto survive out there\\nwill not help you here\\nat Greendale.\\nWhat you have, my friend,\\nis a second chance\\nat an honest life.\\nGive me my keys.\\nNo, I have to keep your car\\nfor the lesson.\\nPlease don\\'t hit me.\\nJeffrey? Jeffrey?\\nAre we cool? Are we cool?\\nPIERCE:\\nI like you, Jeffrey.\\nYou remind me of myself\\nat your age.\\nI deserve that.\\nYou know I\\'ve been divorced\\nseven times?\\nSometimes I think\\nI\\'m doing something wrong.\\nYou keep getting married.\\nI never\\nlooked at it that way.\\nShouldn\\'t you guys be studying?\\nYeah, things got kind of\\nboring after you left.\\nShouldn\\'t you be rolling around\\non a bed covered\\nin test answers?\\nI don\\'t have any of the answers.\\nI\\'m gonna flunk the test.\\nIf you just, like, study\\nfor an hour, it\\'s not that hard.\\nYou seem pretty smart.\\nYou got a sports coat.\\nWell, the funny thing\\nabout being smart\\nis you can get\\nthrough most of life\\nwithout having to do work.\\nSo I\\'m not really sure\\nhow to do that.\\n[MOUTHING WORDS]\\n[MOUTHING]\\nPlease? So sad?\\n[MOUTHING]\\nHe makes me wanna:\\nWhat\\'s going on?\\nCan you guys hear me?\\nAm I deaf?\\nCan you hear me talking\\nright now?\\nYes.\\nThat\\'s good.\\nYou know what?\\nJeff, actually,\\nwe didn\\'t get that far\\nwithout you.\\nSo if you wanna come\\nback upstairs--\\nReally?\\nWell, it is your study group,\\nso--\\nCome on, let\\'s study.\\nSounds good.\\nSHIRLEY: Come on.\\nPressure.\\n[THE 88\\'S \"DON\\'T YOU\\nFORGET ABOUT ME\" PLAYING]\\nI\\'m sorry I called you\\nMichael Douglas.\\nAnd I see your value now.\\nThat\\'s the nicest thing\\nanyone\\'s ever said to me.\\n[♪♪♪]'"
      ]
     },
     "execution_count": 11,
     "metadata": {},
     "output_type": "execute_result"
    }
   ],
   "source": [
    "\"\\n\".join([i for i in list(df.text) if i is not None])"
   ]
  },
  {
   "cell_type": "code",
   "execution_count": 5,
   "metadata": {},
   "outputs": [],
   "source": [
    "response = \"\"\"1. ¿Cómo se llama la protagonista? | (MUJER) ¡No! \"Me llamo Tokio. | Tokio, Berlín, Río, Moscú\n",
    "2. ¿Cuántos días llevaba Tokio escondida? | Llevaba 11 días escondida | 11 días, 5 días, 20 días, 2 días\n",
    "3. ¿Qué tipo de atraco planea el Profesor? | un atraco, un atraco... singular. | singular, normal, violento, rápido\n",
    "4. ¿Cuánto tiempo vivirán en la casa antes del atraco? | Viviremos aquí, Cinco meses | 5 meses, 1 mes, 3 meses, 1 año\n",
    "5. ¿Cómo eligen sus nombres en el grupo? | Quiero que cada uno elija, Puede ser números, -Rollo \"Señor 17, la señorita 23\". | ciudades, números, animales, colores\n",
    "6. ¿Cuál es el mayor golpe de Berlín? | Su mayor golpe, 434 diamantes. | 434 diamantes, 200 relojes, 500 mil euros, 1000 lingotes de oro\n",
    "7. ¿Qué está prohibido entre los miembros del grupo? | No quiero nada de nombres, ni, por supuesto, relaciones personales. | relaciones personales, hablar de política, comer juntos, dormir en la misma habitación\n",
    "8. ¿Qué habilidad tiene Río? | Programa desde los 6 años y lo sabe | Programar, cocinar, luchar, negociar\n",
    "9. ¿Qué falsificaba Nairobi antes del atraco? | Ha falsificado billetes | billetes, joyas, documentos, obras de arte\n",
    "10. ¿Cuál es el objetivo del atraco? | La Fábrica Nacional de Moneda y Timbre | La Fábrica Nacional de Moneda y Timbre, un banco, una joyería, un casino\"\"\""
   ]
  },
  {
   "cell_type": "code",
   "execution_count": 14,
   "metadata": {},
   "outputs": [
    {
     "data": {
      "text/plain": [
       "-1"
      ]
     },
     "execution_count": 14,
     "metadata": {},
     "output_type": "execute_result"
    }
   ],
   "source": [
    "x = \"hellohere\"\n",
    "x.find(\".\")"
   ]
  },
  {
   "cell_type": "code",
   "execution_count": 18,
   "metadata": {},
   "outputs": [],
   "source": [
    "def get_context_questions(response):\n",
    "    \"\"\"\n",
    "        Input format of Experiment 9: https://docs.google.com/document/d/18uES08soNbcb9-n2q4Q-j1bfRD096vzpuydnQNJ97y4/edit?usp=sharing\n",
    "        Returns a list of questions, contexts, and lists of answer options\n",
    "    \"\"\"\n",
    "    question_list = response.split(\"\\n\")\n",
    "    questions, contexts, answers = [], [], []\n",
    "    for i in question_list:\n",
    "        index = i.split(\".\")[0]\n",
    "        content = i[i.find(\".\"):]\n",
    "        question, context, options = content.split(\"|\")\n",
    "        option_list = options.split(\",\")\n",
    "        questions.append(question.strip())\n",
    "        contexts.append(context.strip())\n",
    "        answers.append([a.strip() for a in option_list])\n",
    "    return questions, contexts, answers\n",
    "    \n"
   ]
  },
  {
   "cell_type": "code",
   "execution_count": 28,
   "metadata": {},
   "outputs": [
    {
     "data": {
      "text/plain": [
       "'(HOMBRE) ¡Quieto o disparo!\\n(Disparo)\\n(MUJER) ¡No!\\n\"Me llamo Tokio.\\nPero cuando comenzó esta historia,\\nEsta era yo.\\nY este, el amor de mi vida.\\nLa última vez que lo vi\\ncon los ojos abiertos.\\nHicimos 15 atracos limpios,\\npero mezclar amor y trabajo\\nAsí que, cuando el segurata disparó,\\nDe ladrona a asesina.\\nY así fue como empecé a huir.\\nDe alguna manera,\\nO casi muerta.\\nLlevaba 11 días escondida\\ny mi foto empapelaba\\nMe caerían 30 años.\\nY, la verdad,\\nen la celda de un penal.\\nSoy más bien de huir.\\nEn cuerpo y alma.\\nY si no puedo llevar mi cuerpo,\\nal menos que escape mi alma\".\\n(Tono de llamada)\\n\"No me quedaba tiempo y había\\nEn realidad, solo una\".\\n(Teléfono)\\nSí.\\n\"¿Mamá?\".\\nAy, mi niña.\\n\"¿Cómo estás, cariño?\".\\n¿Qué está pasando?\\n\"¿No viste las noticias?\".\\nTodas esas cosas que dicen de mí.\\nSí, claro que las he visto.\\n¿Sabes qué?\\nEstoy pensando en irme de viaje.\\n\"A lo mejor me enrolo\\nDe cocinera.\\n¿No decías\\nAsí aprendo. ¿Qué te parece?\".\\nNo sé, cariño.\\n¿Y si comen todo chino, qué?\\n¿Ese viaje qué significa,\\n\"que no voy a volver a verte más?\".\\nQué tonterías dices.\\nPues claro que me verás.\\n\"Te compraré un billete\\n¿Visitarte dónde?\\n¿Al cementerio?\\n¿Estás sola?\\n\"Mamá, ¿estás sola?\".\\nSí.\\n\"Pues baja a la calle,\\nYo te encontraré\".\\n\"Y ese día,\\napareció mi ángel de la guarda.\\nPero una nunca sabe a ciencia cierta\\ny lo que menos te puedes imaginar\\ndel 92\".\\nPerdona, ¿tienes un minuto?\\nNo.\\nLo de cocinar en un barco chino\\nque no tienes que fregar los platos.\\n\"Por un momento\\ny en que odio a la gente\\n¿Quién eres, policía?\\nVas de camino al matadero,\\ny tienen un coche\\n¿Por qué te voy a creer?\\n\"Y así conocí al Profesor,\\napuntándole con una pistola\\n¿Puedo?\\n\"Lo bueno de las relaciones\\nes que uno termina olvidándose\\n¿Puedo?\\nEstán ya en casa de tu madre.\\nPor eso he venido a ayudarte.\\nQuiero proponerte un negocio,\\nun atraco, un atraco...\\nsingular.\\nEstoy buscando a gente que...\\nBueno,\\n¿Cómo te suenan...\\n\"Nadie había dado un palo así,\\nni en Nueva York,\\nasí que si mi foto\\nal menos que fuera por el atraco\\nOs doy la bienvenida...\\ny... las gracias\\nEsta oferta de trabajo.\\n(Risas)\\nViviremos aquí,\\nCinco meses, los cinco meses\\ncómo dar el golpe.\\n¿Estamos locos o qué?\\nMira, la gente pasa años estudiando\\npara tener un sueldo, un sueldo\\nno deja de ser un sueldo,\\n¿Qué son cinco meses?\\nYo llevo pensando en esto...\\nPara no volver a trabajar\\nNi vosotros...\\nni vuestros hijos.\\nBien.\\nDe momento no os conocéis\\nNo quiero nada de nombres,\\nni, por supuesto,\\nQuiero que cada uno elija\\nPuede ser números,\\n-Rollo \"Señor 17, la señorita 23\".\\nrecordar mi número de teléfono.\\n-¿Y planetas?\\n-Yo Urano no seré,\\n-¿Qué le pasa a Urano?\\nVan a ser ciudades, ciudades.\\nBien.\\n\"Y así terminé llamándome Tokio.\\nEse que me mira el culo\\nEn busca y captura.\\n27 atracos. Joyerías,\\nSu mayor golpe,\\n434 diamantes.\\nEs como un tiburón en una piscina.\\nPuedes bañarte con él,\\nY era el jefe al mando del asalto\".\\n(Tosidos)\\n\"El que tose es el señor Moscú.\\nLo primero que cavó fue una mina,\\nDespués comprendió que cavando\\nSeis peleterías, tres relojerías\\nManeja lanza térmica\\nEl que está sentado\\nDrogas, dientes, costillas rotas.\\nEs el rey de las peleas\\nPura sangre caliente.\\nEn un plan perfecto,\\nRío. Es mi debilidad.\\nEs como un Mozart,\\nPrograma desde los 6 años y lo sabe\\nPara el resto de cosas de la vida\\nY ahí están los siameses,\\nHasta en el plan más sofisticado\\ny qué mejor que dos serbios.\\nPuede que piensen, pero,\\nNairobi,\\noptimista empedernida.\\nHa falsificado billetes\\nY ahora es\\nEs posible que esté loca,\\nPensad que cada día los telediarios\\nque cada familia de este país\\nqué estamos haciendo.\\n¿Y sabéis lo que van a pensar?\\nVan a pensar: \"Qué cabrones,\\n\"El Profesor,\\nLa última vez\\nA todos los efectos, un fantasma,\\nNo vamos a robar...\\nporque les vamos a caer\\nY eso es fundamental, es fundamental\\nde nuestra parte.\\nVamos a ser los puñeteros héroes\\nPero mucho cuidado,\\nuna sola gota de sangre,\\ncomo haya una sola víctima,\\ndejaremos de ser unos Robin Hood\\npara convertirnos simplemente\\nProfesor.\\nSeñorita Tokio.\\n¿Qué vamos a robar?\\nLa Fábrica Nacional\\n¿Quién eligió la careta?\\n(BERLÍN) ¿Qué le pasa a la careta?\\nTú ves las pelis de atracadores\\nSon zombis, esqueletos,\\n(BERLÍN) Con un arma en la mano\\nte aseguro que da más miedo\\n-Venga ya.\\n-Dalí, hijo, un pintor español.\\n-Un pintor.\\n-Un pintor de pintar.\\n-(RESOPLA)\\n¿Tú sabes lo que da miedo de\\nEso sí que da miedo.\\n-¿Qué muñecos?\\n-El Goofy, el Pluto,\\n-¿Un ratón con orejas da más miedo,\\n-Pues sí, gilipollas.\\n-¡Eh!\\nSi un payo a punta de pistola\\na cualquier lado,\\nque liará una carnicería.\\nPorque las armas y los niños\\nson una cosa\\n¿Sí o no?\\nmás retorcido.\\n-Entonces una careta de Jesucristo\\n-Por eso dice que pega menos\\n-Como a un santo dos pistolas.\\n\"Era evidente\\n(Frenazo)\\n\"Una mujer puede tirarse dos días\\npero jamás emplearía un minuto\\nTodo lo que habíamos planeado\\ny en esas décimas de segundo\\na la que detendríamos en seco\\nEl Profesor sabía\\nen la Fábrica de Moneda y Timbre\\nde artefactos de arsenal.\\nque entraba cada semana\\ncon las nuevas bobinas de papel\\nY eso era lo que íbamos a hacer,\\nentrar hasta la cocina y escoltados\\nEn España, cualquier cosa\\nes algo fuertemente protegido\".\\n(Sirenas)\\n\"Pero si inhibes\\nde que se comuniquen\\ny si apuntas\\ncon cinco fusiles de asalto\\npor más armados que vayan,\\nles ocurre lo mismo que nos pasaría\\n¡He dicho que bajes, coño,\\n\"Que se cagan de miedo\".\\n\"El valor y el heroísmo\\ny es mayor\\nque cobra un chaval con uniforme...\"\\n\"...o un camionero\".\\n¡Venga, coño, abre!\\n\"Si esos hombres\\nen la trasera del camión,\\npero ¿a quién le importan\\nunas bobinas de papel moneda\\n¡Deprisa, deprisa!\\n¡Joder, macho! ¡Venga!\\n(NAIROBI) ¡Tira, tira, tira!\\nAhí sentado.\\nsi no, culatazo en la cabeza.\\n(BERLÍN) Conduciréis\\nCuando llamen por radio\\ncontestareis con tranquilidad,\\n¿Está claro?\\n\"Y en mitad\\nrecordé que la noche anterior\\ny que hubiera preferido\\nPero si lo piensas,\\nnunca encuentras un buen día\\nAhora ya sabes\\nNo le quites ojo a la niña.\\nNo puede haber errores, ¿estamos?\\nTiene 17 años.\\nCreo que podré con ella.\\n(Voces a lo lejos)\\n(Risas)\\n(Mensaje de móvil)\\nHola.\\n-Hola.\\n-¿Quieres salir conmigo?\\nVale. Te dejo.\\n-No, no, no.\\nQue no me lo tengo que pensar.\\n(MUJER) Bueno, chicos,\\nVamos a ir directamente\\nPedro, haz el favor,\\nVamos a salir ordenadamente\\nY esta es la fachada\\nEl corderito está entrando.\\nPerfecto.\\nBerlín, tu turno.\\n(Sirena)\\n(BERLÍN) Y ahora,\\n-¿Qué tal, Javi?\\n-Cambio de turno.\\n(ESTORNUDA)\\n-Eso está muy bien. Tranquilo.\\n(PROFESORA)\\nDespacito.\\n(HABLA SIN QUE APENAS SE OIGA)\\nEsto es importante. En cuanto\\nLas acreditaciones\\nTienen que estar visibles\\nNo te vuelvas.\\nCuando estás cerca,\\nPues respira,\\nporque dentro de nueve meses sí que\\nAdelante.\\n(PROFESORA) Bien visible\\nAcreditación colgada al cuello.\\nBerlín,\\n¿No me vas a decir nada? ¿Te digo\\nque estoy embarazada\\n¿Qué hago, llamo a mi mujer,\\ny nos vamos todos a celebrarlo?\\n(POLICÍA) Tira, tira. Dale, dale.\\n(RÍO) Entrando.\\nAtenta, Tokio.\\n¡Bien!\\n\"Alarmas desconectadas\".\\nSigue, dale, dale.\\nEras tú ayer\\nque no la aguantas,\\nProblemas como cualquier pareja,\\ncomo cualquier matrimonio\\nno que me fuera a separar.\\nMónica, he tenido tres hijos,\\nllevo más de 20 años manteniendo\\ny ahora vienes a contarme esto.\\nTú debes de ser Shiva,\\n\"¿Qué estás insinuando?\".\\nYo no he venido aquí\\nNi a por un divorcio,\\ny mucho menos\\nCreía que tú me querías.\\nY...\\nY me parece una idea bonita.\\nDifícil de encajar\\nPero una idea maravillosa.\\n¡Escucha!\\n¿Qué, quieres saber\\nEso es lo que quieres, ¿no?\\n(GRITA)\\n¡Quietos!\\n(BERLÍN) Quieto.\\n¡Quieto!\\n¿Qué pasa? ¡Haz algo!\\n-¡Salgan!\\n(GRITAN)\\n(Gritos)\\n\"¡Vamos, vamos!\".\\n¡Rápido! ¡Quietos!\\n¡Vamos, vamos!\\n¡Vamos!\\n¡Sí, sí!\\nMierda.\\nVamos, vamos.\\nPor aquí. Vamos.\\nY esta escalera maravillosa,\\n-¡Quietos!\\n(GRITAN)\\n¡Quietos!\\n(GRITAN)\\n¡Quietos, quietos! ¡Vamos!\\n¡Atrás!\\n-¡Por favor, no!\\n¡Ah!\\n¡No lo veo, coño!\\nSeñorita Parker,\\n(Gritos)\\nEspera.\\n¡Por favor!\\nPara, para. Para.\\n-Vale.\\nVale, vale.\\nEstoy yendo muy deprisa. Lo sé.\\n(Voces y sollozos)\\nVamos a inmortalizar esto, ¿no?\\nVamos a hacer\\nJoder...\\n¿Aquí? Es un poco cutre, ¿no?\\n-Es nuestro primer día.\\nEstás muy guapa.\\nNo veo a la niña. No la veo, joder.\\nÁbrete.\\nQue es tu móvil.\\nQue esto es para nosotros,\\nVa, va, va.\\nCon esta foto\\n-¡Dame el móvil!\\n¡Dame el móvil!\\n¡Dámelo!\\n¡Que me des el móvil, joder!\\n¡Dame el móvil!\\n¡Que me des el móvil!\\n¡Ah!\\n(Llantos)\\nLo primero...\\nBuenos días.\\nSoy la persona que está al mando.\\nY, antes de nada, quiero...\\npresentarles mis disculpas.\\nRealmente,\\n(DENVER) Móvil.\\n-Pero ustedes están aquí\\n(DENVER) Móvil.\\n-Si obedecen,\\n(DENVER) Nombre.\\n(DENVER) PIN.\\n-Móvil.\\n-Tranquila, tranquila.\\nTranquila.\\n-PIN.\\n¿Para qué necesita el PIN?\\nO me das el puñetero PIN\\n-¿De cuánto estás?\\n-(ATERRADA) De ocho meses.\\n-De ocho meses.\\n-PIN.\\nCon toda\\ny pones esa mierda de PIN.\\nArturo.\\nArturo Román.\\n(BERLÍN) Ustedes son\\nasí que yo les voy a proteger.\\n-Eh...\\nDame las manos. Suelta.\\nSuelta. Suelta.\\n¿Cómo te llamas?\\n-Ariadna.\\n-Ariadna.\\nVen conmigo. Ven.\\nTranquila.\\nSiente mis manos.\\n¿Son las manos de un monstruo?\\n-Porque no soy un monstruo.\\nSé perfectamente cómo te sientes.\\nLa boca seca, sensación de ahogo...\\nTienes que intentar tranquilizarte.\\nInspira.\\nInspira.\\nEso es.\\nInspiren.\\nSuave, suave.\\nHazte responsable\\nEso es. Eso es.\\n(Teléfono)\\n¿La señorita Mónica Gaztambide,\\n(SUSURRA) No te muevas.\\nCalla.\\nCalla.\\nLa señorita Mónica Gaztambide,\\n¿sería tan amable\\nSoy yo.\\n(Pieza de metal cayendo)\\n(DENVER) Eres un crack, papa.\\nEres \"mu\" grande.\\n(GRITA ENLOQUECIDO)\\nAquí se tiene que dormir muy bien,\\nAquí se tiene que dormir de lujo.\\n¡Oh! ¡Papa, papa, papa, papa!\\nFollar. Aquí, pum.\\nPum, pum...\\n-Venga, déjate de hacer el tonto\\n-Esto huele de puta madre.\\nHuele mejor que el cordero asado,\\nTúmbate aquí, cojones.\\n-¿Cuándo has tenido tú\\nEn el talego no la tenías.\\n¿Has visto dónde estamos, papa?\\nQue somos muy grandes.\\n-Chaval, no te equivoques.\\nSomos pequeños.\\n¿Tú sabes hacer algo?\\n¿Has trabajado alguna vez?\\n¿Has presentado\\nAh. Venga, coño.\\n-El currículum.\\n¿El currículum para qué?\\n¿Para sacarte a ti de Alcalá Meco?\\n-¿Crees que me siento\\n12 años de mi vida\\n¿Y sabes por qué?\\n-¿Por qué?\\n-Porque no soy muy listo, hijo.\\nY tú tampoco.\\nPero en este golpe\\nY si tenemos suerte\\nsaldrás de aquí\\n-No voy a hacer el gilipollas.\\nLlena esto.\\n(Teléfono)\\nQuiero que conteste al teléfono\\ny convenza a quien sea\\npor un problema técnico. ¿Entendido?\\nSí.\\nNo me va a quedar más remedio\\n¿La siente?\\nBien.\\n(Teléfono)\\nAhora.\\nFábrica Nacional\\nNo, lo siento, no le puedo pasar\\nSe ha caído el sistema.\\nNo, no puedo hacerle que suba.\\nNo, no puede subir\\nNo, no va a poder ser.\\nNo, por...\\n¡Pues porque no,\\nporque no sé si está en la fábrica,\\no donde esté! ¡Y, además,\\nEsa ha sido\\nseñorita Gaztambide.\\n(RESPIRA ENTRECORTADAMENTE)\\n\"A los 20 minutos de entrar,\\nde comunicación analógica\\n(CANTA EN SU IDIOMA)\\n\"Sin móviles, sin radiofrecuencia,\\nHabíamos sellado las puertas\\nEstábamos como en un limbo\\nque habíamos tomado\\nY en esa dulce paz,\\nparecía, sencillamente,\\nEstás guapo tú, ¿eh?\\n(Puerta)\\n¿Quién es?\\n(RÍO) Soy yo, déjame pasar.\\nRío, tío, nos pilla el Profesor\\nLo sé, lo sé, lo sé.\\n¿Qué pasa?\\n(RESOPLA)\\n¿Qué pasa?\\nMañana es el atraco.\\nY no tenemos ni puta idea\\nPor eso quiero que sepas\\ny entiendo perfectamente\\nque tú ya tienes una edad y...\\ny que puede que busques un...\\nPor eso quiero darte algo.\\nNo te he comprado un anillo\\npero, en cuanto salga,\\nque vas a tener que llevar la mano\\n¿Qué es esto?\\n¿Una chapa de pedida?\\nAhora por lo menos\\nYa, pero es que está prohibido\\nBueno, pues no lo mires.\\nPero es tuyo.\\nA ver cómo te cuento esto.\\nLo nuestro ha estado muy bien,\\nNos hemos enrollado\\n¿Cómo que algunas? Joder, todas,\\nSinceramente,\\n¿No follamos bien?\\nPor algo se empieza, ¿no?\\nPero hace falta\\npara ser una pareja, ¿no?\\n¿Lo dices porque soy\\nVoy a tener\\nNo soy ningún chaval,\\nDe verdad, Río, ojalá hubiéramos...\\nAmor había.\\nHay otro, ¿no?\\nYa no.\\nMira, Río,\\ncuando todo esto termine,\\ny vemos si funciona, pero mañana\\nque no me maten.\\nRío.\\nRío, no.\\nNo, no.\\nTe has dejado un móvil encendido.\\nPues apágalo.\\n-Cámara acorazada abierta.\\n-Poneos los chalecos\\nEn cuanto estéis,\\nBerlín,\\n¡Rehenes, por su seguridad,\\nUn poquito más por aquí. Eso es.\\nAhí estamos. Todo va a salir bien.\\nUn poquito más juntos.\\nChist. Tranquilos.\\nTranquilos. Estoy viendo las bolsas.\\nLas tienen llenas de dinero.\\nAhora se largarán\\n(Radio)\\n(Alarma)\\n(EMISORA) \"Tenemos un 10-33\\nen la Fábrica Nacional\\n-Z24 en camino.\\nDos minutos.\\n-Dos minutos.\\n(Alarma)\\n¿Por qué ha saltado la alarma?\\nEstán parados sin hacer nada,\\n¿Por qué no cogen el dinero\\n¡No lo sé!\\nUn minuto, 40 segundos.\\n-Un minuto...\\n¿Cómo te llamas?\\nArturo.\\nArturo, ¿verdad?\\nSí. ¡No, no he visto nada!\\n¡No he visto nada, lo juro,\\nMírame.\\nVenga, Arturo, mírame.\\nMírame, mírame.\\nEh, eh, venga, va.\\n(LLORA)\\nEh.\\n¿Te gusta el cine?\\n¿Te gusta?\\n(SOLLOZANDO) Soy...\\n¿Y tú te has dado cuenta\\nsiempre sale uno al principio,\\nque tú dices: \"Este huele a muerto\",\\ny luego no falla?\\nSiempre cae.\\nArturo, créeme, hueles a muerto.\\n(LLORA)\\n(EMISORA) \"Z24 a central,\\n30 segundos.\\n30 segundos.\\n\"Es fundamental que la policía\"\\nno tenga ni la más mínima idea\\nVamos a hacerles creer\\nque nos sorprendieron huyendo\\nque sacamos las armas,\\ny no tuvimos más remedio...\\n\"Y entonces, sin haber herido\"\\na nadie,\\nnos metemos dentro.\\n\"Que piensen\\n(Sirena)\\n\"Que piensen\\n¡Ahora!\\n-¡Tokio!\\n¡Tokio!\\n(Sirena)\\n\"Salir, tirar el dinero,\\n(GRITAN)\\n\"Lo había escuchado\\n(Disparos)\\n\"Pero lo que no nos dijo\\nes que ellos\\n¡Río, Río!\\n(Disparos)\\n¡Cago en la puta, tío!\\n(Disparos)\\n(Disparos)\\n(HABLA ENTRE SOLLOZOS)\\n¡Me cago en la puta!\\n¡La primera en la frente, tío,\\n¡Joder!\\n(RADIO) \"Apoyo urgente.\\nEn la Fábrica de Moneda y Timbre.\\nHemos recibido fuego hostil.\\nRepito, agente herido\".\\n\"La bala de un M16\\nVuela más rápido\\nAsí que si te disparan al corazón\\nni siquiera oirás\\nDe esa manera supe\\nen una milésima de segundo\\ny de la misma forma que siempre\".\\n(Trueno)'"
      ]
     },
     "execution_count": 28,
     "metadata": {},
     "output_type": "execute_result"
    }
   ],
   "source": [
    "df_to_text(df_spanish)"
   ]
  },
  {
   "cell_type": "code",
   "execution_count": 19,
   "metadata": {},
   "outputs": [
    {
     "data": {
      "text/plain": [
       "['(MUJER) ¡No! \"Me llamo Tokio.',\n",
       " 'Llevaba 11 días escondida',\n",
       " 'un atraco, un atraco... singular.',\n",
       " 'Viviremos aquí, Cinco meses',\n",
       " 'Quiero que cada uno elija, Puede ser números, -Rollo \"Señor 17, la señorita 23\".',\n",
       " 'Su mayor golpe, 434 diamantes.',\n",
       " 'No quiero nada de nombres, ni, por supuesto, relaciones personales.',\n",
       " 'Programa desde los 6 años y lo sabe',\n",
       " 'Ha falsificado billetes',\n",
       " 'La Fábrica Nacional de Moneda y Timbre']"
      ]
     },
     "execution_count": 19,
     "metadata": {},
     "output_type": "execute_result"
    }
   ],
   "source": [
    "contexts"
   ]
  },
  {
   "cell_type": "code",
   "execution_count": 16,
   "metadata": {},
   "outputs": [
    {
     "name": "stdout",
     "output_type": "stream",
     "text": [
      "1256260003\n",
      "1512345000\n",
      "5759925003\n",
      "11093585001\n",
      "12284357501\n"
     ]
    }
   ],
   "source": [
    "print('\\n'.join([str(int(x)) for x in df_english[df_english['index'].isin([50, 61, 441, 225, 479])]['begin'].tolist()]))"
   ]
  },
  {
   "cell_type": "code",
   "execution_count": 26,
   "metadata": {},
   "outputs": [
    {
     "data": {
      "text/plain": [
       "18.489308334999997"
      ]
     },
     "execution_count": 26,
     "metadata": {},
     "output_type": "execute_result"
    }
   ],
   "source": [
    "11093585001 / 10000000 / 60"
   ]
  },
  {
   "cell_type": "code",
   "execution_count": 22,
   "metadata": {},
   "outputs": [
    {
     "data": {
      "text/html": [
       "<div>\n",
       "<style scoped>\n",
       "    .dataframe tbody tr th:only-of-type {\n",
       "        vertical-align: middle;\n",
       "    }\n",
       "\n",
       "    .dataframe tbody tr th {\n",
       "        vertical-align: top;\n",
       "    }\n",
       "\n",
       "    .dataframe thead th {\n",
       "        text-align: right;\n",
       "    }\n",
       "</style>\n",
       "<table border=\"1\" class=\"dataframe\">\n",
       "  <thead>\n",
       "    <tr style=\"text-align: right;\">\n",
       "      <th></th>\n",
       "      <th>text</th>\n",
       "      <th>index</th>\n",
       "    </tr>\n",
       "  </thead>\n",
       "  <tbody>\n",
       "    <tr>\n",
       "      <th>476</th>\n",
       "      <td>we didn't get that far without you.</td>\n",
       "      <td>477</td>\n",
       "    </tr>\n",
       "    <tr>\n",
       "      <th>477</th>\n",
       "      <td>So if you wanna come back upstairs--</td>\n",
       "      <td>478</td>\n",
       "    </tr>\n",
       "    <tr>\n",
       "      <th>478</th>\n",
       "      <td>Really?</td>\n",
       "      <td>479</td>\n",
       "    </tr>\n",
       "    <tr>\n",
       "      <th>479</th>\n",
       "      <td>Well, it is your study group, so--</td>\n",
       "      <td>480</td>\n",
       "    </tr>\n",
       "    <tr>\n",
       "      <th>480</th>\n",
       "      <td>Come on, let's study. Sounds good.</td>\n",
       "      <td>481</td>\n",
       "    </tr>\n",
       "    <tr>\n",
       "      <th>481</th>\n",
       "      <td>SHIRLEY: Come on. Pressure.</td>\n",
       "      <td>482</td>\n",
       "    </tr>\n",
       "    <tr>\n",
       "      <th>482</th>\n",
       "      <td>[THE 88'S \"DON'T YOU FORGET ABOUT ME\" PLAYING]</td>\n",
       "      <td>483</td>\n",
       "    </tr>\n",
       "    <tr>\n",
       "      <th>483</th>\n",
       "      <td>♪ Will you walk on by? ♪</td>\n",
       "      <td>484</td>\n",
       "    </tr>\n",
       "    <tr>\n",
       "      <th>484</th>\n",
       "      <td>I'm sorry I called you Michael Douglas.</td>\n",
       "      <td>485</td>\n",
       "    </tr>\n",
       "    <tr>\n",
       "      <th>485</th>\n",
       "      <td>And I see your value now.</td>\n",
       "      <td>486</td>\n",
       "    </tr>\n",
       "    <tr>\n",
       "      <th>486</th>\n",
       "      <td>♪ Come on, call my name ♪</td>\n",
       "      <td>487</td>\n",
       "    </tr>\n",
       "    <tr>\n",
       "      <th>487</th>\n",
       "      <td>That's the nicest thing anyone's ever said to me.</td>\n",
       "      <td>488</td>\n",
       "    </tr>\n",
       "    <tr>\n",
       "      <th>488</th>\n",
       "      <td>♪ I say, la La la la ♪</td>\n",
       "      <td>489</td>\n",
       "    </tr>\n",
       "    <tr>\n",
       "      <th>489</th>\n",
       "      <td>♪ La, la, la, la ♪</td>\n",
       "      <td>490</td>\n",
       "    </tr>\n",
       "    <tr>\n",
       "      <th>490</th>\n",
       "      <td>♪ La, la, la, la, la La, la, la ♪</td>\n",
       "      <td>491</td>\n",
       "    </tr>\n",
       "    <tr>\n",
       "      <th>491</th>\n",
       "      <td>♪ La, la, la, la, la ♪</td>\n",
       "      <td>492</td>\n",
       "    </tr>\n",
       "    <tr>\n",
       "      <th>492</th>\n",
       "      <td>♪ La, la, la, la ♪</td>\n",
       "      <td>493</td>\n",
       "    </tr>\n",
       "    <tr>\n",
       "      <th>493</th>\n",
       "      <td>[♪♪♪]</td>\n",
       "      <td>494</td>\n",
       "    </tr>\n",
       "  </tbody>\n",
       "</table>\n",
       "</div>"
      ],
      "text/plain": [
       "                                                  text  index\n",
       "476                we didn't get that far without you.    477\n",
       "477               So if you wanna come back upstairs--    478\n",
       "478                                            Really?    479\n",
       "479                 Well, it is your study group, so--    480\n",
       "480                 Come on, let's study. Sounds good.    481\n",
       "481                        SHIRLEY: Come on. Pressure.    482\n",
       "482     [THE 88'S \"DON'T YOU FORGET ABOUT ME\" PLAYING]    483\n",
       "483                           ♪ Will you walk on by? ♪    484\n",
       "484            I'm sorry I called you Michael Douglas.    485\n",
       "485                          And I see your value now.    486\n",
       "486                          ♪ Come on, call my name ♪    487\n",
       "487  That's the nicest thing anyone's ever said to me.    488\n",
       "488                             ♪ I say, la La la la ♪    489\n",
       "489                                 ♪ La, la, la, la ♪    490\n",
       "490                  ♪ La, la, la, la, la La, la, la ♪    491\n",
       "491                             ♪ La, la, la, la, la ♪    492\n",
       "492                                 ♪ La, la, la, la ♪    493\n",
       "493                                              [♪♪♪]    494"
      ]
     },
     "execution_count": 22,
     "metadata": {},
     "output_type": "execute_result"
    }
   ],
   "source": [
    "df_english.iloc[476:,2:]"
   ]
  },
  {
   "cell_type": "code",
   "execution_count": 34,
   "metadata": {},
   "outputs": [],
   "source": [
    "beginner_string = \"\"\"\n",
    "Buenos días | Good morning\n",
    "Me llamo Abed | My name is Abed\n",
    "No se concentra | She can't concentrate\n",
    "Háblame de ti | Tell me about yourself\n",
    "Sí, un placer | Yes, a pleasure\n",
    "Adiós | Goodbye\n",
    "¿Estás listo? | Are you ready?\n",
    "Muy bien | Very good\n",
    "Mucho gusto | Nice to meet you\n",
    "Por la misma razón | For the same reason\n",
    "Necesitamos gente motivada | We need motivated people\n",
    "No tengo un grupo | I don't have a group\n",
    "Vamos, estudiemos | Let's go, let's study\n",
    "\"\"\"\n",
    "intermediate_string = \"\"\"\n",
    "¿Qué es la universidad comunitaria? | What is community college?\n",
    "Me da gusto conocerte | Nice to meet you\n",
    "¿Qué onda con la sexy de la clase de español? | What's up with the sexy girl from the Spanish class?\n",
    "Necesito mucha ayuda en español | I need a lot of help in Spanish\n",
    "Nos vemos en la biblioteca a las 4:00 | See you at the library at 4:00\n",
    "No, porque eres una niña de cinco | No, because you are a five-year-old girl\n",
    "Perfecto, lo haré | Perfect, I will do it\n",
    "¿Por qué sigo gritando? | Why do I keep yelling?\n",
    "No es el mío | It's not mine\n",
    "La gente puede conectar | People can connect\n",
    "Sería insoportable | It would be unbearable\n",
    "Y ahora si me disculpan | And now if you excuse me\n",
    "Me lo merezco | I deserve it\n",
    "\"\"\"\n",
    "chunks = [x.split('|')[0].strip() for x in intermediate_string.split(\"\\n\") if x != '']"
   ]
  },
  {
   "cell_type": "code",
   "execution_count": 35,
   "metadata": {},
   "outputs": [
    {
     "data": {
      "text/plain": [
       "['¿Qué es la universidad comunitaria?',\n",
       " 'Me da gusto conocerte',\n",
       " '¿Qué onda con la sexy de la clase de español?',\n",
       " 'Necesito mucha ayuda en español',\n",
       " 'Nos vemos en la biblioteca a las 4:00',\n",
       " 'No, porque eres una niña de cinco',\n",
       " 'Perfecto, lo haré',\n",
       " '¿Por qué sigo gritando?',\n",
       " 'No es el mío',\n",
       " 'La gente puede conectar',\n",
       " 'Sería insoportable',\n",
       " 'Y ahora si me disculpan',\n",
       " 'Me lo merezco']"
      ]
     },
     "execution_count": 35,
     "metadata": {},
     "output_type": "execute_result"
    }
   ],
   "source": [
    "chunks"
   ]
  },
  {
   "cell_type": "code",
   "execution_count": 36,
   "metadata": {},
   "outputs": [
    {
     "data": {
      "text/plain": [
       "0           UNIVERSIDAD COMUNITARIA DE GREENDALE\n",
       "1                                   Buenos días.\n",
       "2      Muchos están a mitad de su primera semana\n",
       "3                              y como su decano,\n",
       "4                            quiero compartirles\n",
       "                         ...                    \n",
       "379                          -Vamos, estudiemos.\n",
       "380                                      -Vamos.\n",
       "381        Siento haberte dicho Michael Douglas.\n",
       "382     Es lo más amable que jamás me han dicho.\n",
       "383                Traducción de subtítulos por:\n",
       "Name: text, Length: 384, dtype: object"
      ]
     },
     "execution_count": 36,
     "metadata": {},
     "output_type": "execute_result"
    }
   ],
   "source": [
    "df_spanish['text']"
   ]
  },
  {
   "cell_type": "code",
   "execution_count": 37,
   "metadata": {},
   "outputs": [
    {
     "name": "stdout",
     "output_type": "stream",
     "text": [
      "166833332.0\n",
      "670252916.0\n",
      "767433332.0\n",
      "2523354166.0\n",
      "2575072500.0\n",
      "4331410416.0\n",
      "4364777082.0\n",
      "4431927500.0\n",
      "4982894582.0\n",
      "8804212082.0\n",
      "8988980000.0\n",
      "10058381666.0\n",
      "11405977916.0\n"
     ]
    }
   ],
   "source": [
    "for chunk in chunks:\n",
    "    print(df_spanish[df_spanish['text'].str.contains(chunk, case=False)].iloc[0,0])"
   ]
  },
  {
   "cell_type": "code",
   "execution_count": 32,
   "metadata": {},
   "outputs": [
    {
     "name": "stdout",
     "output_type": "stream",
     "text": [
      "0           UNIVERSIDAD COMUNITARIA DE GREENDALE\n",
      "1                                   Buenos días.\n",
      "2      Muchos están a mitad de su primera semana\n",
      "3                              y como su decano,\n",
      "4                            quiero compartirles\n",
      "                         ...                    \n",
      "379                          -Vamos, estudiemos.\n",
      "380                                      -Vamos.\n",
      "381        Siento haberte dicho Michael Douglas.\n",
      "382     Es lo más amable que jamás me han dicho.\n",
      "383                Traducción de subtítulos por:\n",
      "Name: text, Length: 384, dtype: object\n"
     ]
    }
   ],
   "source": [
    "print(df_spanish['text'])"
   ]
  },
  {
   "cell_type": "code",
   "execution_count": 2,
   "metadata": {},
   "outputs": [],
   "source": [
    "words = '''Buenos días\n",
    "Me llamo Abed\n",
    "No se concentra\n",
    "Háblame de ti\n",
    "Sí, un placer\n",
    "Adiós\n",
    "¿Estás listo?\n",
    "Muy bien\n",
    "Mucho gusto\n",
    "Por la misma razón\n",
    "Necesitamos gente motivada\n",
    "No tengo un grupo\n",
    "Vamos, estudiemos\n",
    "¿Qué es la universidad comunitaria?\n",
    "Me da gusto conocerte\n",
    "¿Qué onda con la sexy de la clase de español?\n",
    "Necesito mucha ayuda en español\n",
    "Nos vemos en la biblioteca a las 4:00\n",
    "No, porque eres una niña de cinco\n",
    "Perfecto, lo haré\n",
    "¿Por qué sigo gritando?\n",
    "No es el mío\n",
    "La gente puede conectar\n",
    "Sería insoportable\n",
    "Y ahora si me disculpan\n",
    "Me lo merezco'''\n"
   ]
  },
  {
   "cell_type": "code",
   "execution_count": 11,
   "metadata": {},
   "outputs": [],
   "source": [
    "import string\n",
    "(str.maketrans('', '', string.punctuation))\n",
    "all_words = set()\n",
    "for w in words.split(\"\\n\"):\n",
    "    for w2 in w.split(\" \"):\n",
    "        all_words.add(w2.translate(str.maketrans('', '', string.punctuation)).lower().replace(\"¿\",\"\"))"
   ]
  },
  {
   "cell_type": "code",
   "execution_count": 12,
   "metadata": {},
   "outputs": [
    {
     "data": {
      "text/plain": [
       "{'400',\n",
       " 'a',\n",
       " 'abed',\n",
       " 'adiós',\n",
       " 'ahora',\n",
       " 'ayuda',\n",
       " 'biblioteca',\n",
       " 'bien',\n",
       " 'buenos',\n",
       " 'cinco',\n",
       " 'clase',\n",
       " 'comunitaria',\n",
       " 'con',\n",
       " 'concentra',\n",
       " 'conectar',\n",
       " 'conocerte',\n",
       " 'da',\n",
       " 'de',\n",
       " 'disculpan',\n",
       " 'días',\n",
       " 'el',\n",
       " 'en',\n",
       " 'eres',\n",
       " 'es',\n",
       " 'español',\n",
       " 'estudiemos',\n",
       " 'estás',\n",
       " 'gente',\n",
       " 'gritando',\n",
       " 'grupo',\n",
       " 'gusto',\n",
       " 'haré',\n",
       " 'háblame',\n",
       " 'insoportable',\n",
       " 'la',\n",
       " 'las',\n",
       " 'listo',\n",
       " 'llamo',\n",
       " 'lo',\n",
       " 'me',\n",
       " 'merezco',\n",
       " 'misma',\n",
       " 'motivada',\n",
       " 'mucha',\n",
       " 'mucho',\n",
       " 'muy',\n",
       " 'mío',\n",
       " 'necesitamos',\n",
       " 'necesito',\n",
       " 'niña',\n",
       " 'no',\n",
       " 'nos',\n",
       " 'onda',\n",
       " 'perfecto',\n",
       " 'placer',\n",
       " 'por',\n",
       " 'porque',\n",
       " 'puede',\n",
       " 'qué',\n",
       " 'razón',\n",
       " 'se',\n",
       " 'sería',\n",
       " 'sexy',\n",
       " 'si',\n",
       " 'sigo',\n",
       " 'sí',\n",
       " 'tengo',\n",
       " 'ti',\n",
       " 'un',\n",
       " 'una',\n",
       " 'universidad',\n",
       " 'vamos',\n",
       " 'vemos',\n",
       " 'y'}"
      ]
     },
     "execution_count": 12,
     "metadata": {},
     "output_type": "execute_result"
    }
   ],
   "source": [
    "all_words"
   ]
  },
  {
   "cell_type": "code",
   "execution_count": 14,
   "metadata": {},
   "outputs": [
    {
     "name": "stdout",
     "output_type": "stream",
     "text": [
      "{'gente', 'placer', 'de', 'el', 'concentra', 'muy', 'háblame', 'insoportable', 'grupo', 'motivada', 'onda', 'niña', 'haré', 'me', 'abed', 'no', 'sexy', 'necesito', 'ti', 'qué', 'conectar', 'gusto', 'disculpan', 'cinco', 'biblioteca', 'puede', 'días', 'un', 'universidad', 'español', 'bien', 'una', 'vamos', 'perfecto', 'con', 'clase', 'ahora', 'sí', 'vemos', 'gritando', 'nos', 'sería', 'sigo', 'estás', 'misma', 'lo', 'por', 'adiós', 'estudiemos', '400', 'da', 'las', 'necesitamos', 'a', 'en', 'porque', 'es', 'la', 'tengo', 'razón', 'conocerte', 'listo', 'mío', 'ayuda', 'y', 'eres', 'comunitaria', 'se', 'mucha', 'buenos', 'merezco', 'mucho', 'llamo', 'si'}\n"
     ]
    }
   ],
   "source": [
    "print(all_words)"
   ]
  },
  {
   "cell_type": "code",
   "execution_count": 15,
   "metadata": {},
   "outputs": [],
   "source": [
    "gen = {'alma', 'amor', 'bailar', 'beso', 'caminar', 'cansado', 'comida', 'confiar', 'contento', 'correr', 'cumpleaños', 'decir', 'despertar', 'dormir', 'escuchar', 'esperar', 'estudiar', 'feliz', 'fiesta', 'frente', 'fuerte', 'gracias', 'hablar', 'hacer', 'hermosa', 'hola', 'jugar', 'leer', 'lento', 'libro', 'lindo', 'malo', 'mañana', 'miedo', 'mirar', 'momento', 'nadar', 'nuevo', 'olvidar', 'padre', 'palabra', 'pensar', 'perdón', 'pintar', 'poder', 'preguntar', 'querer', 'rápido', 'recuerda', 'reír', 'respeto', 'saber', 'sentir', 'silencio', 'sol', 'sonrisa', 'soñar', 'tarde', 'tener', 'trabajar', 'tranquilo', 'valiente', 'venir', 'ver', 'viajar', 'vida', 'vivir', 'música', 'amigo', 'animal', 'casa', 'ciudad', 'coche', 'color', 'compartir', 'familia', 'fruta', 'gato', 'hermano', 'historia', 'libertad', 'lugar', 'madre', 'montaña', 'naturaleza', 'niño', 'pájaro', 'paisaje', 'película', 'perro', 'playa', 'pueblo', 'sonido', 'tiempo', 'árboles', 'café', 'hambre', 'lluvia', 'manzana', 'mar', 'nube', 'solitario', 'ventana', 'zapatos'}"
   ]
  },
  {
   "cell_type": "code",
   "execution_count": 23,
   "metadata": {},
   "outputs": [],
   "source": [
    "all_words = set()\n",
    "for w in df_spanish['text'].tolist():\n",
    "    for w2 in w.split(\" \"):\n",
    "        all_words.add(w2.translate(str.maketrans('', '', string.punctuation)).lower().replace(\"¿\",\"\"))"
   ]
  },
  {
   "cell_type": "code",
   "execution_count": 25,
   "metadata": {},
   "outputs": [
    {
     "name": "stdout",
     "output_type": "stream",
     "text": [
      "{'tiburón', 'accidente', 'grupo', 'vuelvo', 'ordenaste', 'desastre', 'inferior', 'su', 'quién', 'ventajas', 'mensaje', 'hora', 'prueben', 'acosas', 'bien', 'vez', 'cabeza', 'distingue', 'agarro', 'cortejo', 'alteró', 'dejar', 'encuentra', 'sincera', 'tan', 'aprender', 'étnico', 'estacionamiento', 'delito', 'asperger', 'pies', 'declaro', 'nombre', 'nuestra', 'usas', 'del', 'comerciante', 'ejercer', 'jamás', 'empiecen', 'conocernos', 'pegues', 'filtro', 'palestino', 'sopa', 'es', 'tiburones', 'amistad', 'oído', 'esta', 'serán', 'saben', 'comunitaria', 'cenar', 'quedarme', 'siento', 'parecer', 'hablé', 'llevo', 'sentido', 'esquina', 'pregunto', 'compartirles', 'niños', 'abandonaron', 'haré', 'jeffrey', 'adelante', 'gracias', 'películas', 'eras', 'seis', 'arruina', 'pues', 'presentaré', 'pareces', 'escucharemos', 'muchos', 'drogadicta', 'resto', 'noche', 'cualquiera', 'acrobacia', 'tutor', 'meterte', 'dentro', 'perdió', 'ya', 'horario', 'mírenme', 'muerto', 'respeto', 'le', 'bill', 'bonita', 'quizás', 'retrasado', 'insultado', 'hay', 'volver', 'entrepierna', 'ciencias', 'posible', 'toma', 'buen', 'lástima', 'se', 'esposa', 'gusto', 'amar', 'deseo', 'hermano', 'ojos', 'haciendo', 'concentra', 'espera', 'como', 'adultos', 'oye', 'ver', 'genio', 'día', 'guardaré', 'dislocarse', 'más', 'difícil', 'barra', 'propósito', 'los', 'saco', 'carrito', 'minutos', 'antes', 'humanas', 'notaste', 'real', 'harás', 'tendría', 'pescaron', 'viejitos', 'chalupas', 'entrar', 'fanfarronadas', 'estamos', 'convertido', 'única', 'somos', 'proteger', 'iphone', 'perdonar', 'calentadores', 'tarjeta', 'columbia', 'mueble', 'diría', 'ese', 'princesita', 'deberían', 'conoces', 'priorizar', 'certificado', 'debo', 'golf', 'esa', 'parte', 'ven', 'reprobaré', 'querer', 'era', 'muy', 'campo', 'adentro', 'háblame', 'niñera', 'inspirador', 'futbol', 'cierto', 'joven', 'sexy', 'hablarle', 'les', 'disculpan', 'fea', 'biblioteca', 'puede', 'días', 'baño', 'vuelta', 'tienes', 'discurso', 'acosaría', 'mí', 'vamos', 'con', 'adderall', 'pregunta', 'galardonadas', 'mariscal', 'piedra', 'obtengo', 'nos', 'triste', 'troy', 'tomado', '10', 'pasa', 'coqueteos', 'primera', 'creerán', 'podemos', 'hago', 'sus', 'creí', 'y', 'ceremonia', 'mis', 'será', 'ni', 'pensar', 'veré', 'suerte', 'miedo', 'gato', 'convencí', 'pones', 'motivada', 'sido', 'descubrí', 'sin', 'poco', 'hablar', 'digo', 'mucho', 'hoja', 'amable', 'decidir', 'extiendan', 'dicho', 'han', 'aprendemos', 'pásale', 'aquí', 'affleck', 'estás', 'venido', 'dejó', 'jurados', 'cartón', '12', 'voltear', 'diseñados', 'tanto', 'annie', 'verbos', 'presente', 'nadie', 'estudiaras', 'quiera', 'caliente', 'malas', 'golpear', 'buenos', 'acepto', 'mi', 'cena', 'lamenta', 'si', 'ser', 'hermosa', 'quiere', 'hicieron', 'duncan', 'serio', 'adelantado', 'arriba', 'tipos', 'decirlo', 'acto', 'apoyo', 'espero', 'todo', 'veintitantos', 'vida', 'oyen', 'excita', 'cualquier', 'volveré', 'reprobará', 'billetera', 'leámoslo', 'sinceridad', 'listos', 'leyenda', 'tiene', 'irse', 'moral', 'acoso', 'ha', 'contacto', 'orgullo', 'insertan', 'soy', 'fuiste', 'convierto', 'mucha', 'temprana', 'gente', 'chamán', 'al', 'estúpida', 'niña', 'loquero', 'cenamos', 'energía', 'johnny', 'vi', 'quería', 'hacer', 'usando', 'vas', 'trabajo', 'tensión', 'dejado', 'mientes', 'él', 'creo', 'encontré', 'veces', 'enseñable', 'son', 'divorciado', 'entera', 'informarles', 'mientras', 'rey', 'conocerte', 'siéntense', 'ayuda', 'adjunto', 'camino', 'llegó', 'greendale', 'placer', 'cumplido', 'mitad', 'uno', 'contarte', 'entonces', 'tus', 'estatal', 'puedes', 'hablarme', 'mejores', 'ves', 'raya', 'bueno', 'integridad', 'ben', 'algo', 'mírala', 'situación', 'gritar', 'perder', 'español', 'gran', 'aburrido', 'están', 'clase', 'u', '¡pltca', 'estar', 'sigo', 'tal', 'cosas', 'caes', 'agradable', 'tiradero', 'voy', 'evidente', 'asientos', 'comunidad', 'estaba', '400', '1105', 'estudio', 'porque', 'derecho', 'trabaja', 'ahí', 'forma', 'deportista', 'equipo', 'recuerdas', 'había', 'tarea', 'toallitas', 'dios', 'estados', 'imparable', 'amenaza', 'activas', 'douglas', 'necesito', 'verdad', 'excusa', 'año', 'fui', 'fue', 'tu', 'tomarás', 'madre', 'inofensivos', 'ahora', 'vemos', 'allá', 'todos', 'comerte', 'dame', 'papá', 'maestro', 'cómo', 'registro', 'limpiar', 'herramientas', 'discutamos', 'fúmale', 'sean', 'juega', 'racista', 'da', 'seguridad', 'cumple', 'cada', 'cama', 'título', 'unidos', 'por', 'el', 'único', 'este', 'me', 'gallina', 'tiempo', 'acaso', 'muebles', 'qué', 'agarriche', 'sola', 'compartiré', 'grave', 'email', 'suspendió', 'primero', 'circular', 'manteniendo', 'improvisación', 'ir', 'para', 'mamá', 'pongo', 'olvidar', 'toda', 'ustedes', 'certifica', 'nuestro', 'creen', 'cuando', 'decir', 'digan', 'preguntan', 'caerte', 'soñaría', 'loco', 'semestre', 'decisiones', 'está', 'razón', 'así', 'listo', 'ningún', 'mentiroso', 'estúpido', 'murray', 'gritando', 'curioso', 'calle', 'datos', 'sé', 'sobre', 'tenemos', 'haces', 'escribe', 'bender', 'adulta', 'sea', 'necesitas', 'nunca', 'pequeño', 'ti', 'media', 'gusta', 'tardamos', 'trastorno', 'entiendo', 'trasero', 'creatura', 'darle', 'audiencia', 'promedio', 'ciudadano', 'examen', 'otros', 'lápiz', 'escusado', 'pides', 'elizabeth', 'dos', 'sexualmente', 'profesor', 'adquiriste', 'todas', 'mal', 'jeff', 'ahorita', 'perdón', 'viejo', 'revolcarte', 'especie', 'eternidad', 'genial', 'divorciados', 'igual', 'nada', 'diferencia', 'fácil', 'hacerlo', 'la', 'americano', 'mío', 'hippies', 'universitario', 'tomaré', 'entre', 'pase', 'luego', 'familia', 'siquiera', 'simpatizar', 'compasión', 'importante', 'preocupación', 'perdono', 'hola', 'podrías', 'tono', 'cariño', 'pero', 'película', 'abogado', 'primer', 'animales', 'debemos', 'texto', 'izquierda', 'pueden', 'sí', 'orientación', 'deja', 'preguntaste', 'oírme', 'nosotros', 'lo', 'último', 'interesante', 'amigo', 'winger', 'las', 'necesitamos', 'santo', 'sal', 'persona', 'reciben', 'das', 'estudiando', 'sexual', 'ellos', 'salón', 'estudiar', 'mejor', 'traducción', 'dieron', 'debe', 'espaldas', 'estoy', 'encuentro', 'también', 'llamo', 'especial', 'insoportable', 'onda', 'octubre', 'alcantarilla', 'michael', 'resuelta', 'casando', 'sabía', 'deberías', 'tras', 'lugar', 'piel', 'perfecto', 'auto', 'lección', 'furioso', 'seguro', 'hasta', 'entrenaron', 'segunda', 'relativismo', 'supón', 'vete', 'escuela', 'estudiemos', 'edad', 'adolescente', 'agarró', 'astetonto', 'pon', 'pasas', 'britta', 'invité', 'hecho', 'juego', 'o', 'desde', 'pidió', 'haberte', 'quisiera', 'eres', 'digas', 'cigarrillos', 'que', 'a', 'inventé', 'hubiera', 'mira', 'significa', 'arrepentiremos', 'fabuloso', 'durante', 'estudien', 'viaje', 'roy', 'invitamos', 'oportunidad', 'sabes', 'mano', 'valor', 'di', 'hombre', 'mentes', 'importa', 'hagas', 'has', 'lexus', 'sería', 'pone', 'misma', 'beca', 'dijo', 'adiós', 'hawthorne', 'quieres', 'inapropiado', 'reprimido', 'baby', 'en', 'alguien', 'admitirlo', 'hacernos', 'shirley', 'decente', 'navidad', 'de', 'eso', 'tierra', 'cielo', 'sólo', 'lógica', 'error', 'vean', 'chamarra', 'no', 'venir', 'sabiduría', '28', 'conduzco', 'bandido', 'esto', 'dejen', 'un', 'humanos', 'pago', 'ayudarán', 'pierce', 'cerca', 'maravilla', 'óscar', 'decano', 'junto', 'semana', 'veo', 'académica', 'años', 'invento', 'te', 'quiero', 'veras', 'buscarla', 'árabe', 'diste', 'clases', 'feliz', 'licencia', 'tengo', 'fría', 'calmar', 'puso', 'institución', 'respuestas', 'incendio', 'sigues', 'club', 'conectar', 'problema', 'ira', 'grupos', 'alto', 'terminaron', 'cuenta', 'hace', 'consejos', 'puedo', 'aun', 'relativa', 'haga', 'abed', 'pagaban', 'cinco', 'respuesta', 'dejo', 'enseñables', 'indica', 'cancha', 'saber', 'yo', 'favor', 'llaves', 'universidad', 'una', 'tenía', 'país', 'limpiarse', 'baile', 'mañana', 'parece', 'he', 'muere', 'salió', 'justicia', 'tú', 'palabras', 'prominente', 'sordo', 'ganado', 'subtítulos', 'merezco', 'inhabilitación', 'descubrieron', 'voz'}\n"
     ]
    }
   ],
   "source": [
    "print(all_words)"
   ]
  },
  {
   "cell_type": "code",
   "execution_count": null,
   "metadata": {},
   "outputs": [],
   "source": []
  }
 ],
 "metadata": {
  "kernelspec": {
   "display_name": "ds",
   "language": "python",
   "name": "python3"
  },
  "language_info": {
   "codemirror_mode": {
    "name": "ipython",
    "version": 3
   },
   "file_extension": ".py",
   "mimetype": "text/x-python",
   "name": "python",
   "nbconvert_exporter": "python",
   "pygments_lexer": "ipython3",
   "version": "3.10.6"
  },
  "orig_nbformat": 4
 },
 "nbformat": 4,
 "nbformat_minor": 2
}
