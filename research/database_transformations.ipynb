{
 "cells": [
  {
   "cell_type": "code",
   "execution_count": 1,
   "metadata": {},
   "outputs": [],
   "source": [
    "vocab_beginner = \"\"\"Buenos días | Good morning \n",
    "Me llamo Abed | My name is Abed\n",
    "No se concentra | She can't concentrate\n",
    "Háblame de ti | Tell me about yourself\n",
    "Sí, un placer | Yes, a pleasure\n",
    "Adiós | Goodbye\n",
    "¿Estás listo? | Are you ready?\n",
    "Muy bien | Very good\n",
    "Mucho gusto | Nice to meet you\n",
    "Por la misma razón | For the same reason\n",
    "Necesitamos gente motivada | We need motivated people\n",
    "No tengo un grupo | I don't have a group\n",
    "Vamos, estudiemos | Let's go, let's study\"\"\"\n",
    "vocab_inter = \"\"\"¿Qué es la universidad comunitaria? | What is community college?\n",
    "Me da gusto conocerte | Nice to meet you\n",
    "¿Qué onda con la sexy de la clase de español? | What's up with the sexy girl from the Spanish class?\n",
    "Necesito mucha ayuda en español | I need a lot of help in Spanish\n",
    "Nos vemos en la biblioteca a las 4:00 | See you at the library at 4:00\n",
    "No, porque eres una niña de cinco | No, because you are a five-year-old girl\n",
    "Perfecto, lo haré | Perfect, I will do it\n",
    "¿Por qué sigo gritando? | Why do I keep yelling?\n",
    "No es el mío | It's not mine\n",
    "La gente puede conectar | People can connect\n",
    "Sería insoportable | It would be unbearable\n",
    "Y ahora si me disculpan | And now if you excuse me\n",
    "Me lo merezco | I deserve it\"\"\"\n",
    "\n",
    "beginner_explanations = \"\"\"\"Buenos días\" is the standard greeting for \"Good morning\" in Spanish. It's a polite way to greet someone during the morning hours. | Alternate uses: \"Buenas tardes\" (Good afternoon), \"Buenas noches\" (Good evening/Good night).\n",
    "\"Me llamo Abed\" means \"My name is Abed\" in English. It's a common way to introduce yourself and share your name with someone. | Alternate uses: \"Me llamo [nombre]\" (My name is [name]), \"Mi nombre es [nombre]\" (My name is [name]).\n",
    "\"No se concentra\" means \"She can't concentrate\" in English. It's a statement about someone's inability to focus or pay attention. | Alternate uses: \"No me concentro\" (I can't concentrate), \"No se puede concentrar\" (He/She can't concentrate).\n",
    "\"Háblame de ti\" means \"Tell me about yourself\" in English. It's a request to share personal information or experiences. | Alternate uses: \"Háblame de tu familia\" (Tell me about your family), \"Háblame de tu trabajo\" (Tell me about your job).\n",
    "The translation is correct because \"un placer\" means \"a pleasure\" and \"sí\" means \"yes\". | Alternate uses: sí, gracias (yes, thank you), sí, por favor (yes, please)\n",
    "The translation is correct because \"adiós\" means \"goodbye\". | Alternate uses: hasta luego (see you later), hasta pronto (see you soon), nos vemos (see you)\n",
    "The translation is correct because \"estás\" means \"you are\" and \"listo\" means \"ready\". | Alternate uses: estoy listo (I am ready), está listo (he/she is ready), estamos listos (we are ready), están listos (they are ready)\n",
    "The translation is correct because \"muy bien\" means \"very good\". | Alternate uses: muy mal (very bad), bastante bien (pretty good), un poco bien (a little good)\n",
    "The translation is correct because \"mucho gusto\" means \"nice to meet you\". | Alternate uses: encantado/a (pleased to meet you), es un placer conocerte (it's a pleasure to meet you), gusto en conocerte (pleasure meeting you)\n",
    "\"Por la misma razón\" translates to \"For the same reason\" because \"por\" means \"for,\" \"la\" means \"the,\" and \"razón\" means \"reason.\" | Alternate uses: \"por la misma calle\" (down the same street), \"por la misma persona\" (by the same person)\n",
    "\"Necesitamos gente motivada\" translates to \"We need motivated people\" because \"necesitamos\" is the first person plural conjugation of \"necesitar\" (to need) and \"gente motivada\" means \"motivated people.\" | Alternate uses: \"necesitamos comida\" (we need food), \"necesitamos ayuda\" (we need help)\n",
    "\"No tengo un grupo\" translates to \"I don't have a group\" because \"no\" means \"not,\" \"tengo\" is the first person singular conjugation of \"tener\" (to have), \"un\" means \"a,\" and \"grupo\" means \"group.\" | Alternate uses: \"no tengo un perro\" (I don't have a dog), \"no tengo un libro\" (I don't have a book)\n",
    "\"Vamos, estudiemos\" translates to \"Let's go, let's study\" because \"vamos\" is the first person plural conjugation of \"ir\" (to go) used for encouragement, and \"estudiemos\" is the first person plural conjugation of \"estudiar\" (to study) used for suggestions. | Alternate uses: \"vamos, trabajemos\" (let's go, let's work), \"vamos, comamos\" (let's go, let's eat)\"\"\"\n",
    "time_beginner = [40874166.0,651901250.0,894226666.0,2884548332.0,4383962916.0,4383962916.0,4951196250.0,2687685000.0,5468796666.0,8710368332.0,9060718332.0,10458781666.0,12323978332.0\n",
    "]\n",
    "time_inter = [166833332.0,670252916.0,767433332.0,2523354166.0,2575072500.0,4331410416.0,4364777082.0,4431927500.0,4982894582.0,8804212082.0,8988980000.0,10058381666.0,11405977916.0]\n",
    "inter_explanations = \"\"\"¿Qué es la universidad comunitaria?\" means \"What is community college?\" in English. It's a question asking for an explanation or definition of a community college. | Alternate uses: \"¿Qué es una escuela secundaria?\" (What is a high school?), \"¿Qué es una universidad?\" (What is a university?).\n",
    "\"Me da gusto conocerte\" means \"Nice to meet you\" in English. It's a polite expression used when meeting someone for the first time. | Alternate uses: \"Mucho gusto\" (Nice to meet you), \"Encantado/a\" (Pleased to meet you).\n",
    "\"¿Qué onda con la sexy de la clase de español?\" means \"What's up with the sexy girl from the Spanish class?\" in English. \"¿Qué onda?\" is an informal way of asking \"What's up?\" or \"What's going on?\" | Alternate uses: \"¿Qué onda con [nombre]?\" (What's up with [name]?), \"¿Qué pasa con [nombre]?\" (What's going on with [name]?).\n",
    "\"Necesito mucha ayuda en español\" means \"I need a lot of help in Spanish\" in English. It's a statement expressing a need for assistance or support in learning the Spanish language. | Alternate uses: \"Necesito ayuda en matemáticas\" (I need help in math), \"Necesitamos ayuda en inglés\" (We need help in English).\n",
    "\"Nos vemos en la biblioteca a las 4:00\" means \"See you at the library at 4:00\" in English. It's a statement indicating a meeting place and time. | Alternate uses: \"Nos vemos en el parque a las 3:00\" (See you at the park at 3:00), \"Nos vemos en la escuela a las 8:00\" (See you at school at 8:00).\n",
    "The translation is correct because \"eres\" means \"you are\" and \"niña de cinco\" means \"five-year-old girl\". | Alternate uses: él/ella es (he/she is), nosotros/nosotras somos (we are), ellos/ellas son (they are), ustedes son (you all are)\n",
    "The translation is correct because \"lo haré\" means \"I will do it\" and \"perfecto\" means \"perfect\". | Alternate uses: lo harás (you will do it), lo hará (he/she will do it), lo haremos (we will do it), lo harán (they will do it)\n",
    "The translation is correct because \"por qué\" means \"why\", \"sigo\" means \"I keep\", and \"gritando\" means \"yelling\". | Alternate uses: sigue gritando (he/she keeps yelling), siguen gritando (they keep yelling)\n",
    "The translation is correct because \"no es\" means \"it's not\" and \"el mío\" means \"mine\". | Alternate uses: no es el tuyo (it's not yours), no es el suyo (it's not his/hers), no es el nuestro (it's not ours), no es el de ellos (it's not theirs)\n",
    "\"La gente puede conectar\" translates to \"People can connect\" because \"la gente\" means \"people,\" \"puede\" is the third person singular conjugation of \"poder\" (can), and \"conectar\" means \"connect.\" | Alternate uses: \"la gente puede hablar\" (people can talk), \"la gente puede comer\" (people can eat)\n",
    "\"Sería insoportable\" translates to \"It would be unbearable\" because \"sería\" is the conditional form of \"ser\" (to be) and \"insoportable\" means \"unbearable.\" | Alternate uses: \"sería increíble\" (it would be incredible), \"sería difícil\" (it would be difficult)\n",
    "\"Y ahora si me disculpan\" translates to \"And now if you excuse me\" because \"y\" means \"and,\" \"ahora\" means \"now,\" \"si\" means \"if,\" \"me\" is the reflexive pronoun for the speaker, and \"disculpan\" is the third person plural conjugation of \"disculpar\" (to excuse). | Alternate uses: \"si me perdonan\" (if you forgive me), \"si me entienden\" (if you understand me)\n",
    "\"Me lo merezco\" translates to \"I deserve it\" because \"me\" is the reflexive pronoun for the speaker, \"lo\" is a direct object pronoun meaning \"it,\" and \"merezco\" is the first person singular conjugation of \"merecer\" (to deserve). | Alternate uses: \"te lo mereces\" (you deserve it), \"se lo merece\" (he/she deserves it)\"\"\"\n",
    "beginner_explanations = beginner_explanations.split(\"\\n\")\n",
    "inter_explanations = inter_explanations.split(\"\\n\")"
   ]
  },
  {
   "cell_type": "code",
   "execution_count": 2,
   "metadata": {},
   "outputs": [
    {
     "data": {
      "text/plain": [
       "['Buenos días | Good morning ',\n",
       " 'Me llamo Abed | My name is Abed',\n",
       " \"No se concentra | She can't concentrate\",\n",
       " 'Háblame de ti | Tell me about yourself',\n",
       " 'Sí, un placer | Yes, a pleasure',\n",
       " 'Adiós | Goodbye',\n",
       " '¿Estás listo? | Are you ready?',\n",
       " 'Muy bien | Very good',\n",
       " 'Mucho gusto | Nice to meet you',\n",
       " 'Por la misma razón | For the same reason',\n",
       " 'Necesitamos gente motivada | We need motivated people',\n",
       " \"No tengo un grupo | I don't have a group\",\n",
       " \"Vamos, estudiemos | Let's go, let's study\"]"
      ]
     },
     "execution_count": 2,
     "metadata": {},
     "output_type": "execute_result"
    }
   ],
   "source": [
    "vocab_beginner.split('\\n')"
   ]
  },
  {
   "cell_type": "code",
   "execution_count": 3,
   "metadata": {},
   "outputs": [
    {
     "data": {
      "text/plain": [
       "['¿Qué es la universidad comunitaria? | What is community college?',\n",
       " 'Me da gusto conocerte | Nice to meet you',\n",
       " \"¿Qué onda con la sexy de la clase de español? | What's up with the sexy girl from the Spanish class?\",\n",
       " 'Necesito mucha ayuda en español | I need a lot of help in Spanish',\n",
       " 'Nos vemos en la biblioteca a las 4:00 | See you at the library at 4:00',\n",
       " 'No, porque eres una niña de cinco | No, because you are a five-year-old girl',\n",
       " 'Perfecto, lo haré | Perfect, I will do it',\n",
       " '¿Por qué sigo gritando? | Why do I keep yelling?',\n",
       " \"No es el mío | It's not mine\",\n",
       " 'La gente puede conectar | People can connect',\n",
       " 'Sería insoportable | It would be unbearable',\n",
       " 'Y ahora si me disculpan | And now if you excuse me',\n",
       " 'Me lo merezco | I deserve it']"
      ]
     },
     "execution_count": 3,
     "metadata": {},
     "output_type": "execute_result"
    }
   ],
   "source": [
    "vocab_inter.split('\\n')"
   ]
  },
  {
   "cell_type": "code",
   "execution_count": 4,
   "metadata": {},
   "outputs": [],
   "source": [
    "i = 0\n",
    "entries = []\n",
    "for row,timestamp,explanation in zip(vocab_beginner.split(\"\\n\"), time_beginner, beginner_explanations):\n",
    "    outs = [x.strip() for x in row.split(\"|\") if x.strip()]\n",
    "    if len(outs) != 2:\n",
    "        continue\n",
    "    spanish, english = outs\n",
    "    entries.append( f\"({i},0,'{english}','{spanish}',{int(timestamp)},0,'{explanation}'),\")\n",
    "    i+=1\n",
    "for row,timestamp,explanation in zip(vocab_inter.split(\"\\n\"), time_inter, inter_explanations):\n",
    "    outs = [x.strip() for x in row.split(\"|\") if x.strip()]\n",
    "    if len(outs) != 2:\n",
    "        continue\n",
    "    spanish, english = outs\n",
    "    entries.append(f'({i},0,\"{english}\",\"{spanish}\",{int(timestamp)},0,\\'{explanation}\\')')\n",
    "    i+=1"
   ]
  },
  {
   "cell_type": "code",
   "execution_count": 5,
   "metadata": {},
   "outputs": [
    {
     "data": {
      "text/plain": [
       "449"
      ]
     },
     "execution_count": 5,
     "metadata": {},
     "output_type": "execute_result"
    }
   ],
   "source": [
    "max([len(x) for x in entries])"
   ]
  },
  {
   "cell_type": "code",
   "execution_count": 83,
   "metadata": {},
   "outputs": [
    {
     "name": "stdout",
     "output_type": "stream",
     "text": [
      "(0,0,'Good morning','Buenos días',40874166,0,'\"Buenos días\" is the standard greeting for \"Good morning\" in Spanish. It's a polite way to greet someone during the morning hours. | Alternate uses: \"Buenas tardes\" (Good afternoon), \"Buenas noches\" (Good evening/Good night).'),\n",
      "(1,0,'My name is Abed','Me llamo Abed',651901250,0,'\"Me llamo Abed\" means \"My name is Abed\" in English. It's a common way to introduce yourself and share your name with someone. | Alternate uses: \"Me llamo [nombre]\" (My name is [name]), \"Mi nombre es [nombre]\" (My name is [name]).'),\n",
      "(2,0,'She can't concentrate','No se concentra',894226666,0,'\"No se concentra\" means \"She can't concentrate\" in English. It's a statement about someone's inability to focus or pay attention. | Alternate uses: \"No me concentro\" (I can't concentrate), \"No se puede concentrar\" (He/She can't concentrate).'),\n",
      "(3,0,'Tell me about yourself','Háblame de ti',2884548332,0,'\"Háblame de ti\" means \"Tell me about yourself\" in English. It's a request to share personal information or experiences. | Alternate uses: \"Háblame de tu familia\" (Tell me about your family), \"Háblame de tu trabajo\" (Tell me about your job).'),\n",
      "(4,0,'Yes, a pleasure','Sí, un placer',4383962916,0,'The translation is correct because \"un placer\" means \"a pleasure\" and \"sí\" means \"yes\". | Alternate uses: sí, gracias (yes, thank you), sí, por favor (yes, please)'),\n",
      "(5,0,'Goodbye','Adiós',4383962916,0,'The translation is correct because \"adiós\" means \"goodbye\". | Alternate uses: hasta luego (see you later), hasta pronto (see you soon), nos vemos (see you)'),\n",
      "(6,0,'Are you ready?','¿Estás listo?',4951196250,0,'The translation is correct because \"estás\" means \"you are\" and \"listo\" means \"ready\". | Alternate uses: estoy listo (I am ready), está listo (he/she is ready), estamos listos (we are ready), están listos (they are ready)'),\n",
      "(7,0,'Very good','Muy bien',2687685000,0,'The translation is correct because \"muy bien\" means \"very good\". | Alternate uses: muy mal (very bad), bastante bien (pretty good), un poco bien (a little good)'),\n",
      "(8,0,'Nice to meet you','Mucho gusto',5468796666,0,'The translation is correct because \"mucho gusto\" means \"nice to meet you\". | Alternate uses: encantado/a (pleased to meet you), es un placer conocerte (it's a pleasure to meet you), gusto en conocerte (pleasure meeting you)'),\n",
      "(9,0,'For the same reason','Por la misma razón',8710368332,0,'\"Por la misma razón\" translates to \"For the same reason\" because \"por\" means \"for,\" \"la\" means \"the,\" and \"razón\" means \"reason.\" | Alternate uses: \"por la misma calle\" (down the same street), \"por la misma persona\" (by the same person)'),\n",
      "(10,0,'We need motivated people','Necesitamos gente motivada',9060718332,0,'\"Necesitamos gente motivada\" translates to \"We need motivated people\" because \"necesitamos\" is the first person plural conjugation of \"necesitar\" (to need) and \"gente motivada\" means \"motivated people.\" | Alternate uses: \"necesitamos comida\" (we need food), \"necesitamos ayuda\" (we need help)'),\n",
      "(11,0,'I don't have a group','No tengo un grupo',10458781666,0,'\"No tengo un grupo\" translates to \"I don't have a group\" because \"no\" means \"not,\" \"tengo\" is the first person singular conjugation of \"tener\" (to have), \"un\" means \"a,\" and \"grupo\" means \"group.\" | Alternate uses: \"no tengo un perro\" (I don't have a dog), \"no tengo un libro\" (I don't have a book)'),\n",
      "(12,0,'Let's go, let's study','Vamos, estudiemos',12323978332,0,'\"Vamos, estudiemos\" translates to \"Let's go, let's study\" because \"vamos\" is the first person plural conjugation of \"ir\" (to go) used for encouragement, and \"estudiemos\" is the first person plural conjugation of \"estudiar\" (to study) used for suggestions. | Alternate uses: \"vamos, trabajemos\" (let's go, let's work), \"vamos, comamos\" (let's go, let's eat)'),\n",
      "(13,0,\"What is community college?\",\"¿Qué es la universidad comunitaria?\",166833332,0,'¿Qué es la universidad comunitaria?\" means \"What is community college?\" in English. It's a question asking for an explanation or definition of a community college. | Alternate uses: \"¿Qué es una escuela secundaria?\" (What is a high school?), \"¿Qué es una universidad?\" (What is a university?).')\n",
      "(14,0,\"Nice to meet you\",\"Me da gusto conocerte\",670252916,0,'\"Me da gusto conocerte\" means \"Nice to meet you\" in English. It's a polite expression used when meeting someone for the first time. | Alternate uses: \"Mucho gusto\" (Nice to meet you), \"Encantado/a\" (Pleased to meet you).')\n",
      "(15,0,\"What's up with the sexy girl from the Spanish class?\",\"¿Qué onda con la sexy de la clase de español?\",767433332,0,'\"¿Qué onda con la sexy de la clase de español?\" means \"What's up with the sexy girl from the Spanish class?\" in English. \"¿Qué onda?\" is an informal way of asking \"What's up?\" or \"What's going on?\" | Alternate uses: \"¿Qué onda con [nombre]?\" (What's up with [name]?), \"¿Qué pasa con [nombre]?\" (What's going on with [name]?).')\n",
      "(16,0,\"I need a lot of help in Spanish\",\"Necesito mucha ayuda en español\",2523354166,0,'\"Necesito mucha ayuda en español\" means \"I need a lot of help in Spanish\" in English. It's a statement expressing a need for assistance or support in learning the Spanish language. | Alternate uses: \"Necesito ayuda en matemáticas\" (I need help in math), \"Necesitamos ayuda en inglés\" (We need help in English).')\n",
      "(17,0,\"See you at the library at 4:00\",\"Nos vemos en la biblioteca a las 4:00\",2575072500,0,'\"Nos vemos en la biblioteca a las 4:00\" means \"See you at the library at 4:00\" in English. It's a statement indicating a meeting place and time. | Alternate uses: \"Nos vemos en el parque a las 3:00\" (See you at the park at 3:00), \"Nos vemos en la escuela a las 8:00\" (See you at school at 8:00).')\n",
      "(18,0,\"No, because you are a five-year-old girl\",\"No, porque eres una niña de cinco\",4331410416,0,'The translation is correct because \"eres\" means \"you are\" and \"niña de cinco\" means \"five-year-old girl\". | Alternate uses: él/ella es (he/she is), nosotros/nosotras somos (we are), ellos/ellas son (they are), ustedes son (you all are)')\n",
      "(19,0,\"Perfect, I will do it\",\"Perfecto, lo haré\",4364777082,0,'The translation is correct because \"lo haré\" means \"I will do it\" and \"perfecto\" means \"perfect\". | Alternate uses: lo harás (you will do it), lo hará (he/she will do it), lo haremos (we will do it), lo harán (they will do it)')\n",
      "(20,0,\"Why do I keep yelling?\",\"¿Por qué sigo gritando?\",4431927500,0,'The translation is correct because \"por qué\" means \"why\", \"sigo\" means \"I keep\", and \"gritando\" means \"yelling\". | Alternate uses: sigue gritando (he/she keeps yelling), siguen gritando (they keep yelling)')\n",
      "(21,0,\"It's not mine\",\"No es el mío\",4982894582,0,'The translation is correct because \"no es\" means \"it's not\" and \"el mío\" means \"mine\". | Alternate uses: no es el tuyo (it's not yours), no es el suyo (it's not his/hers), no es el nuestro (it's not ours), no es el de ellos (it's not theirs)')\n",
      "(22,0,\"People can connect\",\"La gente puede conectar\",8804212082,0,'\"La gente puede conectar\" translates to \"People can connect\" because \"la gente\" means \"people,\" \"puede\" is the third person singular conjugation of \"poder\" (can), and \"conectar\" means \"connect.\" | Alternate uses: \"la gente puede hablar\" (people can talk), \"la gente puede comer\" (people can eat)')\n",
      "(23,0,\"It would be unbearable\",\"Sería insoportable\",8988980000,0,'\"Sería insoportable\" translates to \"It would be unbearable\" because \"sería\" is the conditional form of \"ser\" (to be) and \"insoportable\" means \"unbearable.\" | Alternate uses: \"sería increíble\" (it would be incredible), \"sería difícil\" (it would be difficult)')\n",
      "(24,0,\"And now if you excuse me\",\"Y ahora si me disculpan\",10058381666,0,'\"Y ahora si me disculpan\" translates to \"And now if you excuse me\" because \"y\" means \"and,\" \"ahora\" means \"now,\" \"si\" means \"if,\" \"me\" is the reflexive pronoun for the speaker, and \"disculpan\" is the third person plural conjugation of \"disculpar\" (to excuse). | Alternate uses: \"si me perdonan\" (if you forgive me), \"si me entienden\" (if you understand me)')\n",
      "(25,0,\"I deserve it\",\"Me lo merezco\",11405977916,0,'\"Me lo merezco\" translates to \"I deserve it\" because \"me\" is the reflexive pronoun for the speaker, \"lo\" is a direct object pronoun meaning \"it,\" and \"merezco\" is the first person singular conjugation of \"merecer\" (to deserve). | Alternate uses: \"te lo mereces\" (you deserve it), \"se lo merece\" (he/she deserves it)')\n"
     ]
    }
   ],
   "source": [
    "for e in entries:\n",
    "    print(e)"
   ]
  },
  {
   "cell_type": "code",
   "execution_count": 28,
   "metadata": {},
   "outputs": [
    {
     "data": {
      "text/plain": [
       "['Está descalificado como abogado y necesita un título, Está buscando un nuevo trabajo, Está interesado en aprender español, Está interesado en conocer a una mujer',\n",
       " 'He is disqualified as a lawyer and needs a degree, He is looking for a new job, He is interested in learning Spanish, He is interested in meeting a woman',\n",
       " 'Usar su amistad con el Dr. Duncan, Sobornar a sus profesores, Copiar de otros estudiantes, Estudiar duro',\n",
       " 'Use his friendship with Dr. Duncan, Bribe his professors, Copy from other students, Study hard',\n",
       " 'La importancia de la honestidad, La importancia de la segunda oportunidad, La importancia de la amistad, La importancia del trabajo en equipo',\n",
       " 'The importance of honesty, The importance of a second chance, The importance of friendship, The importance of teamwork',\n",
       " 'No la invitaron, No le gusta la gente del grupo, No quiere estudiar español, No quiere compartir sus respuestas',\n",
       " \"They didn't invite her, She doesn't like the people in the group, She doesn't want to study Spanish, She doesn't want to share her answers\",\n",
       " 'Admite que no tiene las respuestas y necesita ayuda, Ofrece pagar por la comida, Promete no mentir más, Invita a todos a una fiesta',\n",
       " \"Admits he doesn't have the answers and needs help, Offers to pay for food, Promises not to lie anymore, Invites everyone to a party\"]"
      ]
     },
     "execution_count": 28,
     "metadata": {},
     "output_type": "execute_result"
    }
   ],
   "source": [
    "answers = \"\"\"Está descalificado como abogado y necesita un título, Está buscando un nuevo trabajo, Está interesado en aprender español, Está interesado en conocer a una mujer\n",
    "\n",
    "He is disqualified as a lawyer and needs a degree, He is looking for a new job, He is interested in learning Spanish, He is interested in meeting a woman\n",
    "\n",
    "Usar su amistad con el Dr. Duncan, Sobornar a sus profesores, Copiar de otros estudiantes, Estudiar duro\n",
    "\n",
    "Use his friendship with Dr. Duncan, Bribe his professors, Copy from other students, Study hard\n",
    "\n",
    "La importancia de la honestidad, La importancia de la segunda oportunidad, La importancia de la amistad, La importancia del trabajo en equipo\n",
    "\n",
    "The importance of honesty, The importance of a second chance, The importance of friendship, The importance of teamwork\n",
    "\n",
    "No la invitaron, No le gusta la gente del grupo, No quiere estudiar español, No quiere compartir sus respuestas\n",
    "\n",
    "They didn't invite her, She doesn't like the people in the group, She doesn't want to study Spanish, She doesn't want to share her answers\n",
    "\n",
    "Admite que no tiene las respuestas y necesita ayuda, Ofrece pagar por la comida, Promete no mentir más, Invita a todos a una fiesta\n",
    "\n",
    "Admits he doesn't have the answers and needs help, Offers to pay for food, Promises not to lie anymore, Invites everyone to a party\n",
    "\"\"\"\n",
    "answers = [l for l in answers.split(\"\\n\") if l != \"\"]\n",
    "answers"
   ]
  },
  {
   "cell_type": "code",
   "execution_count": 29,
   "metadata": {},
   "outputs": [],
   "source": [
    "spanish_answers = answers[::2]\n",
    "english_answers = answers[1::2]"
   ]
  },
  {
   "cell_type": "code",
   "execution_count": 33,
   "metadata": {},
   "outputs": [
    {
     "name": "stdout",
     "output_type": "stream",
     "text": [
      "(0,0,\"He is disqualified as a lawyer and needs a degree\",\"Está descalificado como abogado y necesita un título\",0),\n",
      "(1,0,\"He is looking for a new job\",\"Está buscando un nuevo trabajo\",0),\n",
      "(2,0,\"He is interested in learning Spanish\",\"Está interesado en aprender español\",0),\n",
      "(3,0,\"He is interested in meeting a woman\",\"Está interesado en conocer a una mujer\",0),\n",
      "(4,1,\"Use his friendship with Dr. Duncan\",\"Usar su amistad con el Dr. Duncan\",0),\n",
      "(5,1,\"Bribe his professors\",\"Sobornar a sus profesores\",0),\n",
      "(6,1,\"Copy from other students\",\"Copiar de otros estudiantes\",0),\n",
      "(7,1,\"Study hard\",\"Estudiar duro\",0),\n",
      "(8,2,\"The importance of honesty\",\"La importancia de la honestidad\",0),\n",
      "(9,2,\"The importance of a second chance\",\"La importancia de la segunda oportunidad\",0),\n",
      "(10,2,\"The importance of friendship\",\"La importancia de la amistad\",0),\n",
      "(11,2,\"The importance of teamwork\",\"La importancia del trabajo en equipo\",0),\n",
      "(12,3,\"They didn't invite her\",\"No la invitaron\",0),\n",
      "(13,3,\"She doesn't like the people in the group\",\"No le gusta la gente del grupo\",0),\n",
      "(14,3,\"She doesn't want to study Spanish\",\"No quiere estudiar español\",0),\n",
      "(15,3,\"She doesn't want to share her answers\",\"No quiere compartir sus respuestas\",0),\n",
      "(16,4,\"Admits he doesn't have the answers and needs help\",\"Admite que no tiene las respuestas y necesita ayuda\",0),\n",
      "(17,4,\"Offers to pay for food\",\"Ofrece pagar por la comida\",0),\n",
      "(18,4,\"Promises not to lie anymore\",\"Promete no mentir más\",0),\n",
      "(19,4,\"Invites everyone to a party\",\"Invita a todos a una fiesta\",0),\n"
     ]
    }
   ],
   "source": [
    "spanish_groups = [s.split(\",\") for s in spanish_answers]\n",
    "english_groups = [s.split(\",\") for s in english_answers]\n",
    "i=0\n",
    "for s, e in zip(spanish_groups, english_groups):\n",
    "    for ss, ee in zip(s, e):\n",
    "        print(f'({i},{i//4},\"{ee.strip()}\",\"{ss.strip()}\",0),')\n",
    "        i+=1"
   ]
  },
  {
   "cell_type": "code",
   "execution_count": null,
   "metadata": {},
   "outputs": [],
   "source": []
  }
 ],
 "metadata": {
  "kernelspec": {
   "display_name": "ds",
   "language": "python",
   "name": "python3"
  },
  "language_info": {
   "codemirror_mode": {
    "name": "ipython",
    "version": 3
   },
   "file_extension": ".py",
   "mimetype": "text/x-python",
   "name": "python",
   "nbconvert_exporter": "python",
   "pygments_lexer": "ipython3",
   "version": "3.9.12"
  },
  "orig_nbformat": 4
 },
 "nbformat": 4,
 "nbformat_minor": 2
}
